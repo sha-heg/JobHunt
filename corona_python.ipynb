{
 "cells": [
  {
   "cell_type": "markdown",
   "metadata": {},
   "source": [
    "# Data Analysis Covid-19\n",
    "### Hello I am Shamanth\n",
    " \n",
    "I have done some data analysis project about the corona virus impact in India. the datasets contain data till march 29. \n",
    "Again this is just a simple project to show off my skills.\n",
    "\n",
    "<ul> <h1>Some of the  observation</h1>\n",
    "    <li> Total cases till march 29 is arount 729</li>\n",
    "    <li> Active cases till march 29 is arount 665</li>\n",
    "    </ul>"
   ]
  },
  {
   "cell_type": "code",
   "execution_count": 1,
   "metadata": {},
   "outputs": [],
   "source": [
    "import plotly\n",
    "import pandas as pd\n",
    "import plotly.express as px\n",
    "import plotly.graph_objects as go\n",
    "import matplotlib.pyplot as plt\n",
    "import folium # for using maps \n",
    "import cufflinks as cf # it will connects the pands to plotly\n",
    "import plotly.offline as po\n",
    "from plotly.offline import init_notebook_mode,plot,iplot\n",
    "from matplotlib import style \n",
    "style.use('ggplot')\n",
    "import numpy as np"
   ]
  },
  {
   "cell_type": "code",
   "execution_count": 2,
   "metadata": {
    "scrolled": true
   },
   "outputs": [
    {
     "data": {
      "text/html": [
       "        <script type=\"text/javascript\">\n",
       "        window.PlotlyConfig = {MathJaxConfig: 'local'};\n",
       "        if (window.MathJax) {MathJax.Hub.Config({SVG: {font: \"STIX-Web\"}});}\n",
       "        if (typeof require !== 'undefined') {\n",
       "        require.undef(\"plotly\");\n",
       "        requirejs.config({\n",
       "            paths: {\n",
       "                'plotly': ['https://cdn.plot.ly/plotly-latest.min']\n",
       "            }\n",
       "        });\n",
       "        require(['plotly'], function(Plotly) {\n",
       "            window._Plotly = Plotly;\n",
       "        });\n",
       "        }\n",
       "        </script>\n",
       "        "
      ]
     },
     "metadata": {},
     "output_type": "display_data"
    },
    {
     "data": {
      "text/html": [
       "        <script type=\"text/javascript\">\n",
       "        window.PlotlyConfig = {MathJaxConfig: 'local'};\n",
       "        if (window.MathJax) {MathJax.Hub.Config({SVG: {font: \"STIX-Web\"}});}\n",
       "        if (typeof require !== 'undefined') {\n",
       "        require.undef(\"plotly\");\n",
       "        requirejs.config({\n",
       "            paths: {\n",
       "                'plotly': ['https://cdn.plot.ly/plotly-latest.min']\n",
       "            }\n",
       "        });\n",
       "        require(['plotly'], function(Plotly) {\n",
       "            window._Plotly = Plotly;\n",
       "        });\n",
       "        }\n",
       "        </script>\n",
       "        "
      ]
     },
     "metadata": {},
     "output_type": "display_data"
    }
   ],
   "source": [
    "po.init_notebook_mode(connected=True)\n",
    "cf.go_offline()"
   ]
  },
  {
   "cell_type": "markdown",
   "metadata": {},
   "source": [
    "<p> Dropping the unnecessary columns and adding Total row</p>"
   ]
  },
  {
   "cell_type": "code",
   "execution_count": 3,
   "metadata": {},
   "outputs": [],
   "source": [
    "df=pd.read_excel(r'C:\\Users\\Joker\\Desktop\\COVID-19-Time-Series-Forecasting-with-Data-Analysis-master\\Covid cases in India.xlsx')\n",
    "df.drop(['S. No.'],axis=1,inplace=True)\n",
    "df['Total_Cases']=df['Total Confirmed cases (Indian National)']+df[\"Total Confirmed cases ( Foreign National )\"]"
   ]
  },
  {
   "cell_type": "code",
   "execution_count": 4,
   "metadata": {},
   "outputs": [
    {
     "data": {
      "text/html": [
       "<div>\n",
       "<style scoped>\n",
       "    .dataframe tbody tr th:only-of-type {\n",
       "        vertical-align: middle;\n",
       "    }\n",
       "\n",
       "    .dataframe tbody tr th {\n",
       "        vertical-align: top;\n",
       "    }\n",
       "\n",
       "    .dataframe thead th {\n",
       "        text-align: right;\n",
       "    }\n",
       "</style>\n",
       "<table border=\"1\" class=\"dataframe\">\n",
       "  <thead>\n",
       "    <tr style=\"text-align: right;\">\n",
       "      <th></th>\n",
       "      <th>Name of State / UT</th>\n",
       "      <th>Total Confirmed cases (Indian National)</th>\n",
       "      <th>Total Confirmed cases ( Foreign National )</th>\n",
       "      <th>Cured</th>\n",
       "      <th>Death</th>\n",
       "      <th>Total_Cases</th>\n",
       "    </tr>\n",
       "  </thead>\n",
       "  <tbody>\n",
       "    <tr>\n",
       "      <th>0</th>\n",
       "      <td>Andhra Pradesh</td>\n",
       "      <td>12</td>\n",
       "      <td>0</td>\n",
       "      <td>1</td>\n",
       "      <td>0</td>\n",
       "      <td>12</td>\n",
       "    </tr>\n",
       "    <tr>\n",
       "      <th>1</th>\n",
       "      <td>Chhattisgarh</td>\n",
       "      <td>6</td>\n",
       "      <td>0</td>\n",
       "      <td>0</td>\n",
       "      <td>0</td>\n",
       "      <td>6</td>\n",
       "    </tr>\n",
       "    <tr>\n",
       "      <th>2</th>\n",
       "      <td>Delhi</td>\n",
       "      <td>38</td>\n",
       "      <td>1</td>\n",
       "      <td>6</td>\n",
       "      <td>1</td>\n",
       "      <td>39</td>\n",
       "    </tr>\n",
       "    <tr>\n",
       "      <th>3</th>\n",
       "      <td>Gujarat</td>\n",
       "      <td>43</td>\n",
       "      <td>0</td>\n",
       "      <td>0</td>\n",
       "      <td>3</td>\n",
       "      <td>43</td>\n",
       "    </tr>\n",
       "    <tr>\n",
       "      <th>4</th>\n",
       "      <td>Haryana</td>\n",
       "      <td>16</td>\n",
       "      <td>14</td>\n",
       "      <td>11</td>\n",
       "      <td>0</td>\n",
       "      <td>30</td>\n",
       "    </tr>\n",
       "  </tbody>\n",
       "</table>\n",
       "</div>"
      ],
      "text/plain": [
       "  Name of State / UT  Total Confirmed cases (Indian National)  \\\n",
       "0     Andhra Pradesh                                       12   \n",
       "1       Chhattisgarh                                        6   \n",
       "2              Delhi                                       38   \n",
       "3            Gujarat                                       43   \n",
       "4            Haryana                                       16   \n",
       "\n",
       "   Total Confirmed cases ( Foreign National )  Cured  Death  Total_Cases  \n",
       "0                                           0      1      0           12  \n",
       "1                                           0      0      0            6  \n",
       "2                                           1      6      1           39  \n",
       "3                                           0      0      3           43  \n",
       "4                                          14     11      0           30  "
      ]
     },
     "execution_count": 4,
     "metadata": {},
     "output_type": "execute_result"
    }
   ],
   "source": [
    "df.head()"
   ]
  },
  {
   "cell_type": "code",
   "execution_count": 5,
   "metadata": {},
   "outputs": [
    {
     "data": {
      "text/plain": [
       "729"
      ]
     },
     "execution_count": 5,
     "metadata": {},
     "output_type": "execute_result"
    }
   ],
   "source": [
    "Total_cases_till_march29=df['Total_Cases'].sum()\n",
    "Total_cases_till_march29"
   ]
  },
  {
   "cell_type": "code",
   "execution_count": 6,
   "metadata": {},
   "outputs": [
    {
     "data": {
      "text/plain": [
       "665"
      ]
     },
     "execution_count": 6,
     "metadata": {},
     "output_type": "execute_result"
    }
   ],
   "source": [
    "df['Active_case']=df['Total_Cases']-df['Cured']\n",
    "df['Active_case'].sum()"
   ]
  },
  {
   "cell_type": "code",
   "execution_count": 7,
   "metadata": {},
   "outputs": [
    {
     "data": {
      "text/html": [
       "<style  type=\"text/css\" >\n",
       "    #T_f6134729_0c80_11eb_97fa_d05349dbc8c2row0_col1 {\n",
       "            background-color:  #fee8de;\n",
       "            color:  #000000;\n",
       "        }    #T_f6134729_0c80_11eb_97fa_d05349dbc8c2row0_col2 {\n",
       "            background-color:  #fff5f0;\n",
       "            color:  #000000;\n",
       "        }    #T_f6134729_0c80_11eb_97fa_d05349dbc8c2row0_col3 {\n",
       "            background-color:  #feeae0;\n",
       "            color:  #000000;\n",
       "        }    #T_f6134729_0c80_11eb_97fa_d05349dbc8c2row0_col4 {\n",
       "            background-color:  #fff5f0;\n",
       "            color:  #000000;\n",
       "        }    #T_f6134729_0c80_11eb_97fa_d05349dbc8c2row0_col5 {\n",
       "            background-color:  #fee8de;\n",
       "            color:  #000000;\n",
       "        }    #T_f6134729_0c80_11eb_97fa_d05349dbc8c2row0_col6 {\n",
       "            background-color:  #fee8de;\n",
       "            color:  #000000;\n",
       "        }    #T_f6134729_0c80_11eb_97fa_d05349dbc8c2row1_col1 {\n",
       "            background-color:  #fff0e8;\n",
       "            color:  #000000;\n",
       "        }    #T_f6134729_0c80_11eb_97fa_d05349dbc8c2row1_col2 {\n",
       "            background-color:  #fff5f0;\n",
       "            color:  #000000;\n",
       "        }    #T_f6134729_0c80_11eb_97fa_d05349dbc8c2row1_col3 {\n",
       "            background-color:  #fff5f0;\n",
       "            color:  #000000;\n",
       "        }    #T_f6134729_0c80_11eb_97fa_d05349dbc8c2row1_col4 {\n",
       "            background-color:  #fff5f0;\n",
       "            color:  #000000;\n",
       "        }    #T_f6134729_0c80_11eb_97fa_d05349dbc8c2row1_col5 {\n",
       "            background-color:  #fff0e8;\n",
       "            color:  #000000;\n",
       "        }    #T_f6134729_0c80_11eb_97fa_d05349dbc8c2row1_col6 {\n",
       "            background-color:  #ffefe8;\n",
       "            color:  #000000;\n",
       "        }    #T_f6134729_0c80_11eb_97fa_d05349dbc8c2row2_col1 {\n",
       "            background-color:  #fcb89e;\n",
       "            color:  #000000;\n",
       "        }    #T_f6134729_0c80_11eb_97fa_d05349dbc8c2row2_col2 {\n",
       "            background-color:  #fee9df;\n",
       "            color:  #000000;\n",
       "        }    #T_f6134729_0c80_11eb_97fa_d05349dbc8c2row2_col3 {\n",
       "            background-color:  #fc8a6a;\n",
       "            color:  #000000;\n",
       "        }    #T_f6134729_0c80_11eb_97fa_d05349dbc8c2row2_col4 {\n",
       "            background-color:  #fcbba1;\n",
       "            color:  #000000;\n",
       "        }    #T_f6134729_0c80_11eb_97fa_d05349dbc8c2row2_col5 {\n",
       "            background-color:  #fcb89e;\n",
       "            color:  #000000;\n",
       "        }    #T_f6134729_0c80_11eb_97fa_d05349dbc8c2row2_col6 {\n",
       "            background-color:  #fcbda4;\n",
       "            color:  #000000;\n",
       "        }    #T_f6134729_0c80_11eb_97fa_d05349dbc8c2row3_col1 {\n",
       "            background-color:  #fcad90;\n",
       "            color:  #000000;\n",
       "        }    #T_f6134729_0c80_11eb_97fa_d05349dbc8c2row3_col2 {\n",
       "            background-color:  #fff5f0;\n",
       "            color:  #000000;\n",
       "        }    #T_f6134729_0c80_11eb_97fa_d05349dbc8c2row3_col3 {\n",
       "            background-color:  #fff5f0;\n",
       "            color:  #000000;\n",
       "        }    #T_f6134729_0c80_11eb_97fa_d05349dbc8c2row3_col4 {\n",
       "            background-color:  #ca181d;\n",
       "            color:  #f1f1f1;\n",
       "        }    #T_f6134729_0c80_11eb_97fa_d05349dbc8c2row3_col5 {\n",
       "            background-color:  #fcaf93;\n",
       "            color:  #000000;\n",
       "        }    #T_f6134729_0c80_11eb_97fa_d05349dbc8c2row3_col6 {\n",
       "            background-color:  #fca486;\n",
       "            color:  #000000;\n",
       "        }    #T_f6134729_0c80_11eb_97fa_d05349dbc8c2row4_col1 {\n",
       "            background-color:  #fee4d8;\n",
       "            color:  #000000;\n",
       "        }    #T_f6134729_0c80_11eb_97fa_d05349dbc8c2row4_col2 {\n",
       "            background-color:  #67000d;\n",
       "            color:  #f1f1f1;\n",
       "        }    #T_f6134729_0c80_11eb_97fa_d05349dbc8c2row4_col3 {\n",
       "            background-color:  #d01d1f;\n",
       "            color:  #f1f1f1;\n",
       "        }    #T_f6134729_0c80_11eb_97fa_d05349dbc8c2row4_col4 {\n",
       "            background-color:  #fff5f0;\n",
       "            color:  #000000;\n",
       "        }    #T_f6134729_0c80_11eb_97fa_d05349dbc8c2row4_col5 {\n",
       "            background-color:  #fdcbb6;\n",
       "            color:  #000000;\n",
       "        }    #T_f6134729_0c80_11eb_97fa_d05349dbc8c2row4_col6 {\n",
       "            background-color:  #fedccd;\n",
       "            color:  #000000;\n",
       "        }    #T_f6134729_0c80_11eb_97fa_d05349dbc8c2row5_col1 {\n",
       "            background-color:  #fff2eb;\n",
       "            color:  #000000;\n",
       "        }    #T_f6134729_0c80_11eb_97fa_d05349dbc8c2row5_col2 {\n",
       "            background-color:  #fff5f0;\n",
       "            color:  #000000;\n",
       "        }    #T_f6134729_0c80_11eb_97fa_d05349dbc8c2row5_col3 {\n",
       "            background-color:  #fff5f0;\n",
       "            color:  #000000;\n",
       "        }    #T_f6134729_0c80_11eb_97fa_d05349dbc8c2row5_col4 {\n",
       "            background-color:  #fcbba1;\n",
       "            color:  #000000;\n",
       "        }    #T_f6134729_0c80_11eb_97fa_d05349dbc8c2row5_col5 {\n",
       "            background-color:  #fff2eb;\n",
       "            color:  #000000;\n",
       "        }    #T_f6134729_0c80_11eb_97fa_d05349dbc8c2row5_col6 {\n",
       "            background-color:  #fff2eb;\n",
       "            color:  #000000;\n",
       "        }    #T_f6134729_0c80_11eb_97fa_d05349dbc8c2row6_col1 {\n",
       "            background-color:  #fedecf;\n",
       "            color:  #000000;\n",
       "        }    #T_f6134729_0c80_11eb_97fa_d05349dbc8c2row6_col2 {\n",
       "            background-color:  #fff5f0;\n",
       "            color:  #000000;\n",
       "        }    #T_f6134729_0c80_11eb_97fa_d05349dbc8c2row6_col3 {\n",
       "            background-color:  #fdcab5;\n",
       "            color:  #000000;\n",
       "        }    #T_f6134729_0c80_11eb_97fa_d05349dbc8c2row6_col4 {\n",
       "            background-color:  #fb694a;\n",
       "            color:  #000000;\n",
       "        }    #T_f6134729_0c80_11eb_97fa_d05349dbc8c2row6_col5 {\n",
       "            background-color:  #fedfd0;\n",
       "            color:  #000000;\n",
       "        }    #T_f6134729_0c80_11eb_97fa_d05349dbc8c2row6_col6 {\n",
       "            background-color:  #fee1d3;\n",
       "            color:  #000000;\n",
       "        }    #T_f6134729_0c80_11eb_97fa_d05349dbc8c2row7_col1 {\n",
       "            background-color:  #940b13;\n",
       "            color:  #f1f1f1;\n",
       "        }    #T_f6134729_0c80_11eb_97fa_d05349dbc8c2row7_col2 {\n",
       "            background-color:  #fb694a;\n",
       "            color:  #000000;\n",
       "        }    #T_f6134729_0c80_11eb_97fa_d05349dbc8c2row7_col3 {\n",
       "            background-color:  #d01d1f;\n",
       "            color:  #f1f1f1;\n",
       "        }    #T_f6134729_0c80_11eb_97fa_d05349dbc8c2row7_col4 {\n",
       "            background-color:  #fff5f0;\n",
       "            color:  #000000;\n",
       "        }    #T_f6134729_0c80_11eb_97fa_d05349dbc8c2row7_col5 {\n",
       "            background-color:  #840711;\n",
       "            color:  #f1f1f1;\n",
       "        }    #T_f6134729_0c80_11eb_97fa_d05349dbc8c2row7_col6 {\n",
       "            background-color:  #79040f;\n",
       "            color:  #f1f1f1;\n",
       "        }    #T_f6134729_0c80_11eb_97fa_d05349dbc8c2row8_col1 {\n",
       "            background-color:  #fed8c7;\n",
       "            color:  #000000;\n",
       "        }    #T_f6134729_0c80_11eb_97fa_d05349dbc8c2row8_col2 {\n",
       "            background-color:  #fff5f0;\n",
       "            color:  #000000;\n",
       "        }    #T_f6134729_0c80_11eb_97fa_d05349dbc8c2row8_col3 {\n",
       "            background-color:  #fff5f0;\n",
       "            color:  #000000;\n",
       "        }    #T_f6134729_0c80_11eb_97fa_d05349dbc8c2row8_col4 {\n",
       "            background-color:  #fcbba1;\n",
       "            color:  #000000;\n",
       "        }    #T_f6134729_0c80_11eb_97fa_d05349dbc8c2row8_col5 {\n",
       "            background-color:  #fed9c9;\n",
       "            color:  #000000;\n",
       "        }    #T_f6134729_0c80_11eb_97fa_d05349dbc8c2row8_col6 {\n",
       "            background-color:  #fdd4c2;\n",
       "            color:  #000000;\n",
       "        }    #T_f6134729_0c80_11eb_97fa_d05349dbc8c2row9_col1 {\n",
       "            background-color:  #67000d;\n",
       "            color:  #f1f1f1;\n",
       "        }    #T_f6134729_0c80_11eb_97fa_d05349dbc8c2row9_col2 {\n",
       "            background-color:  #fdc6b0;\n",
       "            color:  #000000;\n",
       "        }    #T_f6134729_0c80_11eb_97fa_d05349dbc8c2row9_col3 {\n",
       "            background-color:  #67000d;\n",
       "            color:  #f1f1f1;\n",
       "        }    #T_f6134729_0c80_11eb_97fa_d05349dbc8c2row9_col4 {\n",
       "            background-color:  #67000d;\n",
       "            color:  #f1f1f1;\n",
       "        }    #T_f6134729_0c80_11eb_97fa_d05349dbc8c2row9_col5 {\n",
       "            background-color:  #67000d;\n",
       "            color:  #f1f1f1;\n",
       "        }    #T_f6134729_0c80_11eb_97fa_d05349dbc8c2row9_col6 {\n",
       "            background-color:  #67000d;\n",
       "            color:  #f1f1f1;\n",
       "        }    #T_f6134729_0c80_11eb_97fa_d05349dbc8c2row10_col1 {\n",
       "            background-color:  #fff3ed;\n",
       "            color:  #000000;\n",
       "        }    #T_f6134729_0c80_11eb_97fa_d05349dbc8c2row10_col2 {\n",
       "            background-color:  #fff5f0;\n",
       "            color:  #000000;\n",
       "        }    #T_f6134729_0c80_11eb_97fa_d05349dbc8c2row10_col3 {\n",
       "            background-color:  #fff5f0;\n",
       "            color:  #000000;\n",
       "        }    #T_f6134729_0c80_11eb_97fa_d05349dbc8c2row10_col4 {\n",
       "            background-color:  #fff5f0;\n",
       "            color:  #000000;\n",
       "        }    #T_f6134729_0c80_11eb_97fa_d05349dbc8c2row10_col5 {\n",
       "            background-color:  #fff3ed;\n",
       "            color:  #000000;\n",
       "        }    #T_f6134729_0c80_11eb_97fa_d05349dbc8c2row10_col6 {\n",
       "            background-color:  #fff3ed;\n",
       "            color:  #000000;\n",
       "        }    #T_f6134729_0c80_11eb_97fa_d05349dbc8c2row11_col1 {\n",
       "            background-color:  #fff5f0;\n",
       "            color:  #000000;\n",
       "        }    #T_f6134729_0c80_11eb_97fa_d05349dbc8c2row11_col2 {\n",
       "            background-color:  #fff5f0;\n",
       "            color:  #000000;\n",
       "        }    #T_f6134729_0c80_11eb_97fa_d05349dbc8c2row11_col3 {\n",
       "            background-color:  #fff5f0;\n",
       "            color:  #000000;\n",
       "        }    #T_f6134729_0c80_11eb_97fa_d05349dbc8c2row11_col4 {\n",
       "            background-color:  #fff5f0;\n",
       "            color:  #000000;\n",
       "        }    #T_f6134729_0c80_11eb_97fa_d05349dbc8c2row11_col5 {\n",
       "            background-color:  #fff5f0;\n",
       "            color:  #000000;\n",
       "        }    #T_f6134729_0c80_11eb_97fa_d05349dbc8c2row11_col6 {\n",
       "            background-color:  #fff5f0;\n",
       "            color:  #000000;\n",
       "        }    #T_f6134729_0c80_11eb_97fa_d05349dbc8c2row12_col1 {\n",
       "            background-color:  #fdcbb6;\n",
       "            color:  #000000;\n",
       "        }    #T_f6134729_0c80_11eb_97fa_d05349dbc8c2row12_col2 {\n",
       "            background-color:  #fff5f0;\n",
       "            color:  #000000;\n",
       "        }    #T_f6134729_0c80_11eb_97fa_d05349dbc8c2row12_col3 {\n",
       "            background-color:  #fff5f0;\n",
       "            color:  #000000;\n",
       "        }    #T_f6134729_0c80_11eb_97fa_d05349dbc8c2row12_col4 {\n",
       "            background-color:  #fcbba1;\n",
       "            color:  #000000;\n",
       "        }    #T_f6134729_0c80_11eb_97fa_d05349dbc8c2row12_col5 {\n",
       "            background-color:  #fdccb8;\n",
       "            color:  #000000;\n",
       "        }    #T_f6134729_0c80_11eb_97fa_d05349dbc8c2row12_col6 {\n",
       "            background-color:  #fdc6b0;\n",
       "            color:  #000000;\n",
       "        }    #T_f6134729_0c80_11eb_97fa_d05349dbc8c2row13_col1 {\n",
       "            background-color:  #fcb296;\n",
       "            color:  #000000;\n",
       "        }    #T_f6134729_0c80_11eb_97fa_d05349dbc8c2row13_col2 {\n",
       "            background-color:  #fedbcc;\n",
       "            color:  #000000;\n",
       "        }    #T_f6134729_0c80_11eb_97fa_d05349dbc8c2row13_col3 {\n",
       "            background-color:  #fdcab5;\n",
       "            color:  #000000;\n",
       "        }    #T_f6134729_0c80_11eb_97fa_d05349dbc8c2row13_col4 {\n",
       "            background-color:  #fff5f0;\n",
       "            color:  #000000;\n",
       "        }    #T_f6134729_0c80_11eb_97fa_d05349dbc8c2row13_col5 {\n",
       "            background-color:  #fcaf93;\n",
       "            color:  #000000;\n",
       "        }    #T_f6134729_0c80_11eb_97fa_d05349dbc8c2row13_col6 {\n",
       "            background-color:  #fcab8f;\n",
       "            color:  #000000;\n",
       "        }    #T_f6134729_0c80_11eb_97fa_d05349dbc8c2row14_col1 {\n",
       "            background-color:  #fdc5ae;\n",
       "            color:  #000000;\n",
       "        }    #T_f6134729_0c80_11eb_97fa_d05349dbc8c2row14_col2 {\n",
       "            background-color:  #fdc6b0;\n",
       "            color:  #000000;\n",
       "        }    #T_f6134729_0c80_11eb_97fa_d05349dbc8c2row14_col3 {\n",
       "            background-color:  #feeae0;\n",
       "            color:  #000000;\n",
       "        }    #T_f6134729_0c80_11eb_97fa_d05349dbc8c2row14_col4 {\n",
       "            background-color:  #fcbba1;\n",
       "            color:  #000000;\n",
       "        }    #T_f6134729_0c80_11eb_97fa_d05349dbc8c2row14_col5 {\n",
       "            background-color:  #fcc1a8;\n",
       "            color:  #000000;\n",
       "        }    #T_f6134729_0c80_11eb_97fa_d05349dbc8c2row14_col6 {\n",
       "            background-color:  #fcbba1;\n",
       "            color:  #000000;\n",
       "        }    #T_f6134729_0c80_11eb_97fa_d05349dbc8c2row15_col1 {\n",
       "            background-color:  #fcc1a8;\n",
       "            color:  #000000;\n",
       "        }    #T_f6134729_0c80_11eb_97fa_d05349dbc8c2row15_col2 {\n",
       "            background-color:  #bf151b;\n",
       "            color:  #f1f1f1;\n",
       "        }    #T_f6134729_0c80_11eb_97fa_d05349dbc8c2row15_col3 {\n",
       "            background-color:  #feeae0;\n",
       "            color:  #000000;\n",
       "        }    #T_f6134729_0c80_11eb_97fa_d05349dbc8c2row15_col4 {\n",
       "            background-color:  #fff5f0;\n",
       "            color:  #000000;\n",
       "        }    #T_f6134729_0c80_11eb_97fa_d05349dbc8c2row15_col5 {\n",
       "            background-color:  #fcaa8d;\n",
       "            color:  #000000;\n",
       "        }    #T_f6134729_0c80_11eb_97fa_d05349dbc8c2row15_col6 {\n",
       "            background-color:  #fca183;\n",
       "            color:  #000000;\n",
       "        }    #T_f6134729_0c80_11eb_97fa_d05349dbc8c2row16_col1 {\n",
       "            background-color:  #ffeee7;\n",
       "            color:  #000000;\n",
       "        }    #T_f6134729_0c80_11eb_97fa_d05349dbc8c2row16_col2 {\n",
       "            background-color:  #fff5f0;\n",
       "            color:  #000000;\n",
       "        }    #T_f6134729_0c80_11eb_97fa_d05349dbc8c2row16_col3 {\n",
       "            background-color:  #fff5f0;\n",
       "            color:  #000000;\n",
       "        }    #T_f6134729_0c80_11eb_97fa_d05349dbc8c2row16_col4 {\n",
       "            background-color:  #fff5f0;\n",
       "            color:  #000000;\n",
       "        }    #T_f6134729_0c80_11eb_97fa_d05349dbc8c2row16_col5 {\n",
       "            background-color:  #ffeee7;\n",
       "            color:  #000000;\n",
       "        }    #T_f6134729_0c80_11eb_97fa_d05349dbc8c2row16_col6 {\n",
       "            background-color:  #ffeee6;\n",
       "            color:  #000000;\n",
       "        }    #T_f6134729_0c80_11eb_97fa_d05349dbc8c2row17_col1 {\n",
       "            background-color:  #fee1d4;\n",
       "            color:  #000000;\n",
       "        }    #T_f6134729_0c80_11eb_97fa_d05349dbc8c2row17_col2 {\n",
       "            background-color:  #fff5f0;\n",
       "            color:  #000000;\n",
       "        }    #T_f6134729_0c80_11eb_97fa_d05349dbc8c2row17_col3 {\n",
       "            background-color:  #feeae0;\n",
       "            color:  #000000;\n",
       "        }    #T_f6134729_0c80_11eb_97fa_d05349dbc8c2row17_col4 {\n",
       "            background-color:  #fcbba1;\n",
       "            color:  #000000;\n",
       "        }    #T_f6134729_0c80_11eb_97fa_d05349dbc8c2row17_col5 {\n",
       "            background-color:  #fee2d5;\n",
       "            color:  #000000;\n",
       "        }    #T_f6134729_0c80_11eb_97fa_d05349dbc8c2row17_col6 {\n",
       "            background-color:  #fee1d3;\n",
       "            color:  #000000;\n",
       "        }    #T_f6134729_0c80_11eb_97fa_d05349dbc8c2row18_col1 {\n",
       "            background-color:  #fee7dc;\n",
       "            color:  #000000;\n",
       "        }    #T_f6134729_0c80_11eb_97fa_d05349dbc8c2row18_col2 {\n",
       "            background-color:  #fff5f0;\n",
       "            color:  #000000;\n",
       "        }    #T_f6134729_0c80_11eb_97fa_d05349dbc8c2row18_col3 {\n",
       "            background-color:  #fff5f0;\n",
       "            color:  #000000;\n",
       "        }    #T_f6134729_0c80_11eb_97fa_d05349dbc8c2row18_col4 {\n",
       "            background-color:  #fff5f0;\n",
       "            color:  #000000;\n",
       "        }    #T_f6134729_0c80_11eb_97fa_d05349dbc8c2row18_col5 {\n",
       "            background-color:  #fee7dc;\n",
       "            color:  #000000;\n",
       "        }    #T_f6134729_0c80_11eb_97fa_d05349dbc8c2row18_col6 {\n",
       "            background-color:  #fee6da;\n",
       "            color:  #000000;\n",
       "        }    #T_f6134729_0c80_11eb_97fa_d05349dbc8c2row19_col1 {\n",
       "            background-color:  #fcaf93;\n",
       "            color:  #000000;\n",
       "        }    #T_f6134729_0c80_11eb_97fa_d05349dbc8c2row19_col2 {\n",
       "            background-color:  #fee9df;\n",
       "            color:  #000000;\n",
       "        }    #T_f6134729_0c80_11eb_97fa_d05349dbc8c2row19_col3 {\n",
       "            background-color:  #d01d1f;\n",
       "            color:  #f1f1f1;\n",
       "        }    #T_f6134729_0c80_11eb_97fa_d05349dbc8c2row19_col4 {\n",
       "            background-color:  #fff5f0;\n",
       "            color:  #000000;\n",
       "        }    #T_f6134729_0c80_11eb_97fa_d05349dbc8c2row19_col5 {\n",
       "            background-color:  #fcaf93;\n",
       "            color:  #000000;\n",
       "        }    #T_f6134729_0c80_11eb_97fa_d05349dbc8c2row19_col6 {\n",
       "            background-color:  #fcbfa7;\n",
       "            color:  #000000;\n",
       "        }    #T_f6134729_0c80_11eb_97fa_d05349dbc8c2row20_col1 {\n",
       "            background-color:  #fff2eb;\n",
       "            color:  #000000;\n",
       "        }    #T_f6134729_0c80_11eb_97fa_d05349dbc8c2row20_col2 {\n",
       "            background-color:  #fff5f0;\n",
       "            color:  #000000;\n",
       "        }    #T_f6134729_0c80_11eb_97fa_d05349dbc8c2row20_col3 {\n",
       "            background-color:  #fff5f0;\n",
       "            color:  #000000;\n",
       "        }    #T_f6134729_0c80_11eb_97fa_d05349dbc8c2row20_col4 {\n",
       "            background-color:  #fff5f0;\n",
       "            color:  #000000;\n",
       "        }    #T_f6134729_0c80_11eb_97fa_d05349dbc8c2row20_col5 {\n",
       "            background-color:  #fff2eb;\n",
       "            color:  #000000;\n",
       "        }    #T_f6134729_0c80_11eb_97fa_d05349dbc8c2row20_col6 {\n",
       "            background-color:  #fff2eb;\n",
       "            color:  #000000;\n",
       "        }    #T_f6134729_0c80_11eb_97fa_d05349dbc8c2row21_col1 {\n",
       "            background-color:  #feeae0;\n",
       "            color:  #000000;\n",
       "        }    #T_f6134729_0c80_11eb_97fa_d05349dbc8c2row21_col2 {\n",
       "            background-color:  #fff5f0;\n",
       "            color:  #000000;\n",
       "        }    #T_f6134729_0c80_11eb_97fa_d05349dbc8c2row21_col3 {\n",
       "            background-color:  #fff5f0;\n",
       "            color:  #000000;\n",
       "        }    #T_f6134729_0c80_11eb_97fa_d05349dbc8c2row21_col4 {\n",
       "            background-color:  #fcbba1;\n",
       "            color:  #000000;\n",
       "        }    #T_f6134729_0c80_11eb_97fa_d05349dbc8c2row21_col5 {\n",
       "            background-color:  #feeae0;\n",
       "            color:  #000000;\n",
       "        }    #T_f6134729_0c80_11eb_97fa_d05349dbc8c2row21_col6 {\n",
       "            background-color:  #fee8de;\n",
       "            color:  #000000;\n",
       "        }    #T_f6134729_0c80_11eb_97fa_d05349dbc8c2row22_col1 {\n",
       "            background-color:  #ffeee7;\n",
       "            color:  #000000;\n",
       "        }    #T_f6134729_0c80_11eb_97fa_d05349dbc8c2row22_col2 {\n",
       "            background-color:  #fff5f0;\n",
       "            color:  #000000;\n",
       "        }    #T_f6134729_0c80_11eb_97fa_d05349dbc8c2row22_col3 {\n",
       "            background-color:  #fff5f0;\n",
       "            color:  #000000;\n",
       "        }    #T_f6134729_0c80_11eb_97fa_d05349dbc8c2row22_col4 {\n",
       "            background-color:  #fcbba1;\n",
       "            color:  #000000;\n",
       "        }    #T_f6134729_0c80_11eb_97fa_d05349dbc8c2row22_col5 {\n",
       "            background-color:  #ffeee7;\n",
       "            color:  #000000;\n",
       "        }    #T_f6134729_0c80_11eb_97fa_d05349dbc8c2row22_col6 {\n",
       "            background-color:  #ffeee6;\n",
       "            color:  #000000;\n",
       "        }    #T_f6134729_0c80_11eb_97fa_d05349dbc8c2row23_col1 {\n",
       "            background-color:  #fff5f0;\n",
       "            color:  #000000;\n",
       "        }    #T_f6134729_0c80_11eb_97fa_d05349dbc8c2row23_col2 {\n",
       "            background-color:  #fff5f0;\n",
       "            color:  #000000;\n",
       "        }    #T_f6134729_0c80_11eb_97fa_d05349dbc8c2row23_col3 {\n",
       "            background-color:  #fff5f0;\n",
       "            color:  #000000;\n",
       "        }    #T_f6134729_0c80_11eb_97fa_d05349dbc8c2row23_col4 {\n",
       "            background-color:  #fff5f0;\n",
       "            color:  #000000;\n",
       "        }    #T_f6134729_0c80_11eb_97fa_d05349dbc8c2row23_col5 {\n",
       "            background-color:  #fff5f0;\n",
       "            color:  #000000;\n",
       "        }    #T_f6134729_0c80_11eb_97fa_d05349dbc8c2row23_col6 {\n",
       "            background-color:  #fff5f0;\n",
       "            color:  #000000;\n",
       "        }    #T_f6134729_0c80_11eb_97fa_d05349dbc8c2row24_col1 {\n",
       "            background-color:  #fff0e8;\n",
       "            color:  #000000;\n",
       "        }    #T_f6134729_0c80_11eb_97fa_d05349dbc8c2row24_col2 {\n",
       "            background-color:  #fff5f0;\n",
       "            color:  #000000;\n",
       "        }    #T_f6134729_0c80_11eb_97fa_d05349dbc8c2row24_col3 {\n",
       "            background-color:  #fff5f0;\n",
       "            color:  #000000;\n",
       "        }    #T_f6134729_0c80_11eb_97fa_d05349dbc8c2row24_col4 {\n",
       "            background-color:  #fff5f0;\n",
       "            color:  #000000;\n",
       "        }    #T_f6134729_0c80_11eb_97fa_d05349dbc8c2row24_col5 {\n",
       "            background-color:  #fff0e8;\n",
       "            color:  #000000;\n",
       "        }    #T_f6134729_0c80_11eb_97fa_d05349dbc8c2row24_col6 {\n",
       "            background-color:  #ffefe8;\n",
       "            color:  #000000;\n",
       "        }    #T_f6134729_0c80_11eb_97fa_d05349dbc8c2row25_col1 {\n",
       "            background-color:  #fff5f0;\n",
       "            color:  #000000;\n",
       "        }    #T_f6134729_0c80_11eb_97fa_d05349dbc8c2row25_col2 {\n",
       "            background-color:  #fff5f0;\n",
       "            color:  #000000;\n",
       "        }    #T_f6134729_0c80_11eb_97fa_d05349dbc8c2row25_col3 {\n",
       "            background-color:  #fff5f0;\n",
       "            color:  #000000;\n",
       "        }    #T_f6134729_0c80_11eb_97fa_d05349dbc8c2row25_col4 {\n",
       "            background-color:  #fff5f0;\n",
       "            color:  #000000;\n",
       "        }    #T_f6134729_0c80_11eb_97fa_d05349dbc8c2row25_col5 {\n",
       "            background-color:  #fff5f0;\n",
       "            color:  #000000;\n",
       "        }    #T_f6134729_0c80_11eb_97fa_d05349dbc8c2row25_col6 {\n",
       "            background-color:  #fff5f0;\n",
       "            color:  #000000;\n",
       "        }</style><table id=\"T_f6134729_0c80_11eb_97fa_d05349dbc8c2\" ><thead>    <tr>        <th class=\"blank level0\" ></th>        <th class=\"col_heading level0 col0\" >Name of State / UT</th>        <th class=\"col_heading level0 col1\" >Total Confirmed cases (Indian National)</th>        <th class=\"col_heading level0 col2\" >Total Confirmed cases ( Foreign National )</th>        <th class=\"col_heading level0 col3\" >Cured</th>        <th class=\"col_heading level0 col4\" >Death</th>        <th class=\"col_heading level0 col5\" >Total_Cases</th>        <th class=\"col_heading level0 col6\" >Active_case</th>    </tr></thead><tbody>\n",
       "                <tr>\n",
       "                        <th id=\"T_f6134729_0c80_11eb_97fa_d05349dbc8c2level0_row0\" class=\"row_heading level0 row0\" >0</th>\n",
       "                        <td id=\"T_f6134729_0c80_11eb_97fa_d05349dbc8c2row0_col0\" class=\"data row0 col0\" >Andhra Pradesh</td>\n",
       "                        <td id=\"T_f6134729_0c80_11eb_97fa_d05349dbc8c2row0_col1\" class=\"data row0 col1\" >12</td>\n",
       "                        <td id=\"T_f6134729_0c80_11eb_97fa_d05349dbc8c2row0_col2\" class=\"data row0 col2\" >0</td>\n",
       "                        <td id=\"T_f6134729_0c80_11eb_97fa_d05349dbc8c2row0_col3\" class=\"data row0 col3\" >1</td>\n",
       "                        <td id=\"T_f6134729_0c80_11eb_97fa_d05349dbc8c2row0_col4\" class=\"data row0 col4\" >0</td>\n",
       "                        <td id=\"T_f6134729_0c80_11eb_97fa_d05349dbc8c2row0_col5\" class=\"data row0 col5\" >12</td>\n",
       "                        <td id=\"T_f6134729_0c80_11eb_97fa_d05349dbc8c2row0_col6\" class=\"data row0 col6\" >11</td>\n",
       "            </tr>\n",
       "            <tr>\n",
       "                        <th id=\"T_f6134729_0c80_11eb_97fa_d05349dbc8c2level0_row1\" class=\"row_heading level0 row1\" >1</th>\n",
       "                        <td id=\"T_f6134729_0c80_11eb_97fa_d05349dbc8c2row1_col0\" class=\"data row1 col0\" >Chhattisgarh</td>\n",
       "                        <td id=\"T_f6134729_0c80_11eb_97fa_d05349dbc8c2row1_col1\" class=\"data row1 col1\" >6</td>\n",
       "                        <td id=\"T_f6134729_0c80_11eb_97fa_d05349dbc8c2row1_col2\" class=\"data row1 col2\" >0</td>\n",
       "                        <td id=\"T_f6134729_0c80_11eb_97fa_d05349dbc8c2row1_col3\" class=\"data row1 col3\" >0</td>\n",
       "                        <td id=\"T_f6134729_0c80_11eb_97fa_d05349dbc8c2row1_col4\" class=\"data row1 col4\" >0</td>\n",
       "                        <td id=\"T_f6134729_0c80_11eb_97fa_d05349dbc8c2row1_col5\" class=\"data row1 col5\" >6</td>\n",
       "                        <td id=\"T_f6134729_0c80_11eb_97fa_d05349dbc8c2row1_col6\" class=\"data row1 col6\" >6</td>\n",
       "            </tr>\n",
       "            <tr>\n",
       "                        <th id=\"T_f6134729_0c80_11eb_97fa_d05349dbc8c2level0_row2\" class=\"row_heading level0 row2\" >2</th>\n",
       "                        <td id=\"T_f6134729_0c80_11eb_97fa_d05349dbc8c2row2_col0\" class=\"data row2 col0\" >Delhi</td>\n",
       "                        <td id=\"T_f6134729_0c80_11eb_97fa_d05349dbc8c2row2_col1\" class=\"data row2 col1\" >38</td>\n",
       "                        <td id=\"T_f6134729_0c80_11eb_97fa_d05349dbc8c2row2_col2\" class=\"data row2 col2\" >1</td>\n",
       "                        <td id=\"T_f6134729_0c80_11eb_97fa_d05349dbc8c2row2_col3\" class=\"data row2 col3\" >6</td>\n",
       "                        <td id=\"T_f6134729_0c80_11eb_97fa_d05349dbc8c2row2_col4\" class=\"data row2 col4\" >1</td>\n",
       "                        <td id=\"T_f6134729_0c80_11eb_97fa_d05349dbc8c2row2_col5\" class=\"data row2 col5\" >39</td>\n",
       "                        <td id=\"T_f6134729_0c80_11eb_97fa_d05349dbc8c2row2_col6\" class=\"data row2 col6\" >33</td>\n",
       "            </tr>\n",
       "            <tr>\n",
       "                        <th id=\"T_f6134729_0c80_11eb_97fa_d05349dbc8c2level0_row3\" class=\"row_heading level0 row3\" >3</th>\n",
       "                        <td id=\"T_f6134729_0c80_11eb_97fa_d05349dbc8c2row3_col0\" class=\"data row3 col0\" >Gujarat</td>\n",
       "                        <td id=\"T_f6134729_0c80_11eb_97fa_d05349dbc8c2row3_col1\" class=\"data row3 col1\" >43</td>\n",
       "                        <td id=\"T_f6134729_0c80_11eb_97fa_d05349dbc8c2row3_col2\" class=\"data row3 col2\" >0</td>\n",
       "                        <td id=\"T_f6134729_0c80_11eb_97fa_d05349dbc8c2row3_col3\" class=\"data row3 col3\" >0</td>\n",
       "                        <td id=\"T_f6134729_0c80_11eb_97fa_d05349dbc8c2row3_col4\" class=\"data row3 col4\" >3</td>\n",
       "                        <td id=\"T_f6134729_0c80_11eb_97fa_d05349dbc8c2row3_col5\" class=\"data row3 col5\" >43</td>\n",
       "                        <td id=\"T_f6134729_0c80_11eb_97fa_d05349dbc8c2row3_col6\" class=\"data row3 col6\" >43</td>\n",
       "            </tr>\n",
       "            <tr>\n",
       "                        <th id=\"T_f6134729_0c80_11eb_97fa_d05349dbc8c2level0_row4\" class=\"row_heading level0 row4\" >4</th>\n",
       "                        <td id=\"T_f6134729_0c80_11eb_97fa_d05349dbc8c2row4_col0\" class=\"data row4 col0\" >Haryana</td>\n",
       "                        <td id=\"T_f6134729_0c80_11eb_97fa_d05349dbc8c2row4_col1\" class=\"data row4 col1\" >16</td>\n",
       "                        <td id=\"T_f6134729_0c80_11eb_97fa_d05349dbc8c2row4_col2\" class=\"data row4 col2\" >14</td>\n",
       "                        <td id=\"T_f6134729_0c80_11eb_97fa_d05349dbc8c2row4_col3\" class=\"data row4 col3\" >11</td>\n",
       "                        <td id=\"T_f6134729_0c80_11eb_97fa_d05349dbc8c2row4_col4\" class=\"data row4 col4\" >0</td>\n",
       "                        <td id=\"T_f6134729_0c80_11eb_97fa_d05349dbc8c2row4_col5\" class=\"data row4 col5\" >30</td>\n",
       "                        <td id=\"T_f6134729_0c80_11eb_97fa_d05349dbc8c2row4_col6\" class=\"data row4 col6\" >19</td>\n",
       "            </tr>\n",
       "            <tr>\n",
       "                        <th id=\"T_f6134729_0c80_11eb_97fa_d05349dbc8c2level0_row5\" class=\"row_heading level0 row5\" >5</th>\n",
       "                        <td id=\"T_f6134729_0c80_11eb_97fa_d05349dbc8c2row5_col0\" class=\"data row5 col0\" >Himachal Pradesh</td>\n",
       "                        <td id=\"T_f6134729_0c80_11eb_97fa_d05349dbc8c2row5_col1\" class=\"data row5 col1\" >4</td>\n",
       "                        <td id=\"T_f6134729_0c80_11eb_97fa_d05349dbc8c2row5_col2\" class=\"data row5 col2\" >0</td>\n",
       "                        <td id=\"T_f6134729_0c80_11eb_97fa_d05349dbc8c2row5_col3\" class=\"data row5 col3\" >0</td>\n",
       "                        <td id=\"T_f6134729_0c80_11eb_97fa_d05349dbc8c2row5_col4\" class=\"data row5 col4\" >1</td>\n",
       "                        <td id=\"T_f6134729_0c80_11eb_97fa_d05349dbc8c2row5_col5\" class=\"data row5 col5\" >4</td>\n",
       "                        <td id=\"T_f6134729_0c80_11eb_97fa_d05349dbc8c2row5_col6\" class=\"data row5 col6\" >4</td>\n",
       "            </tr>\n",
       "            <tr>\n",
       "                        <th id=\"T_f6134729_0c80_11eb_97fa_d05349dbc8c2level0_row6\" class=\"row_heading level0 row6\" >6</th>\n",
       "                        <td id=\"T_f6134729_0c80_11eb_97fa_d05349dbc8c2row6_col0\" class=\"data row6 col0\" >Karnataka</td>\n",
       "                        <td id=\"T_f6134729_0c80_11eb_97fa_d05349dbc8c2row6_col1\" class=\"data row6 col1\" >20</td>\n",
       "                        <td id=\"T_f6134729_0c80_11eb_97fa_d05349dbc8c2row6_col2\" class=\"data row6 col2\" >0</td>\n",
       "                        <td id=\"T_f6134729_0c80_11eb_97fa_d05349dbc8c2row6_col3\" class=\"data row6 col3\" >3</td>\n",
       "                        <td id=\"T_f6134729_0c80_11eb_97fa_d05349dbc8c2row6_col4\" class=\"data row6 col4\" >2</td>\n",
       "                        <td id=\"T_f6134729_0c80_11eb_97fa_d05349dbc8c2row6_col5\" class=\"data row6 col5\" >20</td>\n",
       "                        <td id=\"T_f6134729_0c80_11eb_97fa_d05349dbc8c2row6_col6\" class=\"data row6 col6\" >17</td>\n",
       "            </tr>\n",
       "            <tr>\n",
       "                        <th id=\"T_f6134729_0c80_11eb_97fa_d05349dbc8c2level0_row7\" class=\"row_heading level0 row7\" >7</th>\n",
       "                        <td id=\"T_f6134729_0c80_11eb_97fa_d05349dbc8c2row7_col0\" class=\"data row7 col0\" >Kerala</td>\n",
       "                        <td id=\"T_f6134729_0c80_11eb_97fa_d05349dbc8c2row7_col1\" class=\"data row7 col1\" >131</td>\n",
       "                        <td id=\"T_f6134729_0c80_11eb_97fa_d05349dbc8c2row7_col2\" class=\"data row7 col2\" >7</td>\n",
       "                        <td id=\"T_f6134729_0c80_11eb_97fa_d05349dbc8c2row7_col3\" class=\"data row7 col3\" >11</td>\n",
       "                        <td id=\"T_f6134729_0c80_11eb_97fa_d05349dbc8c2row7_col4\" class=\"data row7 col4\" >0</td>\n",
       "                        <td id=\"T_f6134729_0c80_11eb_97fa_d05349dbc8c2row7_col5\" class=\"data row7 col5\" >138</td>\n",
       "                        <td id=\"T_f6134729_0c80_11eb_97fa_d05349dbc8c2row7_col6\" class=\"data row7 col6\" >127</td>\n",
       "            </tr>\n",
       "            <tr>\n",
       "                        <th id=\"T_f6134729_0c80_11eb_97fa_d05349dbc8c2level0_row8\" class=\"row_heading level0 row8\" >8</th>\n",
       "                        <td id=\"T_f6134729_0c80_11eb_97fa_d05349dbc8c2row8_col0\" class=\"data row8 col0\" >Madhya Pradesh</td>\n",
       "                        <td id=\"T_f6134729_0c80_11eb_97fa_d05349dbc8c2row8_col1\" class=\"data row8 col1\" >23</td>\n",
       "                        <td id=\"T_f6134729_0c80_11eb_97fa_d05349dbc8c2row8_col2\" class=\"data row8 col2\" >0</td>\n",
       "                        <td id=\"T_f6134729_0c80_11eb_97fa_d05349dbc8c2row8_col3\" class=\"data row8 col3\" >0</td>\n",
       "                        <td id=\"T_f6134729_0c80_11eb_97fa_d05349dbc8c2row8_col4\" class=\"data row8 col4\" >1</td>\n",
       "                        <td id=\"T_f6134729_0c80_11eb_97fa_d05349dbc8c2row8_col5\" class=\"data row8 col5\" >23</td>\n",
       "                        <td id=\"T_f6134729_0c80_11eb_97fa_d05349dbc8c2row8_col6\" class=\"data row8 col6\" >23</td>\n",
       "            </tr>\n",
       "            <tr>\n",
       "                        <th id=\"T_f6134729_0c80_11eb_97fa_d05349dbc8c2level0_row9\" class=\"row_heading level0 row9\" >9</th>\n",
       "                        <td id=\"T_f6134729_0c80_11eb_97fa_d05349dbc8c2row9_col0\" class=\"data row9 col0\" >Maharashtra</td>\n",
       "                        <td id=\"T_f6134729_0c80_11eb_97fa_d05349dbc8c2row9_col1\" class=\"data row9 col1\" >144</td>\n",
       "                        <td id=\"T_f6134729_0c80_11eb_97fa_d05349dbc8c2row9_col2\" class=\"data row9 col2\" >3</td>\n",
       "                        <td id=\"T_f6134729_0c80_11eb_97fa_d05349dbc8c2row9_col3\" class=\"data row9 col3\" >15</td>\n",
       "                        <td id=\"T_f6134729_0c80_11eb_97fa_d05349dbc8c2row9_col4\" class=\"data row9 col4\" >4</td>\n",
       "                        <td id=\"T_f6134729_0c80_11eb_97fa_d05349dbc8c2row9_col5\" class=\"data row9 col5\" >147</td>\n",
       "                        <td id=\"T_f6134729_0c80_11eb_97fa_d05349dbc8c2row9_col6\" class=\"data row9 col6\" >132</td>\n",
       "            </tr>\n",
       "            <tr>\n",
       "                        <th id=\"T_f6134729_0c80_11eb_97fa_d05349dbc8c2level0_row10\" class=\"row_heading level0 row10\" >10</th>\n",
       "                        <td id=\"T_f6134729_0c80_11eb_97fa_d05349dbc8c2row10_col0\" class=\"data row10 col0\" >Odisha</td>\n",
       "                        <td id=\"T_f6134729_0c80_11eb_97fa_d05349dbc8c2row10_col1\" class=\"data row10 col1\" >3</td>\n",
       "                        <td id=\"T_f6134729_0c80_11eb_97fa_d05349dbc8c2row10_col2\" class=\"data row10 col2\" >0</td>\n",
       "                        <td id=\"T_f6134729_0c80_11eb_97fa_d05349dbc8c2row10_col3\" class=\"data row10 col3\" >0</td>\n",
       "                        <td id=\"T_f6134729_0c80_11eb_97fa_d05349dbc8c2row10_col4\" class=\"data row10 col4\" >0</td>\n",
       "                        <td id=\"T_f6134729_0c80_11eb_97fa_d05349dbc8c2row10_col5\" class=\"data row10 col5\" >3</td>\n",
       "                        <td id=\"T_f6134729_0c80_11eb_97fa_d05349dbc8c2row10_col6\" class=\"data row10 col6\" >3</td>\n",
       "            </tr>\n",
       "            <tr>\n",
       "                        <th id=\"T_f6134729_0c80_11eb_97fa_d05349dbc8c2level0_row11\" class=\"row_heading level0 row11\" >11</th>\n",
       "                        <td id=\"T_f6134729_0c80_11eb_97fa_d05349dbc8c2row11_col0\" class=\"data row11 col0\" >Puducherry</td>\n",
       "                        <td id=\"T_f6134729_0c80_11eb_97fa_d05349dbc8c2row11_col1\" class=\"data row11 col1\" >1</td>\n",
       "                        <td id=\"T_f6134729_0c80_11eb_97fa_d05349dbc8c2row11_col2\" class=\"data row11 col2\" >0</td>\n",
       "                        <td id=\"T_f6134729_0c80_11eb_97fa_d05349dbc8c2row11_col3\" class=\"data row11 col3\" >0</td>\n",
       "                        <td id=\"T_f6134729_0c80_11eb_97fa_d05349dbc8c2row11_col4\" class=\"data row11 col4\" >0</td>\n",
       "                        <td id=\"T_f6134729_0c80_11eb_97fa_d05349dbc8c2row11_col5\" class=\"data row11 col5\" >1</td>\n",
       "                        <td id=\"T_f6134729_0c80_11eb_97fa_d05349dbc8c2row11_col6\" class=\"data row11 col6\" >1</td>\n",
       "            </tr>\n",
       "            <tr>\n",
       "                        <th id=\"T_f6134729_0c80_11eb_97fa_d05349dbc8c2level0_row12\" class=\"row_heading level0 row12\" >12</th>\n",
       "                        <td id=\"T_f6134729_0c80_11eb_97fa_d05349dbc8c2row12_col0\" class=\"data row12 col0\" >Punjab</td>\n",
       "                        <td id=\"T_f6134729_0c80_11eb_97fa_d05349dbc8c2row12_col1\" class=\"data row12 col1\" >29</td>\n",
       "                        <td id=\"T_f6134729_0c80_11eb_97fa_d05349dbc8c2row12_col2\" class=\"data row12 col2\" >0</td>\n",
       "                        <td id=\"T_f6134729_0c80_11eb_97fa_d05349dbc8c2row12_col3\" class=\"data row12 col3\" >0</td>\n",
       "                        <td id=\"T_f6134729_0c80_11eb_97fa_d05349dbc8c2row12_col4\" class=\"data row12 col4\" >1</td>\n",
       "                        <td id=\"T_f6134729_0c80_11eb_97fa_d05349dbc8c2row12_col5\" class=\"data row12 col5\" >29</td>\n",
       "                        <td id=\"T_f6134729_0c80_11eb_97fa_d05349dbc8c2row12_col6\" class=\"data row12 col6\" >29</td>\n",
       "            </tr>\n",
       "            <tr>\n",
       "                        <th id=\"T_f6134729_0c80_11eb_97fa_d05349dbc8c2level0_row13\" class=\"row_heading level0 row13\" >13</th>\n",
       "                        <td id=\"T_f6134729_0c80_11eb_97fa_d05349dbc8c2row13_col0\" class=\"data row13 col0\" >Rajasthan</td>\n",
       "                        <td id=\"T_f6134729_0c80_11eb_97fa_d05349dbc8c2row13_col1\" class=\"data row13 col1\" >41</td>\n",
       "                        <td id=\"T_f6134729_0c80_11eb_97fa_d05349dbc8c2row13_col2\" class=\"data row13 col2\" >2</td>\n",
       "                        <td id=\"T_f6134729_0c80_11eb_97fa_d05349dbc8c2row13_col3\" class=\"data row13 col3\" >3</td>\n",
       "                        <td id=\"T_f6134729_0c80_11eb_97fa_d05349dbc8c2row13_col4\" class=\"data row13 col4\" >0</td>\n",
       "                        <td id=\"T_f6134729_0c80_11eb_97fa_d05349dbc8c2row13_col5\" class=\"data row13 col5\" >43</td>\n",
       "                        <td id=\"T_f6134729_0c80_11eb_97fa_d05349dbc8c2row13_col6\" class=\"data row13 col6\" >40</td>\n",
       "            </tr>\n",
       "            <tr>\n",
       "                        <th id=\"T_f6134729_0c80_11eb_97fa_d05349dbc8c2level0_row14\" class=\"row_heading level0 row14\" >14</th>\n",
       "                        <td id=\"T_f6134729_0c80_11eb_97fa_d05349dbc8c2row14_col0\" class=\"data row14 col0\" >Tamil Nadu</td>\n",
       "                        <td id=\"T_f6134729_0c80_11eb_97fa_d05349dbc8c2row14_col1\" class=\"data row14 col1\" >32</td>\n",
       "                        <td id=\"T_f6134729_0c80_11eb_97fa_d05349dbc8c2row14_col2\" class=\"data row14 col2\" >3</td>\n",
       "                        <td id=\"T_f6134729_0c80_11eb_97fa_d05349dbc8c2row14_col3\" class=\"data row14 col3\" >1</td>\n",
       "                        <td id=\"T_f6134729_0c80_11eb_97fa_d05349dbc8c2row14_col4\" class=\"data row14 col4\" >1</td>\n",
       "                        <td id=\"T_f6134729_0c80_11eb_97fa_d05349dbc8c2row14_col5\" class=\"data row14 col5\" >35</td>\n",
       "                        <td id=\"T_f6134729_0c80_11eb_97fa_d05349dbc8c2row14_col6\" class=\"data row14 col6\" >34</td>\n",
       "            </tr>\n",
       "            <tr>\n",
       "                        <th id=\"T_f6134729_0c80_11eb_97fa_d05349dbc8c2level0_row15\" class=\"row_heading level0 row15\" >15</th>\n",
       "                        <td id=\"T_f6134729_0c80_11eb_97fa_d05349dbc8c2row15_col0\" class=\"data row15 col0\" >Telengana</td>\n",
       "                        <td id=\"T_f6134729_0c80_11eb_97fa_d05349dbc8c2row15_col1\" class=\"data row15 col1\" >34</td>\n",
       "                        <td id=\"T_f6134729_0c80_11eb_97fa_d05349dbc8c2row15_col2\" class=\"data row15 col2\" >11</td>\n",
       "                        <td id=\"T_f6134729_0c80_11eb_97fa_d05349dbc8c2row15_col3\" class=\"data row15 col3\" >1</td>\n",
       "                        <td id=\"T_f6134729_0c80_11eb_97fa_d05349dbc8c2row15_col4\" class=\"data row15 col4\" >0</td>\n",
       "                        <td id=\"T_f6134729_0c80_11eb_97fa_d05349dbc8c2row15_col5\" class=\"data row15 col5\" >45</td>\n",
       "                        <td id=\"T_f6134729_0c80_11eb_97fa_d05349dbc8c2row15_col6\" class=\"data row15 col6\" >44</td>\n",
       "            </tr>\n",
       "            <tr>\n",
       "                        <th id=\"T_f6134729_0c80_11eb_97fa_d05349dbc8c2level0_row16\" class=\"row_heading level0 row16\" >16</th>\n",
       "                        <td id=\"T_f6134729_0c80_11eb_97fa_d05349dbc8c2row16_col0\" class=\"data row16 col0\" >Chandigarh</td>\n",
       "                        <td id=\"T_f6134729_0c80_11eb_97fa_d05349dbc8c2row16_col1\" class=\"data row16 col1\" >7</td>\n",
       "                        <td id=\"T_f6134729_0c80_11eb_97fa_d05349dbc8c2row16_col2\" class=\"data row16 col2\" >0</td>\n",
       "                        <td id=\"T_f6134729_0c80_11eb_97fa_d05349dbc8c2row16_col3\" class=\"data row16 col3\" >0</td>\n",
       "                        <td id=\"T_f6134729_0c80_11eb_97fa_d05349dbc8c2row16_col4\" class=\"data row16 col4\" >0</td>\n",
       "                        <td id=\"T_f6134729_0c80_11eb_97fa_d05349dbc8c2row16_col5\" class=\"data row16 col5\" >7</td>\n",
       "                        <td id=\"T_f6134729_0c80_11eb_97fa_d05349dbc8c2row16_col6\" class=\"data row16 col6\" >7</td>\n",
       "            </tr>\n",
       "            <tr>\n",
       "                        <th id=\"T_f6134729_0c80_11eb_97fa_d05349dbc8c2level0_row17\" class=\"row_heading level0 row17\" >17</th>\n",
       "                        <td id=\"T_f6134729_0c80_11eb_97fa_d05349dbc8c2row17_col0\" class=\"data row17 col0\" >Jammu and Kashmir</td>\n",
       "                        <td id=\"T_f6134729_0c80_11eb_97fa_d05349dbc8c2row17_col1\" class=\"data row17 col1\" >18</td>\n",
       "                        <td id=\"T_f6134729_0c80_11eb_97fa_d05349dbc8c2row17_col2\" class=\"data row17 col2\" >0</td>\n",
       "                        <td id=\"T_f6134729_0c80_11eb_97fa_d05349dbc8c2row17_col3\" class=\"data row17 col3\" >1</td>\n",
       "                        <td id=\"T_f6134729_0c80_11eb_97fa_d05349dbc8c2row17_col4\" class=\"data row17 col4\" >1</td>\n",
       "                        <td id=\"T_f6134729_0c80_11eb_97fa_d05349dbc8c2row17_col5\" class=\"data row17 col5\" >18</td>\n",
       "                        <td id=\"T_f6134729_0c80_11eb_97fa_d05349dbc8c2row17_col6\" class=\"data row17 col6\" >17</td>\n",
       "            </tr>\n",
       "            <tr>\n",
       "                        <th id=\"T_f6134729_0c80_11eb_97fa_d05349dbc8c2level0_row18\" class=\"row_heading level0 row18\" >18</th>\n",
       "                        <td id=\"T_f6134729_0c80_11eb_97fa_d05349dbc8c2row18_col0\" class=\"data row18 col0\" >Ladakh</td>\n",
       "                        <td id=\"T_f6134729_0c80_11eb_97fa_d05349dbc8c2row18_col1\" class=\"data row18 col1\" >13</td>\n",
       "                        <td id=\"T_f6134729_0c80_11eb_97fa_d05349dbc8c2row18_col2\" class=\"data row18 col2\" >0</td>\n",
       "                        <td id=\"T_f6134729_0c80_11eb_97fa_d05349dbc8c2row18_col3\" class=\"data row18 col3\" >0</td>\n",
       "                        <td id=\"T_f6134729_0c80_11eb_97fa_d05349dbc8c2row18_col4\" class=\"data row18 col4\" >0</td>\n",
       "                        <td id=\"T_f6134729_0c80_11eb_97fa_d05349dbc8c2row18_col5\" class=\"data row18 col5\" >13</td>\n",
       "                        <td id=\"T_f6134729_0c80_11eb_97fa_d05349dbc8c2row18_col6\" class=\"data row18 col6\" >13</td>\n",
       "            </tr>\n",
       "            <tr>\n",
       "                        <th id=\"T_f6134729_0c80_11eb_97fa_d05349dbc8c2level0_row19\" class=\"row_heading level0 row19\" >19</th>\n",
       "                        <td id=\"T_f6134729_0c80_11eb_97fa_d05349dbc8c2row19_col0\" class=\"data row19 col0\" >Uttar Pradesh</td>\n",
       "                        <td id=\"T_f6134729_0c80_11eb_97fa_d05349dbc8c2row19_col1\" class=\"data row19 col1\" >42</td>\n",
       "                        <td id=\"T_f6134729_0c80_11eb_97fa_d05349dbc8c2row19_col2\" class=\"data row19 col2\" >1</td>\n",
       "                        <td id=\"T_f6134729_0c80_11eb_97fa_d05349dbc8c2row19_col3\" class=\"data row19 col3\" >11</td>\n",
       "                        <td id=\"T_f6134729_0c80_11eb_97fa_d05349dbc8c2row19_col4\" class=\"data row19 col4\" >0</td>\n",
       "                        <td id=\"T_f6134729_0c80_11eb_97fa_d05349dbc8c2row19_col5\" class=\"data row19 col5\" >43</td>\n",
       "                        <td id=\"T_f6134729_0c80_11eb_97fa_d05349dbc8c2row19_col6\" class=\"data row19 col6\" >32</td>\n",
       "            </tr>\n",
       "            <tr>\n",
       "                        <th id=\"T_f6134729_0c80_11eb_97fa_d05349dbc8c2level0_row20\" class=\"row_heading level0 row20\" >20</th>\n",
       "                        <td id=\"T_f6134729_0c80_11eb_97fa_d05349dbc8c2row20_col0\" class=\"data row20 col0\" >Uttarakhand</td>\n",
       "                        <td id=\"T_f6134729_0c80_11eb_97fa_d05349dbc8c2row20_col1\" class=\"data row20 col1\" >4</td>\n",
       "                        <td id=\"T_f6134729_0c80_11eb_97fa_d05349dbc8c2row20_col2\" class=\"data row20 col2\" >0</td>\n",
       "                        <td id=\"T_f6134729_0c80_11eb_97fa_d05349dbc8c2row20_col3\" class=\"data row20 col3\" >0</td>\n",
       "                        <td id=\"T_f6134729_0c80_11eb_97fa_d05349dbc8c2row20_col4\" class=\"data row20 col4\" >0</td>\n",
       "                        <td id=\"T_f6134729_0c80_11eb_97fa_d05349dbc8c2row20_col5\" class=\"data row20 col5\" >4</td>\n",
       "                        <td id=\"T_f6134729_0c80_11eb_97fa_d05349dbc8c2row20_col6\" class=\"data row20 col6\" >4</td>\n",
       "            </tr>\n",
       "            <tr>\n",
       "                        <th id=\"T_f6134729_0c80_11eb_97fa_d05349dbc8c2level0_row21\" class=\"row_heading level0 row21\" >21</th>\n",
       "                        <td id=\"T_f6134729_0c80_11eb_97fa_d05349dbc8c2row21_col0\" class=\"data row21 col0\" >West Bengal</td>\n",
       "                        <td id=\"T_f6134729_0c80_11eb_97fa_d05349dbc8c2row21_col1\" class=\"data row21 col1\" >11</td>\n",
       "                        <td id=\"T_f6134729_0c80_11eb_97fa_d05349dbc8c2row21_col2\" class=\"data row21 col2\" >0</td>\n",
       "                        <td id=\"T_f6134729_0c80_11eb_97fa_d05349dbc8c2row21_col3\" class=\"data row21 col3\" >0</td>\n",
       "                        <td id=\"T_f6134729_0c80_11eb_97fa_d05349dbc8c2row21_col4\" class=\"data row21 col4\" >1</td>\n",
       "                        <td id=\"T_f6134729_0c80_11eb_97fa_d05349dbc8c2row21_col5\" class=\"data row21 col5\" >11</td>\n",
       "                        <td id=\"T_f6134729_0c80_11eb_97fa_d05349dbc8c2row21_col6\" class=\"data row21 col6\" >11</td>\n",
       "            </tr>\n",
       "            <tr>\n",
       "                        <th id=\"T_f6134729_0c80_11eb_97fa_d05349dbc8c2level0_row22\" class=\"row_heading level0 row22\" >22</th>\n",
       "                        <td id=\"T_f6134729_0c80_11eb_97fa_d05349dbc8c2row22_col0\" class=\"data row22 col0\" >Bihar</td>\n",
       "                        <td id=\"T_f6134729_0c80_11eb_97fa_d05349dbc8c2row22_col1\" class=\"data row22 col1\" >7</td>\n",
       "                        <td id=\"T_f6134729_0c80_11eb_97fa_d05349dbc8c2row22_col2\" class=\"data row22 col2\" >0</td>\n",
       "                        <td id=\"T_f6134729_0c80_11eb_97fa_d05349dbc8c2row22_col3\" class=\"data row22 col3\" >0</td>\n",
       "                        <td id=\"T_f6134729_0c80_11eb_97fa_d05349dbc8c2row22_col4\" class=\"data row22 col4\" >1</td>\n",
       "                        <td id=\"T_f6134729_0c80_11eb_97fa_d05349dbc8c2row22_col5\" class=\"data row22 col5\" >7</td>\n",
       "                        <td id=\"T_f6134729_0c80_11eb_97fa_d05349dbc8c2row22_col6\" class=\"data row22 col6\" >7</td>\n",
       "            </tr>\n",
       "            <tr>\n",
       "                        <th id=\"T_f6134729_0c80_11eb_97fa_d05349dbc8c2level0_row23\" class=\"row_heading level0 row23\" >23</th>\n",
       "                        <td id=\"T_f6134729_0c80_11eb_97fa_d05349dbc8c2row23_col0\" class=\"data row23 col0\" >Mizoram</td>\n",
       "                        <td id=\"T_f6134729_0c80_11eb_97fa_d05349dbc8c2row23_col1\" class=\"data row23 col1\" >1</td>\n",
       "                        <td id=\"T_f6134729_0c80_11eb_97fa_d05349dbc8c2row23_col2\" class=\"data row23 col2\" >0</td>\n",
       "                        <td id=\"T_f6134729_0c80_11eb_97fa_d05349dbc8c2row23_col3\" class=\"data row23 col3\" >0</td>\n",
       "                        <td id=\"T_f6134729_0c80_11eb_97fa_d05349dbc8c2row23_col4\" class=\"data row23 col4\" >0</td>\n",
       "                        <td id=\"T_f6134729_0c80_11eb_97fa_d05349dbc8c2row23_col5\" class=\"data row23 col5\" >1</td>\n",
       "                        <td id=\"T_f6134729_0c80_11eb_97fa_d05349dbc8c2row23_col6\" class=\"data row23 col6\" >1</td>\n",
       "            </tr>\n",
       "            <tr>\n",
       "                        <th id=\"T_f6134729_0c80_11eb_97fa_d05349dbc8c2level0_row24\" class=\"row_heading level0 row24\" >24</th>\n",
       "                        <td id=\"T_f6134729_0c80_11eb_97fa_d05349dbc8c2row24_col0\" class=\"data row24 col0\" >Goa</td>\n",
       "                        <td id=\"T_f6134729_0c80_11eb_97fa_d05349dbc8c2row24_col1\" class=\"data row24 col1\" >6</td>\n",
       "                        <td id=\"T_f6134729_0c80_11eb_97fa_d05349dbc8c2row24_col2\" class=\"data row24 col2\" >0</td>\n",
       "                        <td id=\"T_f6134729_0c80_11eb_97fa_d05349dbc8c2row24_col3\" class=\"data row24 col3\" >0</td>\n",
       "                        <td id=\"T_f6134729_0c80_11eb_97fa_d05349dbc8c2row24_col4\" class=\"data row24 col4\" >0</td>\n",
       "                        <td id=\"T_f6134729_0c80_11eb_97fa_d05349dbc8c2row24_col5\" class=\"data row24 col5\" >6</td>\n",
       "                        <td id=\"T_f6134729_0c80_11eb_97fa_d05349dbc8c2row24_col6\" class=\"data row24 col6\" >6</td>\n",
       "            </tr>\n",
       "            <tr>\n",
       "                        <th id=\"T_f6134729_0c80_11eb_97fa_d05349dbc8c2level0_row25\" class=\"row_heading level0 row25\" >25</th>\n",
       "                        <td id=\"T_f6134729_0c80_11eb_97fa_d05349dbc8c2row25_col0\" class=\"data row25 col0\" >Manipur</td>\n",
       "                        <td id=\"T_f6134729_0c80_11eb_97fa_d05349dbc8c2row25_col1\" class=\"data row25 col1\" >1</td>\n",
       "                        <td id=\"T_f6134729_0c80_11eb_97fa_d05349dbc8c2row25_col2\" class=\"data row25 col2\" >0</td>\n",
       "                        <td id=\"T_f6134729_0c80_11eb_97fa_d05349dbc8c2row25_col3\" class=\"data row25 col3\" >0</td>\n",
       "                        <td id=\"T_f6134729_0c80_11eb_97fa_d05349dbc8c2row25_col4\" class=\"data row25 col4\" >0</td>\n",
       "                        <td id=\"T_f6134729_0c80_11eb_97fa_d05349dbc8c2row25_col5\" class=\"data row25 col5\" >1</td>\n",
       "                        <td id=\"T_f6134729_0c80_11eb_97fa_d05349dbc8c2row25_col6\" class=\"data row25 col6\" >1</td>\n",
       "            </tr>\n",
       "    </tbody></table>"
      ],
      "text/plain": [
       "<pandas.io.formats.style.Styler at 0x2376e36b0a0>"
      ]
     },
     "execution_count": 7,
     "metadata": {},
     "output_type": "execute_result"
    }
   ],
   "source": [
    "#creating the heatmap for understanding some of the data.\n",
    "df.style.background_gradient(cmap='Reds')"
   ]
  },
  {
   "cell_type": "code",
   "execution_count": 8,
   "metadata": {},
   "outputs": [
    {
     "data": {
      "text/html": [
       "<style  type=\"text/css\" >\n",
       "    #T_f620b2b0_0c80_11eb_9121_d05349dbc8c2row0_col0 {\n",
       "            background-color:  #67000d;\n",
       "            color:  #f1f1f1;\n",
       "        }    #T_f620b2b0_0c80_11eb_9121_d05349dbc8c2row1_col0 {\n",
       "            background-color:  #79040f;\n",
       "            color:  #f1f1f1;\n",
       "        }    #T_f620b2b0_0c80_11eb_9121_d05349dbc8c2row2_col0 {\n",
       "            background-color:  #fca183;\n",
       "            color:  #000000;\n",
       "        }    #T_f620b2b0_0c80_11eb_9121_d05349dbc8c2row3_col0 {\n",
       "            background-color:  #fca486;\n",
       "            color:  #000000;\n",
       "        }    #T_f620b2b0_0c80_11eb_9121_d05349dbc8c2row4_col0 {\n",
       "            background-color:  #fcab8f;\n",
       "            color:  #000000;\n",
       "        }    #T_f620b2b0_0c80_11eb_9121_d05349dbc8c2row5_col0 {\n",
       "            background-color:  #fcbba1;\n",
       "            color:  #000000;\n",
       "        }    #T_f620b2b0_0c80_11eb_9121_d05349dbc8c2row6_col0 {\n",
       "            background-color:  #fcbda4;\n",
       "            color:  #000000;\n",
       "        }    #T_f620b2b0_0c80_11eb_9121_d05349dbc8c2row7_col0 {\n",
       "            background-color:  #fcbfa7;\n",
       "            color:  #000000;\n",
       "        }    #T_f620b2b0_0c80_11eb_9121_d05349dbc8c2row8_col0 {\n",
       "            background-color:  #fdc6b0;\n",
       "            color:  #000000;\n",
       "        }    #T_f620b2b0_0c80_11eb_9121_d05349dbc8c2row9_col0 {\n",
       "            background-color:  #fdd4c2;\n",
       "            color:  #000000;\n",
       "        }    #T_f620b2b0_0c80_11eb_9121_d05349dbc8c2row10_col0 {\n",
       "            background-color:  #fedccd;\n",
       "            color:  #000000;\n",
       "        }    #T_f620b2b0_0c80_11eb_9121_d05349dbc8c2row11_col0 {\n",
       "            background-color:  #fee1d3;\n",
       "            color:  #000000;\n",
       "        }    #T_f620b2b0_0c80_11eb_9121_d05349dbc8c2row12_col0 {\n",
       "            background-color:  #fee1d3;\n",
       "            color:  #000000;\n",
       "        }    #T_f620b2b0_0c80_11eb_9121_d05349dbc8c2row13_col0 {\n",
       "            background-color:  #fee6da;\n",
       "            color:  #000000;\n",
       "        }    #T_f620b2b0_0c80_11eb_9121_d05349dbc8c2row14_col0 {\n",
       "            background-color:  #fee8de;\n",
       "            color:  #000000;\n",
       "        }    #T_f620b2b0_0c80_11eb_9121_d05349dbc8c2row15_col0 {\n",
       "            background-color:  #fee8de;\n",
       "            color:  #000000;\n",
       "        }    #T_f620b2b0_0c80_11eb_9121_d05349dbc8c2row16_col0 {\n",
       "            background-color:  #ffeee6;\n",
       "            color:  #000000;\n",
       "        }    #T_f620b2b0_0c80_11eb_9121_d05349dbc8c2row17_col0 {\n",
       "            background-color:  #ffeee6;\n",
       "            color:  #000000;\n",
       "        }    #T_f620b2b0_0c80_11eb_9121_d05349dbc8c2row18_col0 {\n",
       "            background-color:  #ffefe8;\n",
       "            color:  #000000;\n",
       "        }    #T_f620b2b0_0c80_11eb_9121_d05349dbc8c2row19_col0 {\n",
       "            background-color:  #ffefe8;\n",
       "            color:  #000000;\n",
       "        }    #T_f620b2b0_0c80_11eb_9121_d05349dbc8c2row20_col0 {\n",
       "            background-color:  #fff2eb;\n",
       "            color:  #000000;\n",
       "        }    #T_f620b2b0_0c80_11eb_9121_d05349dbc8c2row21_col0 {\n",
       "            background-color:  #fff2eb;\n",
       "            color:  #000000;\n",
       "        }    #T_f620b2b0_0c80_11eb_9121_d05349dbc8c2row22_col0 {\n",
       "            background-color:  #fff3ed;\n",
       "            color:  #000000;\n",
       "        }    #T_f620b2b0_0c80_11eb_9121_d05349dbc8c2row23_col0 {\n",
       "            background-color:  #fff5f0;\n",
       "            color:  #000000;\n",
       "        }    #T_f620b2b0_0c80_11eb_9121_d05349dbc8c2row24_col0 {\n",
       "            background-color:  #fff5f0;\n",
       "            color:  #000000;\n",
       "        }    #T_f620b2b0_0c80_11eb_9121_d05349dbc8c2row25_col0 {\n",
       "            background-color:  #fff5f0;\n",
       "            color:  #000000;\n",
       "        }</style><table id=\"T_f620b2b0_0c80_11eb_9121_d05349dbc8c2\" ><thead>    <tr>        <th class=\"blank level0\" ></th>        <th class=\"col_heading level0 col0\" >Active_case</th>    </tr>    <tr>        <th class=\"index_name level0\" >Name of State / UT</th>        <th class=\"blank\" ></th>    </tr></thead><tbody>\n",
       "                <tr>\n",
       "                        <th id=\"T_f620b2b0_0c80_11eb_9121_d05349dbc8c2level0_row0\" class=\"row_heading level0 row0\" >Maharashtra</th>\n",
       "                        <td id=\"T_f620b2b0_0c80_11eb_9121_d05349dbc8c2row0_col0\" class=\"data row0 col0\" >132</td>\n",
       "            </tr>\n",
       "            <tr>\n",
       "                        <th id=\"T_f620b2b0_0c80_11eb_9121_d05349dbc8c2level0_row1\" class=\"row_heading level0 row1\" >Kerala</th>\n",
       "                        <td id=\"T_f620b2b0_0c80_11eb_9121_d05349dbc8c2row1_col0\" class=\"data row1 col0\" >127</td>\n",
       "            </tr>\n",
       "            <tr>\n",
       "                        <th id=\"T_f620b2b0_0c80_11eb_9121_d05349dbc8c2level0_row2\" class=\"row_heading level0 row2\" >Telengana</th>\n",
       "                        <td id=\"T_f620b2b0_0c80_11eb_9121_d05349dbc8c2row2_col0\" class=\"data row2 col0\" >44</td>\n",
       "            </tr>\n",
       "            <tr>\n",
       "                        <th id=\"T_f620b2b0_0c80_11eb_9121_d05349dbc8c2level0_row3\" class=\"row_heading level0 row3\" >Gujarat</th>\n",
       "                        <td id=\"T_f620b2b0_0c80_11eb_9121_d05349dbc8c2row3_col0\" class=\"data row3 col0\" >43</td>\n",
       "            </tr>\n",
       "            <tr>\n",
       "                        <th id=\"T_f620b2b0_0c80_11eb_9121_d05349dbc8c2level0_row4\" class=\"row_heading level0 row4\" >Rajasthan</th>\n",
       "                        <td id=\"T_f620b2b0_0c80_11eb_9121_d05349dbc8c2row4_col0\" class=\"data row4 col0\" >40</td>\n",
       "            </tr>\n",
       "            <tr>\n",
       "                        <th id=\"T_f620b2b0_0c80_11eb_9121_d05349dbc8c2level0_row5\" class=\"row_heading level0 row5\" >Tamil Nadu</th>\n",
       "                        <td id=\"T_f620b2b0_0c80_11eb_9121_d05349dbc8c2row5_col0\" class=\"data row5 col0\" >34</td>\n",
       "            </tr>\n",
       "            <tr>\n",
       "                        <th id=\"T_f620b2b0_0c80_11eb_9121_d05349dbc8c2level0_row6\" class=\"row_heading level0 row6\" >Delhi</th>\n",
       "                        <td id=\"T_f620b2b0_0c80_11eb_9121_d05349dbc8c2row6_col0\" class=\"data row6 col0\" >33</td>\n",
       "            </tr>\n",
       "            <tr>\n",
       "                        <th id=\"T_f620b2b0_0c80_11eb_9121_d05349dbc8c2level0_row7\" class=\"row_heading level0 row7\" >Uttar Pradesh</th>\n",
       "                        <td id=\"T_f620b2b0_0c80_11eb_9121_d05349dbc8c2row7_col0\" class=\"data row7 col0\" >32</td>\n",
       "            </tr>\n",
       "            <tr>\n",
       "                        <th id=\"T_f620b2b0_0c80_11eb_9121_d05349dbc8c2level0_row8\" class=\"row_heading level0 row8\" >Punjab</th>\n",
       "                        <td id=\"T_f620b2b0_0c80_11eb_9121_d05349dbc8c2row8_col0\" class=\"data row8 col0\" >29</td>\n",
       "            </tr>\n",
       "            <tr>\n",
       "                        <th id=\"T_f620b2b0_0c80_11eb_9121_d05349dbc8c2level0_row9\" class=\"row_heading level0 row9\" >Madhya Pradesh</th>\n",
       "                        <td id=\"T_f620b2b0_0c80_11eb_9121_d05349dbc8c2row9_col0\" class=\"data row9 col0\" >23</td>\n",
       "            </tr>\n",
       "            <tr>\n",
       "                        <th id=\"T_f620b2b0_0c80_11eb_9121_d05349dbc8c2level0_row10\" class=\"row_heading level0 row10\" >Haryana</th>\n",
       "                        <td id=\"T_f620b2b0_0c80_11eb_9121_d05349dbc8c2row10_col0\" class=\"data row10 col0\" >19</td>\n",
       "            </tr>\n",
       "            <tr>\n",
       "                        <th id=\"T_f620b2b0_0c80_11eb_9121_d05349dbc8c2level0_row11\" class=\"row_heading level0 row11\" >Jammu and Kashmir</th>\n",
       "                        <td id=\"T_f620b2b0_0c80_11eb_9121_d05349dbc8c2row11_col0\" class=\"data row11 col0\" >17</td>\n",
       "            </tr>\n",
       "            <tr>\n",
       "                        <th id=\"T_f620b2b0_0c80_11eb_9121_d05349dbc8c2level0_row12\" class=\"row_heading level0 row12\" >Karnataka</th>\n",
       "                        <td id=\"T_f620b2b0_0c80_11eb_9121_d05349dbc8c2row12_col0\" class=\"data row12 col0\" >17</td>\n",
       "            </tr>\n",
       "            <tr>\n",
       "                        <th id=\"T_f620b2b0_0c80_11eb_9121_d05349dbc8c2level0_row13\" class=\"row_heading level0 row13\" >Ladakh</th>\n",
       "                        <td id=\"T_f620b2b0_0c80_11eb_9121_d05349dbc8c2row13_col0\" class=\"data row13 col0\" >13</td>\n",
       "            </tr>\n",
       "            <tr>\n",
       "                        <th id=\"T_f620b2b0_0c80_11eb_9121_d05349dbc8c2level0_row14\" class=\"row_heading level0 row14\" >West Bengal</th>\n",
       "                        <td id=\"T_f620b2b0_0c80_11eb_9121_d05349dbc8c2row14_col0\" class=\"data row14 col0\" >11</td>\n",
       "            </tr>\n",
       "            <tr>\n",
       "                        <th id=\"T_f620b2b0_0c80_11eb_9121_d05349dbc8c2level0_row15\" class=\"row_heading level0 row15\" >Andhra Pradesh</th>\n",
       "                        <td id=\"T_f620b2b0_0c80_11eb_9121_d05349dbc8c2row15_col0\" class=\"data row15 col0\" >11</td>\n",
       "            </tr>\n",
       "            <tr>\n",
       "                        <th id=\"T_f620b2b0_0c80_11eb_9121_d05349dbc8c2level0_row16\" class=\"row_heading level0 row16\" >Chandigarh</th>\n",
       "                        <td id=\"T_f620b2b0_0c80_11eb_9121_d05349dbc8c2row16_col0\" class=\"data row16 col0\" >7</td>\n",
       "            </tr>\n",
       "            <tr>\n",
       "                        <th id=\"T_f620b2b0_0c80_11eb_9121_d05349dbc8c2level0_row17\" class=\"row_heading level0 row17\" >Bihar</th>\n",
       "                        <td id=\"T_f620b2b0_0c80_11eb_9121_d05349dbc8c2row17_col0\" class=\"data row17 col0\" >7</td>\n",
       "            </tr>\n",
       "            <tr>\n",
       "                        <th id=\"T_f620b2b0_0c80_11eb_9121_d05349dbc8c2level0_row18\" class=\"row_heading level0 row18\" >Goa</th>\n",
       "                        <td id=\"T_f620b2b0_0c80_11eb_9121_d05349dbc8c2row18_col0\" class=\"data row18 col0\" >6</td>\n",
       "            </tr>\n",
       "            <tr>\n",
       "                        <th id=\"T_f620b2b0_0c80_11eb_9121_d05349dbc8c2level0_row19\" class=\"row_heading level0 row19\" >Chhattisgarh</th>\n",
       "                        <td id=\"T_f620b2b0_0c80_11eb_9121_d05349dbc8c2row19_col0\" class=\"data row19 col0\" >6</td>\n",
       "            </tr>\n",
       "            <tr>\n",
       "                        <th id=\"T_f620b2b0_0c80_11eb_9121_d05349dbc8c2level0_row20\" class=\"row_heading level0 row20\" >Uttarakhand</th>\n",
       "                        <td id=\"T_f620b2b0_0c80_11eb_9121_d05349dbc8c2row20_col0\" class=\"data row20 col0\" >4</td>\n",
       "            </tr>\n",
       "            <tr>\n",
       "                        <th id=\"T_f620b2b0_0c80_11eb_9121_d05349dbc8c2level0_row21\" class=\"row_heading level0 row21\" >Himachal Pradesh</th>\n",
       "                        <td id=\"T_f620b2b0_0c80_11eb_9121_d05349dbc8c2row21_col0\" class=\"data row21 col0\" >4</td>\n",
       "            </tr>\n",
       "            <tr>\n",
       "                        <th id=\"T_f620b2b0_0c80_11eb_9121_d05349dbc8c2level0_row22\" class=\"row_heading level0 row22\" >Odisha</th>\n",
       "                        <td id=\"T_f620b2b0_0c80_11eb_9121_d05349dbc8c2row22_col0\" class=\"data row22 col0\" >3</td>\n",
       "            </tr>\n",
       "            <tr>\n",
       "                        <th id=\"T_f620b2b0_0c80_11eb_9121_d05349dbc8c2level0_row23\" class=\"row_heading level0 row23\" >Manipur</th>\n",
       "                        <td id=\"T_f620b2b0_0c80_11eb_9121_d05349dbc8c2row23_col0\" class=\"data row23 col0\" >1</td>\n",
       "            </tr>\n",
       "            <tr>\n",
       "                        <th id=\"T_f620b2b0_0c80_11eb_9121_d05349dbc8c2level0_row24\" class=\"row_heading level0 row24\" >Mizoram</th>\n",
       "                        <td id=\"T_f620b2b0_0c80_11eb_9121_d05349dbc8c2row24_col0\" class=\"data row24 col0\" >1</td>\n",
       "            </tr>\n",
       "            <tr>\n",
       "                        <th id=\"T_f620b2b0_0c80_11eb_9121_d05349dbc8c2level0_row25\" class=\"row_heading level0 row25\" >Puducherry</th>\n",
       "                        <td id=\"T_f620b2b0_0c80_11eb_9121_d05349dbc8c2row25_col0\" class=\"data row25 col0\" >1</td>\n",
       "            </tr>\n",
       "    </tbody></table>"
      ],
      "text/plain": [
       "<pandas.io.formats.style.Styler at 0x2376e37ebb0>"
      ]
     },
     "execution_count": 8,
     "metadata": {},
     "output_type": "execute_result"
    }
   ],
   "source": [
    "#heatmaps for only active cases\n",
    "Total_active_cases=df.groupby(\"Name of State / UT\")['Active_case'].sum().sort_values(ascending=False).to_frame()\n",
    "Total_active_cases.style.background_gradient(cmap=\"Reds\")"
   ]
  },
  {
   "cell_type": "markdown",
   "metadata": {},
   "source": [
    "<h1> Plotting Graphs </h1>"
   ]
  },
  {
   "cell_type": "code",
   "execution_count": 9,
   "metadata": {},
   "outputs": [
    {
     "data": {
      "image/png": "[encoded data removed]",
      "text/plain": [
       "<Figure size 1440x1080 with 1 Axes>"
      ]
     },
     "metadata": {},
     "output_type": "display_data"
    }
   ],
   "source": [
    "# plotting Bar graph with artistic layer pandas. drawing horizontal bar graph.\n",
    "df.plot(kind=\"barh\",x='Name of State / UT' ,y='Active_case',figsize=(20,15))\n",
    "plt.show()\n"
   ]
  },
  {
   "cell_type": "code",
   "execution_count": 10,
   "metadata": {},
   "outputs": [
    {
     "data": {
      "application/vnd.plotly.v1+json": {
       "config": {
        "linkText": "Export to plot.ly",
        "plotlyServerURL": "https://plot.ly",
        "showLink": true
       },
       "data": [
        {
         "marker": {
          "color": "rgba(255, 153, 51, 0.6)",
          "line": {
           "color": "rgba(255, 153, 51, 1.0)",
           "width": 1
          }
         },
         "name": "Active_case",
         "orientation": "v",
         "text": "",
         "type": "bar",
         "x": [
          "Andhra Pradesh",
          "Chhattisgarh",
          "Delhi",
          "Gujarat",
          "Haryana",
          "Himachal Pradesh",
          "Karnataka",
          "Kerala",
          "Madhya Pradesh",
          "Maharashtra",
          "Odisha",
          "Puducherry",
          "Punjab",
          "Rajasthan",
          "Tamil Nadu",
          "Telengana",
          "Chandigarh",
          "Jammu and Kashmir",
          "Ladakh",
          "Uttar Pradesh",
          "Uttarakhand",
          "West Bengal",
          "Bihar",
          "Mizoram",
          "Goa",
          "Manipur"
         ],
         "y": [
          11,
          6,
          33,
          43,
          19,
          4,
          17,
          127,
          23,
          132,
          3,
          1,
          29,
          40,
          34,
          44,
          7,
          17,
          13,
          32,
          4,
          11,
          7,
          1,
          6,
          1
         ]
        }
       ],
       "layout": {
        "legend": {
         "bgcolor": "#F5F6F9",
         "font": {
          "color": "#4D5663"
         }
        },
        "paper_bgcolor": "#F5F6F9",
        "plot_bgcolor": "#F5F6F9",
        "template": {
         "data": {
          "bar": [
           {
            "error_x": {
             "color": "#2a3f5f"
            },
            "error_y": {
             "color": "#2a3f5f"
            },
            "marker": {
             "line": {
              "color": "#E5ECF6",
              "width": 0.5
             }
            },
            "type": "bar"
           }
          ],
          "barpolar": [
           {
            "marker": {
             "line": {
              "color": "#E5ECF6",
              "width": 0.5
             }
            },
            "type": "barpolar"
           }
          ],
          "carpet": [
           {
            "aaxis": {
             "endlinecolor": "#2a3f5f",
             "gridcolor": "white",
             "linecolor": "white",
             "minorgridcolor": "white",
             "startlinecolor": "#2a3f5f"
            },
            "baxis": {
             "endlinecolor": "#2a3f5f",
             "gridcolor": "white",
             "linecolor": "white",
             "minorgridcolor": "white",
             "startlinecolor": "#2a3f5f"
            },
            "type": "carpet"
           }
          ],
          "choropleth": [
           {
            "colorbar": {
             "outlinewidth": 0,
             "ticks": ""
            },
            "type": "choropleth"
           }
          ],
          "contour": [
           {
            "colorbar": {
             "outlinewidth": 0,
             "ticks": ""
            },
            "colorscale": [
             [
              0,
              "#0d0887"
             ],
             [
              0.1111111111111111,
              "#46039f"
             ],
             [
              0.2222222222222222,
              "#7201a8"
             ],
             [
              0.3333333333333333,
              "#9c179e"
             ],
             [
              0.4444444444444444,
              "#bd3786"
             ],
             [
              0.5555555555555556,
              "#d8576b"
             ],
             [
              0.6666666666666666,
              "#ed7953"
             ],
             [
              0.7777777777777778,
              "#fb9f3a"
             ],
             [
              0.8888888888888888,
              "#fdca26"
             ],
             [
              1,
              "#f0f921"
             ]
            ],
            "type": "contour"
           }
          ],
          "contourcarpet": [
           {
            "colorbar": {
             "outlinewidth": 0,
             "ticks": ""
            },
            "type": "contourcarpet"
           }
          ],
          "heatmap": [
           {
            "colorbar": {
             "outlinewidth": 0,
             "ticks": ""
            },
            "colorscale": [
             [
              0,
              "#0d0887"
             ],
             [
              0.1111111111111111,
              "#46039f"
             ],
             [
              0.2222222222222222,
              "#7201a8"
             ],
             [
              0.3333333333333333,
              "#9c179e"
             ],
             [
              0.4444444444444444,
              "#bd3786"
             ],
             [
              0.5555555555555556,
              "#d8576b"
             ],
             [
              0.6666666666666666,
              "#ed7953"
             ],
             [
              0.7777777777777778,
              "#fb9f3a"
             ],
             [
              0.8888888888888888,
              "#fdca26"
             ],
             [
              1,
              "#f0f921"
             ]
            ],
            "type": "heatmap"
           }
          ],
          "heatmapgl": [
           {
            "colorbar": {
             "outlinewidth": 0,
             "ticks": ""
            },
            "colorscale": [
             [
              0,
              "#0d0887"
             ],
             [
              0.1111111111111111,
              "#46039f"
             ],
             [
              0.2222222222222222,
              "#7201a8"
             ],
             [
              0.3333333333333333,
              "#9c179e"
             ],
             [
              0.4444444444444444,
              "#bd3786"
             ],
             [
              0.5555555555555556,
              "#d8576b"
             ],
             [
              0.6666666666666666,
              "#ed7953"
             ],
             [
              0.7777777777777778,
              "#fb9f3a"
             ],
             [
              0.8888888888888888,
              "#fdca26"
             ],
             [
              1,
              "#f0f921"
             ]
            ],
            "type": "heatmapgl"
           }
          ],
          "histogram": [
           {
            "marker": {
             "colorbar": {
              "outlinewidth": 0,
              "ticks": ""
             }
            },
            "type": "histogram"
           }
          ],
          "histogram2d": [
           {
            "colorbar": {
             "outlinewidth": 0,
             "ticks": ""
            },
            "colorscale": [
             [
              0,
              "#0d0887"
             ],
             [
              0.1111111111111111,
              "#46039f"
             ],
             [
              0.2222222222222222,
              "#7201a8"
             ],
             [
              0.3333333333333333,
              "#9c179e"
             ],
             [
              0.4444444444444444,
              "#bd3786"
             ],
             [
              0.5555555555555556,
              "#d8576b"
             ],
             [
              0.6666666666666666,
              "#ed7953"
             ],
             [
              0.7777777777777778,
              "#fb9f3a"
             ],
             [
              0.8888888888888888,
              "#fdca26"
             ],
             [
              1,
              "#f0f921"
             ]
            ],
            "type": "histogram2d"
           }
          ],
          "histogram2dcontour": [
           {
            "colorbar": {
             "outlinewidth": 0,
             "ticks": ""
            },
            "colorscale": [
             [
              0,
              "#0d0887"
             ],
             [
              0.1111111111111111,
              "#46039f"
             ],
             [
              0.2222222222222222,
              "#7201a8"
             ],
             [
              0.3333333333333333,
              "#9c179e"
             ],
             [
              0.4444444444444444,
              "#bd3786"
             ],
             [
              0.5555555555555556,
              "#d8576b"
             ],
             [
              0.6666666666666666,
              "#ed7953"
             ],
             [
              0.7777777777777778,
              "#fb9f3a"
             ],
             [
              0.8888888888888888,
              "#fdca26"
             ],
             [
              1,
              "#f0f921"
             ]
            ],
            "type": "histogram2dcontour"
           }
          ],
          "mesh3d": [
           {
            "colorbar": {
             "outlinewidth": 0,
             "ticks": ""
            },
            "type": "mesh3d"
           }
          ],
          "parcoords": [
           {
            "line": {
             "colorbar": {
              "outlinewidth": 0,
              "ticks": ""
             }
            },
            "type": "parcoords"
           }
          ],
          "pie": [
           {
            "automargin": true,
            "type": "pie"
           }
          ],
          "scatter": [
           {
            "marker": {
             "colorbar": {
              "outlinewidth": 0,
              "ticks": ""
             }
            },
            "type": "scatter"
           }
          ],
          "scatter3d": [
           {
            "line": {
             "colorbar": {
              "outlinewidth": 0,
              "ticks": ""
             }
            },
            "marker": {
             "colorbar": {
              "outlinewidth": 0,
              "ticks": ""
             }
            },
            "type": "scatter3d"
           }
          ],
          "scattercarpet": [
           {
            "marker": {
             "colorbar": {
              "outlinewidth": 0,
              "ticks": ""
             }
            },
            "type": "scattercarpet"
           }
          ],
          "scattergeo": [
           {
            "marker": {
             "colorbar": {
              "outlinewidth": 0,
              "ticks": ""
             }
            },
            "type": "scattergeo"
           }
          ],
          "scattergl": [
           {
            "marker": {
             "colorbar": {
              "outlinewidth": 0,
              "ticks": ""
             }
            },
            "type": "scattergl"
           }
          ],
          "scattermapbox": [
           {
            "marker": {
             "colorbar": {
              "outlinewidth": 0,
              "ticks": ""
             }
            },
            "type": "scattermapbox"
           }
          ],
          "scatterpolar": [
           {
            "marker": {
             "colorbar": {
              "outlinewidth": 0,
              "ticks": ""
             }
            },
            "type": "scatterpolar"
           }
          ],
          "scatterpolargl": [
           {
            "marker": {
             "colorbar": {
              "outlinewidth": 0,
              "ticks": ""
             }
            },
            "type": "scatterpolargl"
           }
          ],
          "scatterternary": [
           {
            "marker": {
             "colorbar": {
              "outlinewidth": 0,
              "ticks": ""
             }
            },
            "type": "scatterternary"
           }
          ],
          "surface": [
           {
            "colorbar": {
             "outlinewidth": 0,
             "ticks": ""
            },
            "colorscale": [
             [
              0,
              "#0d0887"
             ],
             [
              0.1111111111111111,
              "#46039f"
             ],
             [
              0.2222222222222222,
              "#7201a8"
             ],
             [
              0.3333333333333333,
              "#9c179e"
             ],
             [
              0.4444444444444444,
              "#bd3786"
             ],
             [
              0.5555555555555556,
              "#d8576b"
             ],
             [
              0.6666666666666666,
              "#ed7953"
             ],
             [
              0.7777777777777778,
              "#fb9f3a"
             ],
             [
              0.8888888888888888,
              "#fdca26"
             ],
             [
              1,
              "#f0f921"
             ]
            ],
            "type": "surface"
           }
          ],
          "table": [
           {
            "cells": {
             "fill": {
              "color": "#EBF0F8"
             },
             "line": {
              "color": "white"
             }
            },
            "header": {
             "fill": {
              "color": "#C8D4E3"
             },
             "line": {
              "color": "white"
             }
            },
            "type": "table"
           }
          ]
         },
         "layout": {
          "annotationdefaults": {
           "arrowcolor": "#2a3f5f",
           "arrowhead": 0,
           "arrowwidth": 1
          },
          "coloraxis": {
           "colorbar": {
            "outlinewidth": 0,
            "ticks": ""
           }
          },
          "colorscale": {
           "diverging": [
            [
             0,
             "#8e0152"
            ],
            [
             0.1,
             "#c51b7d"
            ],
            [
             0.2,
             "#de77ae"
            ],
            [
             0.3,
             "#f1b6da"
            ],
            [
             0.4,
             "#fde0ef"
            ],
            [
             0.5,
             "#f7f7f7"
            ],
            [
             0.6,
             "#e6f5d0"
            ],
            [
             0.7,
             "#b8e186"
            ],
            [
             0.8,
             "#7fbc41"
            ],
            [
             0.9,
             "#4d9221"
            ],
            [
             1,
             "#276419"
            ]
           ],
           "sequential": [
            [
             0,
             "#0d0887"
            ],
            [
             0.1111111111111111,
             "#46039f"
            ],
            [
             0.2222222222222222,
             "#7201a8"
            ],
            [
             0.3333333333333333,
             "#9c179e"
            ],
            [
             0.4444444444444444,
             "#bd3786"
            ],
            [
             0.5555555555555556,
             "#d8576b"
            ],
            [
             0.6666666666666666,
             "#ed7953"
            ],
            [
             0.7777777777777778,
             "#fb9f3a"
            ],
            [
             0.8888888888888888,
             "#fdca26"
            ],
            [
             1,
             "#f0f921"
            ]
           ],
           "sequentialminus": [
            [
             0,
             "#0d0887"
            ],
            [
             0.1111111111111111,
             "#46039f"
            ],
            [
             0.2222222222222222,
             "#7201a8"
            ],
            [
             0.3333333333333333,
             "#9c179e"
            ],
            [
             0.4444444444444444,
             "#bd3786"
            ],
            [
             0.5555555555555556,
             "#d8576b"
            ],
            [
             0.6666666666666666,
             "#ed7953"
            ],
            [
             0.7777777777777778,
             "#fb9f3a"
            ],
            [
             0.8888888888888888,
             "#fdca26"
            ],
            [
             1,
             "#f0f921"
            ]
           ]
          },
          "colorway": [
           "#636efa",
           "#EF553B",
           "#00cc96",
           "#ab63fa",
           "#FFA15A",
           "#19d3f3",
           "#FF6692",
           "#B6E880",
           "#FF97FF",
           "#FECB52"
          ],
          "font": {
           "color": "#2a3f5f"
          },
          "geo": {
           "bgcolor": "white",
           "lakecolor": "white",
           "landcolor": "#E5ECF6",
           "showlakes": true,
           "showland": true,
           "subunitcolor": "white"
          },
          "hoverlabel": {
           "align": "left"
          },
          "hovermode": "closest",
          "mapbox": {
           "style": "light"
          },
          "paper_bgcolor": "white",
          "plot_bgcolor": "#E5ECF6",
          "polar": {
           "angularaxis": {
            "gridcolor": "white",
            "linecolor": "white",
            "ticks": ""
           },
           "bgcolor": "#E5ECF6",
           "radialaxis": {
            "gridcolor": "white",
            "linecolor": "white",
            "ticks": ""
           }
          },
          "scene": {
           "xaxis": {
            "backgroundcolor": "#E5ECF6",
            "gridcolor": "white",
            "gridwidth": 2,
            "linecolor": "white",
            "showbackground": true,
            "ticks": "",
            "zerolinecolor": "white"
           },
           "yaxis": {
            "backgroundcolor": "#E5ECF6",
            "gridcolor": "white",
            "gridwidth": 2,
            "linecolor": "white",
            "showbackground": true,
            "ticks": "",
            "zerolinecolor": "white"
           },
           "zaxis": {
            "backgroundcolor": "#E5ECF6",
            "gridcolor": "white",
            "gridwidth": 2,
            "linecolor": "white",
            "showbackground": true,
            "ticks": "",
            "zerolinecolor": "white"
           }
          },
          "shapedefaults": {
           "line": {
            "color": "#2a3f5f"
           }
          },
          "ternary": {
           "aaxis": {
            "gridcolor": "white",
            "linecolor": "white",
            "ticks": ""
           },
           "baxis": {
            "gridcolor": "white",
            "linecolor": "white",
            "ticks": ""
           },
           "bgcolor": "#E5ECF6",
           "caxis": {
            "gridcolor": "white",
            "linecolor": "white",
            "ticks": ""
           }
          },
          "title": {
           "x": 0.05
          },
          "xaxis": {
           "automargin": true,
           "gridcolor": "white",
           "linecolor": "white",
           "ticks": "",
           "title": {
            "standoff": 15
           },
           "zerolinecolor": "white",
           "zerolinewidth": 2
          },
          "yaxis": {
           "automargin": true,
           "gridcolor": "white",
           "linecolor": "white",
           "ticks": "",
           "title": {
            "standoff": 15
           },
           "zerolinecolor": "white",
           "zerolinewidth": 2
          }
         }
        },
        "title": {
         "font": {
          "color": "#4D5663"
         }
        },
        "xaxis": {
         "gridcolor": "#E1E5ED",
         "showgrid": true,
         "tickfont": {
          "color": "#4D5663"
         },
         "title": {
          "font": {
           "color": "#4D5663"
          },
          "text": ""
         },
         "zerolinecolor": "#E1E5ED"
        },
        "yaxis": {
         "gridcolor": "#E1E5ED",
         "showgrid": true,
         "tickfont": {
          "color": "#4D5663"
         },
         "title": {
          "font": {
           "color": "#4D5663"
          },
          "text": ""
         },
         "zerolinecolor": "#E1E5ED"
        }
       }
      },
      "text/html": [
       "<div>                            <div id=\"e58cb0e9-65d4-4b59-8864-0439781fd79a\" class=\"plotly-graph-div\" style=\"height:525px; width:100%;\"></div>            <script type=\"text/javascript\">                require([\"plotly\"], function(Plotly) {                    window.PLOTLYENV=window.PLOTLYENV || {};\n",
       "                    window.PLOTLYENV.BASE_URL='https://plot.ly';                                    if (document.getElementById(\"e58cb0e9-65d4-4b59-8864-0439781fd79a\")) {                    Plotly.newPlot(                        \"e58cb0e9-65d4-4b59-8864-0439781fd79a\",                        [{\"marker\": {\"color\": \"rgba(255, 153, 51, 0.6)\", \"line\": {\"color\": \"rgba(255, 153, 51, 1.0)\", \"width\": 1}}, \"name\": \"Active_case\", \"orientation\": \"v\", \"text\": \"\", \"type\": \"bar\", \"x\": [\"Andhra Pradesh\", \"Chhattisgarh\", \"Delhi\", \"Gujarat\", \"Haryana\", \"Himachal Pradesh\", \"Karnataka\", \"Kerala\", \"Madhya Pradesh\", \"Maharashtra\", \"Odisha\", \"Puducherry\", \"Punjab\", \"Rajasthan\", \"Tamil Nadu\", \"Telengana\", \"Chandigarh\", \"Jammu and Kashmir\", \"Ladakh\", \"Uttar Pradesh\", \"Uttarakhand\", \"West Bengal\", \"Bihar\", \"Mizoram\", \"Goa\", \"Manipur\"], \"y\": [11, 6, 33, 43, 19, 4, 17, 127, 23, 132, 3, 1, 29, 40, 34, 44, 7, 17, 13, 32, 4, 11, 7, 1, 6, 1]}],                        {\"legend\": {\"bgcolor\": \"#F5F6F9\", \"font\": {\"color\": \"#4D5663\"}}, \"paper_bgcolor\": \"#F5F6F9\", \"plot_bgcolor\": \"#F5F6F9\", \"template\": {\"data\": {\"bar\": [{\"error_x\": {\"color\": \"#2a3f5f\"}, \"error_y\": {\"color\": \"#2a3f5f\"}, \"marker\": {\"line\": {\"color\": \"#E5ECF6\", \"width\": 0.5}}, \"type\": \"bar\"}], \"barpolar\": [{\"marker\": {\"line\": {\"color\": \"#E5ECF6\", \"width\": 0.5}}, \"type\": \"barpolar\"}], \"carpet\": [{\"aaxis\": {\"endlinecolor\": \"#2a3f5f\", \"gridcolor\": \"white\", \"linecolor\": \"white\", \"minorgridcolor\": \"white\", \"startlinecolor\": \"#2a3f5f\"}, \"baxis\": {\"endlinecolor\": \"#2a3f5f\", \"gridcolor\": \"white\", \"linecolor\": \"white\", \"minorgridcolor\": \"white\", \"startlinecolor\": \"#2a3f5f\"}, \"type\": \"carpet\"}], \"choropleth\": [{\"colorbar\": {\"outlinewidth\": 0, \"ticks\": \"\"}, \"type\": \"choropleth\"}], \"contour\": [{\"colorbar\": {\"outlinewidth\": 0, \"ticks\": \"\"}, \"colorscale\": [[0.0, \"#0d0887\"], [0.1111111111111111, \"#46039f\"], [0.2222222222222222, \"#7201a8\"], [0.3333333333333333, \"#9c179e\"], [0.4444444444444444, \"#bd3786\"], [0.5555555555555556, \"#d8576b\"], [0.6666666666666666, \"#ed7953\"], [0.7777777777777778, \"#fb9f3a\"], [0.8888888888888888, \"#fdca26\"], [1.0, \"#f0f921\"]], \"type\": \"contour\"}], \"contourcarpet\": [{\"colorbar\": {\"outlinewidth\": 0, \"ticks\": \"\"}, \"type\": \"contourcarpet\"}], \"heatmap\": [{\"colorbar\": {\"outlinewidth\": 0, \"ticks\": \"\"}, \"colorscale\": [[0.0, \"#0d0887\"], [0.1111111111111111, \"#46039f\"], [0.2222222222222222, \"#7201a8\"], [0.3333333333333333, \"#9c179e\"], [0.4444444444444444, \"#bd3786\"], [0.5555555555555556, \"#d8576b\"], [0.6666666666666666, \"#ed7953\"], [0.7777777777777778, \"#fb9f3a\"], [0.8888888888888888, \"#fdca26\"], [1.0, \"#f0f921\"]], \"type\": \"heatmap\"}], \"heatmapgl\": [{\"colorbar\": {\"outlinewidth\": 0, \"ticks\": \"\"}, \"colorscale\": [[0.0, \"#0d0887\"], [0.1111111111111111, \"#46039f\"], [0.2222222222222222, \"#7201a8\"], [0.3333333333333333, \"#9c179e\"], [0.4444444444444444, \"#bd3786\"], [0.5555555555555556, \"#d8576b\"], [0.6666666666666666, \"#ed7953\"], [0.7777777777777778, \"#fb9f3a\"], [0.8888888888888888, \"#fdca26\"], [1.0, \"#f0f921\"]], \"type\": \"heatmapgl\"}], \"histogram\": [{\"marker\": {\"colorbar\": {\"outlinewidth\": 0, \"ticks\": \"\"}}, \"type\": \"histogram\"}], \"histogram2d\": [{\"colorbar\": {\"outlinewidth\": 0, \"ticks\": \"\"}, \"colorscale\": [[0.0, \"#0d0887\"], [0.1111111111111111, \"#46039f\"], [0.2222222222222222, \"#7201a8\"], [0.3333333333333333, \"#9c179e\"], [0.4444444444444444, \"#bd3786\"], [0.5555555555555556, \"#d8576b\"], [0.6666666666666666, \"#ed7953\"], [0.7777777777777778, \"#fb9f3a\"], [0.8888888888888888, \"#fdca26\"], [1.0, \"#f0f921\"]], \"type\": \"histogram2d\"}], \"histogram2dcontour\": [{\"colorbar\": {\"outlinewidth\": 0, \"ticks\": \"\"}, \"colorscale\": [[0.0, \"#0d0887\"], [0.1111111111111111, \"#46039f\"], [0.2222222222222222, \"#7201a8\"], [0.3333333333333333, \"#9c179e\"], [0.4444444444444444, \"#bd3786\"], [0.5555555555555556, \"#d8576b\"], [0.6666666666666666, \"#ed7953\"], [0.7777777777777778, \"#fb9f3a\"], [0.8888888888888888, \"#fdca26\"], [1.0, \"#f0f921\"]], \"type\": \"histogram2dcontour\"}], \"mesh3d\": [{\"colorbar\": {\"outlinewidth\": 0, \"ticks\": \"\"}, \"type\": \"mesh3d\"}], \"parcoords\": [{\"line\": {\"colorbar\": {\"outlinewidth\": 0, \"ticks\": \"\"}}, \"type\": \"parcoords\"}], \"pie\": [{\"automargin\": true, \"type\": \"pie\"}], \"scatter\": [{\"marker\": {\"colorbar\": {\"outlinewidth\": 0, \"ticks\": \"\"}}, \"type\": \"scatter\"}], \"scatter3d\": [{\"line\": {\"colorbar\": {\"outlinewidth\": 0, \"ticks\": \"\"}}, \"marker\": {\"colorbar\": {\"outlinewidth\": 0, \"ticks\": \"\"}}, \"type\": \"scatter3d\"}], \"scattercarpet\": [{\"marker\": {\"colorbar\": {\"outlinewidth\": 0, \"ticks\": \"\"}}, \"type\": \"scattercarpet\"}], \"scattergeo\": [{\"marker\": {\"colorbar\": {\"outlinewidth\": 0, \"ticks\": \"\"}}, \"type\": \"scattergeo\"}], \"scattergl\": [{\"marker\": {\"colorbar\": {\"outlinewidth\": 0, \"ticks\": \"\"}}, \"type\": \"scattergl\"}], \"scattermapbox\": [{\"marker\": {\"colorbar\": {\"outlinewidth\": 0, \"ticks\": \"\"}}, \"type\": \"scattermapbox\"}], \"scatterpolar\": [{\"marker\": {\"colorbar\": {\"outlinewidth\": 0, \"ticks\": \"\"}}, \"type\": \"scatterpolar\"}], \"scatterpolargl\": [{\"marker\": {\"colorbar\": {\"outlinewidth\": 0, \"ticks\": \"\"}}, \"type\": \"scatterpolargl\"}], \"scatterternary\": [{\"marker\": {\"colorbar\": {\"outlinewidth\": 0, \"ticks\": \"\"}}, \"type\": \"scatterternary\"}], \"surface\": [{\"colorbar\": {\"outlinewidth\": 0, \"ticks\": \"\"}, \"colorscale\": [[0.0, \"#0d0887\"], [0.1111111111111111, \"#46039f\"], [0.2222222222222222, \"#7201a8\"], [0.3333333333333333, \"#9c179e\"], [0.4444444444444444, \"#bd3786\"], [0.5555555555555556, \"#d8576b\"], [0.6666666666666666, \"#ed7953\"], [0.7777777777777778, \"#fb9f3a\"], [0.8888888888888888, \"#fdca26\"], [1.0, \"#f0f921\"]], \"type\": \"surface\"}], \"table\": [{\"cells\": {\"fill\": {\"color\": \"#EBF0F8\"}, \"line\": {\"color\": \"white\"}}, \"header\": {\"fill\": {\"color\": \"#C8D4E3\"}, \"line\": {\"color\": \"white\"}}, \"type\": \"table\"}]}, \"layout\": {\"annotationdefaults\": {\"arrowcolor\": \"#2a3f5f\", \"arrowhead\": 0, \"arrowwidth\": 1}, \"coloraxis\": {\"colorbar\": {\"outlinewidth\": 0, \"ticks\": \"\"}}, \"colorscale\": {\"diverging\": [[0, \"#8e0152\"], [0.1, \"#c51b7d\"], [0.2, \"#de77ae\"], [0.3, \"#f1b6da\"], [0.4, \"#fde0ef\"], [0.5, \"#f7f7f7\"], [0.6, \"#e6f5d0\"], [0.7, \"#b8e186\"], [0.8, \"#7fbc41\"], [0.9, \"#4d9221\"], [1, \"#276419\"]], \"sequential\": [[0.0, \"#0d0887\"], [0.1111111111111111, \"#46039f\"], [0.2222222222222222, \"#7201a8\"], [0.3333333333333333, \"#9c179e\"], [0.4444444444444444, \"#bd3786\"], [0.5555555555555556, \"#d8576b\"], [0.6666666666666666, \"#ed7953\"], [0.7777777777777778, \"#fb9f3a\"], [0.8888888888888888, \"#fdca26\"], [1.0, \"#f0f921\"]], \"sequentialminus\": [[0.0, \"#0d0887\"], [0.1111111111111111, \"#46039f\"], [0.2222222222222222, \"#7201a8\"], [0.3333333333333333, \"#9c179e\"], [0.4444444444444444, \"#bd3786\"], [0.5555555555555556, \"#d8576b\"], [0.6666666666666666, \"#ed7953\"], [0.7777777777777778, \"#fb9f3a\"], [0.8888888888888888, \"#fdca26\"], [1.0, \"#f0f921\"]]}, \"colorway\": [\"#636efa\", \"#EF553B\", \"#00cc96\", \"#ab63fa\", \"#FFA15A\", \"#19d3f3\", \"#FF6692\", \"#B6E880\", \"#FF97FF\", \"#FECB52\"], \"font\": {\"color\": \"#2a3f5f\"}, \"geo\": {\"bgcolor\": \"white\", \"lakecolor\": \"white\", \"landcolor\": \"#E5ECF6\", \"showlakes\": true, \"showland\": true, \"subunitcolor\": \"white\"}, \"hoverlabel\": {\"align\": \"left\"}, \"hovermode\": \"closest\", \"mapbox\": {\"style\": \"light\"}, \"paper_bgcolor\": \"white\", \"plot_bgcolor\": \"#E5ECF6\", \"polar\": {\"angularaxis\": {\"gridcolor\": \"white\", \"linecolor\": \"white\", \"ticks\": \"\"}, \"bgcolor\": \"#E5ECF6\", \"radialaxis\": {\"gridcolor\": \"white\", \"linecolor\": \"white\", \"ticks\": \"\"}}, \"scene\": {\"xaxis\": {\"backgroundcolor\": \"#E5ECF6\", \"gridcolor\": \"white\", \"gridwidth\": 2, \"linecolor\": \"white\", \"showbackground\": true, \"ticks\": \"\", \"zerolinecolor\": \"white\"}, \"yaxis\": {\"backgroundcolor\": \"#E5ECF6\", \"gridcolor\": \"white\", \"gridwidth\": 2, \"linecolor\": \"white\", \"showbackground\": true, \"ticks\": \"\", \"zerolinecolor\": \"white\"}, \"zaxis\": {\"backgroundcolor\": \"#E5ECF6\", \"gridcolor\": \"white\", \"gridwidth\": 2, \"linecolor\": \"white\", \"showbackground\": true, \"ticks\": \"\", \"zerolinecolor\": \"white\"}}, \"shapedefaults\": {\"line\": {\"color\": \"#2a3f5f\"}}, \"ternary\": {\"aaxis\": {\"gridcolor\": \"white\", \"linecolor\": \"white\", \"ticks\": \"\"}, \"baxis\": {\"gridcolor\": \"white\", \"linecolor\": \"white\", \"ticks\": \"\"}, \"bgcolor\": \"#E5ECF6\", \"caxis\": {\"gridcolor\": \"white\", \"linecolor\": \"white\", \"ticks\": \"\"}}, \"title\": {\"x\": 0.05}, \"xaxis\": {\"automargin\": true, \"gridcolor\": \"white\", \"linecolor\": \"white\", \"ticks\": \"\", \"title\": {\"standoff\": 15}, \"zerolinecolor\": \"white\", \"zerolinewidth\": 2}, \"yaxis\": {\"automargin\": true, \"gridcolor\": \"white\", \"linecolor\": \"white\", \"ticks\": \"\", \"title\": {\"standoff\": 15}, \"zerolinecolor\": \"white\", \"zerolinewidth\": 2}}}, \"title\": {\"font\": {\"color\": \"#4D5663\"}}, \"xaxis\": {\"gridcolor\": \"#E1E5ED\", \"showgrid\": true, \"tickfont\": {\"color\": \"#4D5663\"}, \"title\": {\"font\": {\"color\": \"#4D5663\"}, \"text\": \"\"}, \"zerolinecolor\": \"#E1E5ED\"}, \"yaxis\": {\"gridcolor\": \"#E1E5ED\", \"showgrid\": true, \"tickfont\": {\"color\": \"#4D5663\"}, \"title\": {\"font\": {\"color\": \"#4D5663\"}, \"text\": \"\"}, \"zerolinecolor\": \"#E1E5ED\"}},                        {\"showLink\": true, \"linkText\": \"Export to plot.ly\", \"plotlyServerURL\": \"https://plot.ly\", \"responsive\": true}                    ).then(function(){\n",
       "                            \n",
       "var gd = document.getElementById('e58cb0e9-65d4-4b59-8864-0439781fd79a');\n",
       "var x = new MutationObserver(function (mutations, observer) {{\n",
       "        var display = window.getComputedStyle(gd).display;\n",
       "        if (!display || display === 'none') {{\n",
       "            console.log([gd, 'removed!']);\n",
       "            Plotly.purge(gd);\n",
       "            observer.disconnect();\n",
       "        }}\n",
       "}});\n",
       "\n",
       "// Listen for the removal of the full notebook cells\n",
       "var notebookContainer = gd.closest('#notebook-container');\n",
       "if (notebookContainer) {{\n",
       "    x.observe(notebookContainer, {childList: true});\n",
       "}}\n",
       "\n",
       "// Listen for the clearing of the current output cell\n",
       "var outputEl = gd.closest('.output');\n",
       "if (outputEl) {{\n",
       "    x.observe(outputEl, {childList: true});\n",
       "}}\n",
       "\n",
       "                        })                };                });            </script>        </div>"
      ]
     },
     "metadata": {},
     "output_type": "display_data"
    }
   ],
   "source": [
    "#ploty graph\n",
    "df.iplot(kind=\"bar\",x='Name of State / UT' \n",
    "         ,y='Active_case')"
   ]
  },
  {
   "cell_type": "code",
   "execution_count": 11,
   "metadata": {
    "scrolled": true
   },
   "outputs": [
    {
     "data": {
      "application/vnd.plotly.v1+json": {
       "config": {
        "plotlyServerURL": "https://plot.ly"
       },
       "data": [
        {
         "alignmentgroup": "True",
         "hovertemplate": "Name of State / UT=%{x}<br>Cured=%{y}<extra></extra>",
         "legendgroup": "",
         "marker": {
          "color": "#636efa"
         },
         "name": "",
         "offsetgroup": "",
         "orientation": "v",
         "showlegend": false,
         "textposition": "auto",
         "type": "bar",
         "x": [
          "Andhra Pradesh",
          "Chhattisgarh",
          "Delhi",
          "Gujarat",
          "Haryana",
          "Himachal Pradesh",
          "Karnataka",
          "Kerala",
          "Madhya Pradesh",
          "Maharashtra",
          "Odisha",
          "Puducherry",
          "Punjab",
          "Rajasthan",
          "Tamil Nadu",
          "Telengana",
          "Chandigarh",
          "Jammu and Kashmir",
          "Ladakh",
          "Uttar Pradesh",
          "Uttarakhand",
          "West Bengal",
          "Bihar",
          "Mizoram",
          "Goa",
          "Manipur"
         ],
         "xaxis": "x",
         "y": [
          1,
          0,
          6,
          0,
          11,
          0,
          3,
          11,
          0,
          15,
          0,
          0,
          0,
          3,
          1,
          1,
          0,
          1,
          0,
          11,
          0,
          0,
          0,
          0,
          0,
          0
         ],
         "yaxis": "y"
        }
       ],
       "layout": {
        "barmode": "relative",
        "legend": {
         "tracegroupgap": 0
        },
        "template": {
         "data": {
          "bar": [
           {
            "error_x": {
             "color": "#2a3f5f"
            },
            "error_y": {
             "color": "#2a3f5f"
            },
            "marker": {
             "line": {
              "color": "#E5ECF6",
              "width": 0.5
             }
            },
            "type": "bar"
           }
          ],
          "barpolar": [
           {
            "marker": {
             "line": {
              "color": "#E5ECF6",
              "width": 0.5
             }
            },
            "type": "barpolar"
           }
          ],
          "carpet": [
           {
            "aaxis": {
             "endlinecolor": "#2a3f5f",
             "gridcolor": "white",
             "linecolor": "white",
             "minorgridcolor": "white",
             "startlinecolor": "#2a3f5f"
            },
            "baxis": {
             "endlinecolor": "#2a3f5f",
             "gridcolor": "white",
             "linecolor": "white",
             "minorgridcolor": "white",
             "startlinecolor": "#2a3f5f"
            },
            "type": "carpet"
           }
          ],
          "choropleth": [
           {
            "colorbar": {
             "outlinewidth": 0,
             "ticks": ""
            },
            "type": "choropleth"
           }
          ],
          "contour": [
           {
            "colorbar": {
             "outlinewidth": 0,
             "ticks": ""
            },
            "colorscale": [
             [
              0,
              "#0d0887"
             ],
             [
              0.1111111111111111,
              "#46039f"
             ],
             [
              0.2222222222222222,
              "#7201a8"
             ],
             [
              0.3333333333333333,
              "#9c179e"
             ],
             [
              0.4444444444444444,
              "#bd3786"
             ],
             [
              0.5555555555555556,
              "#d8576b"
             ],
             [
              0.6666666666666666,
              "#ed7953"
             ],
             [
              0.7777777777777778,
              "#fb9f3a"
             ],
             [
              0.8888888888888888,
              "#fdca26"
             ],
             [
              1,
              "#f0f921"
             ]
            ],
            "type": "contour"
           }
          ],
          "contourcarpet": [
           {
            "colorbar": {
             "outlinewidth": 0,
             "ticks": ""
            },
            "type": "contourcarpet"
           }
          ],
          "heatmap": [
           {
            "colorbar": {
             "outlinewidth": 0,
             "ticks": ""
            },
            "colorscale": [
             [
              0,
              "#0d0887"
             ],
             [
              0.1111111111111111,
              "#46039f"
             ],
             [
              0.2222222222222222,
              "#7201a8"
             ],
             [
              0.3333333333333333,
              "#9c179e"
             ],
             [
              0.4444444444444444,
              "#bd3786"
             ],
             [
              0.5555555555555556,
              "#d8576b"
             ],
             [
              0.6666666666666666,
              "#ed7953"
             ],
             [
              0.7777777777777778,
              "#fb9f3a"
             ],
             [
              0.8888888888888888,
              "#fdca26"
             ],
             [
              1,
              "#f0f921"
             ]
            ],
            "type": "heatmap"
           }
          ],
          "heatmapgl": [
           {
            "colorbar": {
             "outlinewidth": 0,
             "ticks": ""
            },
            "colorscale": [
             [
              0,
              "#0d0887"
             ],
             [
              0.1111111111111111,
              "#46039f"
             ],
             [
              0.2222222222222222,
              "#7201a8"
             ],
             [
              0.3333333333333333,
              "#9c179e"
             ],
             [
              0.4444444444444444,
              "#bd3786"
             ],
             [
              0.5555555555555556,
              "#d8576b"
             ],
             [
              0.6666666666666666,
              "#ed7953"
             ],
             [
              0.7777777777777778,
              "#fb9f3a"
             ],
             [
              0.8888888888888888,
              "#fdca26"
             ],
             [
              1,
              "#f0f921"
             ]
            ],
            "type": "heatmapgl"
           }
          ],
          "histogram": [
           {
            "marker": {
             "colorbar": {
              "outlinewidth": 0,
              "ticks": ""
             }
            },
            "type": "histogram"
           }
          ],
          "histogram2d": [
           {
            "colorbar": {
             "outlinewidth": 0,
             "ticks": ""
            },
            "colorscale": [
             [
              0,
              "#0d0887"
             ],
             [
              0.1111111111111111,
              "#46039f"
             ],
             [
              0.2222222222222222,
              "#7201a8"
             ],
             [
              0.3333333333333333,
              "#9c179e"
             ],
             [
              0.4444444444444444,
              "#bd3786"
             ],
             [
              0.5555555555555556,
              "#d8576b"
             ],
             [
              0.6666666666666666,
              "#ed7953"
             ],
             [
              0.7777777777777778,
              "#fb9f3a"
             ],
             [
              0.8888888888888888,
              "#fdca26"
             ],
             [
              1,
              "#f0f921"
             ]
            ],
            "type": "histogram2d"
           }
          ],
          "histogram2dcontour": [
           {
            "colorbar": {
             "outlinewidth": 0,
             "ticks": ""
            },
            "colorscale": [
             [
              0,
              "#0d0887"
             ],
             [
              0.1111111111111111,
              "#46039f"
             ],
             [
              0.2222222222222222,
              "#7201a8"
             ],
             [
              0.3333333333333333,
              "#9c179e"
             ],
             [
              0.4444444444444444,
              "#bd3786"
             ],
             [
              0.5555555555555556,
              "#d8576b"
             ],
             [
              0.6666666666666666,
              "#ed7953"
             ],
             [
              0.7777777777777778,
              "#fb9f3a"
             ],
             [
              0.8888888888888888,
              "#fdca26"
             ],
             [
              1,
              "#f0f921"
             ]
            ],
            "type": "histogram2dcontour"
           }
          ],
          "mesh3d": [
           {
            "colorbar": {
             "outlinewidth": 0,
             "ticks": ""
            },
            "type": "mesh3d"
           }
          ],
          "parcoords": [
           {
            "line": {
             "colorbar": {
              "outlinewidth": 0,
              "ticks": ""
             }
            },
            "type": "parcoords"
           }
          ],
          "pie": [
           {
            "automargin": true,
            "type": "pie"
           }
          ],
          "scatter": [
           {
            "marker": {
             "colorbar": {
              "outlinewidth": 0,
              "ticks": ""
             }
            },
            "type": "scatter"
           }
          ],
          "scatter3d": [
           {
            "line": {
             "colorbar": {
              "outlinewidth": 0,
              "ticks": ""
             }
            },
            "marker": {
             "colorbar": {
              "outlinewidth": 0,
              "ticks": ""
             }
            },
            "type": "scatter3d"
           }
          ],
          "scattercarpet": [
           {
            "marker": {
             "colorbar": {
              "outlinewidth": 0,
              "ticks": ""
             }
            },
            "type": "scattercarpet"
           }
          ],
          "scattergeo": [
           {
            "marker": {
             "colorbar": {
              "outlinewidth": 0,
              "ticks": ""
             }
            },
            "type": "scattergeo"
           }
          ],
          "scattergl": [
           {
            "marker": {
             "colorbar": {
              "outlinewidth": 0,
              "ticks": ""
             }
            },
            "type": "scattergl"
           }
          ],
          "scattermapbox": [
           {
            "marker": {
             "colorbar": {
              "outlinewidth": 0,
              "ticks": ""
             }
            },
            "type": "scattermapbox"
           }
          ],
          "scatterpolar": [
           {
            "marker": {
             "colorbar": {
              "outlinewidth": 0,
              "ticks": ""
             }
            },
            "type": "scatterpolar"
           }
          ],
          "scatterpolargl": [
           {
            "marker": {
             "colorbar": {
              "outlinewidth": 0,
              "ticks": ""
             }
            },
            "type": "scatterpolargl"
           }
          ],
          "scatterternary": [
           {
            "marker": {
             "colorbar": {
              "outlinewidth": 0,
              "ticks": ""
             }
            },
            "type": "scatterternary"
           }
          ],
          "surface": [
           {
            "colorbar": {
             "outlinewidth": 0,
             "ticks": ""
            },
            "colorscale": [
             [
              0,
              "#0d0887"
             ],
             [
              0.1111111111111111,
              "#46039f"
             ],
             [
              0.2222222222222222,
              "#7201a8"
             ],
             [
              0.3333333333333333,
              "#9c179e"
             ],
             [
              0.4444444444444444,
              "#bd3786"
             ],
             [
              0.5555555555555556,
              "#d8576b"
             ],
             [
              0.6666666666666666,
              "#ed7953"
             ],
             [
              0.7777777777777778,
              "#fb9f3a"
             ],
             [
              0.8888888888888888,
              "#fdca26"
             ],
             [
              1,
              "#f0f921"
             ]
            ],
            "type": "surface"
           }
          ],
          "table": [
           {
            "cells": {
             "fill": {
              "color": "#EBF0F8"
             },
             "line": {
              "color": "white"
             }
            },
            "header": {
             "fill": {
              "color": "#C8D4E3"
             },
             "line": {
              "color": "white"
             }
            },
            "type": "table"
           }
          ]
         },
         "layout": {
          "annotationdefaults": {
           "arrowcolor": "#2a3f5f",
           "arrowhead": 0,
           "arrowwidth": 1
          },
          "coloraxis": {
           "colorbar": {
            "outlinewidth": 0,
            "ticks": ""
           }
          },
          "colorscale": {
           "diverging": [
            [
             0,
             "#8e0152"
            ],
            [
             0.1,
             "#c51b7d"
            ],
            [
             0.2,
             "#de77ae"
            ],
            [
             0.3,
             "#f1b6da"
            ],
            [
             0.4,
             "#fde0ef"
            ],
            [
             0.5,
             "#f7f7f7"
            ],
            [
             0.6,
             "#e6f5d0"
            ],
            [
             0.7,
             "#b8e186"
            ],
            [
             0.8,
             "#7fbc41"
            ],
            [
             0.9,
             "#4d9221"
            ],
            [
             1,
             "#276419"
            ]
           ],
           "sequential": [
            [
             0,
             "#0d0887"
            ],
            [
             0.1111111111111111,
             "#46039f"
            ],
            [
             0.2222222222222222,
             "#7201a8"
            ],
            [
             0.3333333333333333,
             "#9c179e"
            ],
            [
             0.4444444444444444,
             "#bd3786"
            ],
            [
             0.5555555555555556,
             "#d8576b"
            ],
            [
             0.6666666666666666,
             "#ed7953"
            ],
            [
             0.7777777777777778,
             "#fb9f3a"
            ],
            [
             0.8888888888888888,
             "#fdca26"
            ],
            [
             1,
             "#f0f921"
            ]
           ],
           "sequentialminus": [
            [
             0,
             "#0d0887"
            ],
            [
             0.1111111111111111,
             "#46039f"
            ],
            [
             0.2222222222222222,
             "#7201a8"
            ],
            [
             0.3333333333333333,
             "#9c179e"
            ],
            [
             0.4444444444444444,
             "#bd3786"
            ],
            [
             0.5555555555555556,
             "#d8576b"
            ],
            [
             0.6666666666666666,
             "#ed7953"
            ],
            [
             0.7777777777777778,
             "#fb9f3a"
            ],
            [
             0.8888888888888888,
             "#fdca26"
            ],
            [
             1,
             "#f0f921"
            ]
           ]
          },
          "colorway": [
           "#636efa",
           "#EF553B",
           "#00cc96",
           "#ab63fa",
           "#FFA15A",
           "#19d3f3",
           "#FF6692",
           "#B6E880",
           "#FF97FF",
           "#FECB52"
          ],
          "font": {
           "color": "#2a3f5f"
          },
          "geo": {
           "bgcolor": "white",
           "lakecolor": "white",
           "landcolor": "#E5ECF6",
           "showlakes": true,
           "showland": true,
           "subunitcolor": "white"
          },
          "hoverlabel": {
           "align": "left"
          },
          "hovermode": "closest",
          "mapbox": {
           "style": "light"
          },
          "paper_bgcolor": "white",
          "plot_bgcolor": "#E5ECF6",
          "polar": {
           "angularaxis": {
            "gridcolor": "white",
            "linecolor": "white",
            "ticks": ""
           },
           "bgcolor": "#E5ECF6",
           "radialaxis": {
            "gridcolor": "white",
            "linecolor": "white",
            "ticks": ""
           }
          },
          "scene": {
           "xaxis": {
            "backgroundcolor": "#E5ECF6",
            "gridcolor": "white",
            "gridwidth": 2,
            "linecolor": "white",
            "showbackground": true,
            "ticks": "",
            "zerolinecolor": "white"
           },
           "yaxis": {
            "backgroundcolor": "#E5ECF6",
            "gridcolor": "white",
            "gridwidth": 2,
            "linecolor": "white",
            "showbackground": true,
            "ticks": "",
            "zerolinecolor": "white"
           },
           "zaxis": {
            "backgroundcolor": "#E5ECF6",
            "gridcolor": "white",
            "gridwidth": 2,
            "linecolor": "white",
            "showbackground": true,
            "ticks": "",
            "zerolinecolor": "white"
           }
          },
          "shapedefaults": {
           "line": {
            "color": "#2a3f5f"
           }
          },
          "ternary": {
           "aaxis": {
            "gridcolor": "white",
            "linecolor": "white",
            "ticks": ""
           },
           "baxis": {
            "gridcolor": "white",
            "linecolor": "white",
            "ticks": ""
           },
           "bgcolor": "#E5ECF6",
           "caxis": {
            "gridcolor": "white",
            "linecolor": "white",
            "ticks": ""
           }
          },
          "title": {
           "x": 0.05
          },
          "xaxis": {
           "automargin": true,
           "gridcolor": "white",
           "linecolor": "white",
           "ticks": "",
           "title": {
            "standoff": 15
           },
           "zerolinecolor": "white",
           "zerolinewidth": 2
          },
          "yaxis": {
           "automargin": true,
           "gridcolor": "white",
           "linecolor": "white",
           "ticks": "",
           "title": {
            "standoff": 15
           },
           "zerolinecolor": "white",
           "zerolinewidth": 2
          }
         }
        },
        "title": {
         "text": "Cured cases"
        },
        "xaxis": {
         "anchor": "y",
         "domain": [
          0,
          1
         ],
         "title": {
          "text": "Name of State / UT"
         }
        },
        "yaxis": {
         "anchor": "x",
         "domain": [
          0,
          1
         ],
         "title": {
          "text": "Cured"
         }
        }
       }
      },
      "text/html": [
       "<div>                            <div id=\"04105dc4-5372-4e0d-a8f5-2c4d1264c6b6\" class=\"plotly-graph-div\" style=\"height:525px; width:100%;\"></div>            <script type=\"text/javascript\">                require([\"plotly\"], function(Plotly) {                    window.PLOTLYENV=window.PLOTLYENV || {};                                    if (document.getElementById(\"04105dc4-5372-4e0d-a8f5-2c4d1264c6b6\")) {                    Plotly.newPlot(                        \"04105dc4-5372-4e0d-a8f5-2c4d1264c6b6\",                        [{\"alignmentgroup\": \"True\", \"hovertemplate\": \"Name of State / UT=%{x}<br>Cured=%{y}<extra></extra>\", \"legendgroup\": \"\", \"marker\": {\"color\": \"#636efa\"}, \"name\": \"\", \"offsetgroup\": \"\", \"orientation\": \"v\", \"showlegend\": false, \"textposition\": \"auto\", \"type\": \"bar\", \"x\": [\"Andhra Pradesh\", \"Chhattisgarh\", \"Delhi\", \"Gujarat\", \"Haryana\", \"Himachal Pradesh\", \"Karnataka\", \"Kerala\", \"Madhya Pradesh\", \"Maharashtra\", \"Odisha\", \"Puducherry\", \"Punjab\", \"Rajasthan\", \"Tamil Nadu\", \"Telengana\", \"Chandigarh\", \"Jammu and Kashmir\", \"Ladakh\", \"Uttar Pradesh\", \"Uttarakhand\", \"West Bengal\", \"Bihar\", \"Mizoram\", \"Goa\", \"Manipur\"], \"xaxis\": \"x\", \"y\": [1, 0, 6, 0, 11, 0, 3, 11, 0, 15, 0, 0, 0, 3, 1, 1, 0, 1, 0, 11, 0, 0, 0, 0, 0, 0], \"yaxis\": \"y\"}],                        {\"barmode\": \"relative\", \"legend\": {\"tracegroupgap\": 0}, \"template\": {\"data\": {\"bar\": [{\"error_x\": {\"color\": \"#2a3f5f\"}, \"error_y\": {\"color\": \"#2a3f5f\"}, \"marker\": {\"line\": {\"color\": \"#E5ECF6\", \"width\": 0.5}}, \"type\": \"bar\"}], \"barpolar\": [{\"marker\": {\"line\": {\"color\": \"#E5ECF6\", \"width\": 0.5}}, \"type\": \"barpolar\"}], \"carpet\": [{\"aaxis\": {\"endlinecolor\": \"#2a3f5f\", \"gridcolor\": \"white\", \"linecolor\": \"white\", \"minorgridcolor\": \"white\", \"startlinecolor\": \"#2a3f5f\"}, \"baxis\": {\"endlinecolor\": \"#2a3f5f\", \"gridcolor\": \"white\", \"linecolor\": \"white\", \"minorgridcolor\": \"white\", \"startlinecolor\": \"#2a3f5f\"}, \"type\": \"carpet\"}], \"choropleth\": [{\"colorbar\": {\"outlinewidth\": 0, \"ticks\": \"\"}, \"type\": \"choropleth\"}], \"contour\": [{\"colorbar\": {\"outlinewidth\": 0, \"ticks\": \"\"}, \"colorscale\": [[0.0, \"#0d0887\"], [0.1111111111111111, \"#46039f\"], [0.2222222222222222, \"#7201a8\"], [0.3333333333333333, \"#9c179e\"], [0.4444444444444444, \"#bd3786\"], [0.5555555555555556, \"#d8576b\"], [0.6666666666666666, \"#ed7953\"], [0.7777777777777778, \"#fb9f3a\"], [0.8888888888888888, \"#fdca26\"], [1.0, \"#f0f921\"]], \"type\": \"contour\"}], \"contourcarpet\": [{\"colorbar\": {\"outlinewidth\": 0, \"ticks\": \"\"}, \"type\": \"contourcarpet\"}], \"heatmap\": [{\"colorbar\": {\"outlinewidth\": 0, \"ticks\": \"\"}, \"colorscale\": [[0.0, \"#0d0887\"], [0.1111111111111111, \"#46039f\"], [0.2222222222222222, \"#7201a8\"], [0.3333333333333333, \"#9c179e\"], [0.4444444444444444, \"#bd3786\"], [0.5555555555555556, \"#d8576b\"], [0.6666666666666666, \"#ed7953\"], [0.7777777777777778, \"#fb9f3a\"], [0.8888888888888888, \"#fdca26\"], [1.0, \"#f0f921\"]], \"type\": \"heatmap\"}], \"heatmapgl\": [{\"colorbar\": {\"outlinewidth\": 0, \"ticks\": \"\"}, \"colorscale\": [[0.0, \"#0d0887\"], [0.1111111111111111, \"#46039f\"], [0.2222222222222222, \"#7201a8\"], [0.3333333333333333, \"#9c179e\"], [0.4444444444444444, \"#bd3786\"], [0.5555555555555556, \"#d8576b\"], [0.6666666666666666, \"#ed7953\"], [0.7777777777777778, \"#fb9f3a\"], [0.8888888888888888, \"#fdca26\"], [1.0, \"#f0f921\"]], \"type\": \"heatmapgl\"}], \"histogram\": [{\"marker\": {\"colorbar\": {\"outlinewidth\": 0, \"ticks\": \"\"}}, \"type\": \"histogram\"}], \"histogram2d\": [{\"colorbar\": {\"outlinewidth\": 0, \"ticks\": \"\"}, \"colorscale\": [[0.0, \"#0d0887\"], [0.1111111111111111, \"#46039f\"], [0.2222222222222222, \"#7201a8\"], [0.3333333333333333, \"#9c179e\"], [0.4444444444444444, \"#bd3786\"], [0.5555555555555556, \"#d8576b\"], [0.6666666666666666, \"#ed7953\"], [0.7777777777777778, \"#fb9f3a\"], [0.8888888888888888, \"#fdca26\"], [1.0, \"#f0f921\"]], \"type\": \"histogram2d\"}], \"histogram2dcontour\": [{\"colorbar\": {\"outlinewidth\": 0, \"ticks\": \"\"}, \"colorscale\": [[0.0, \"#0d0887\"], [0.1111111111111111, \"#46039f\"], [0.2222222222222222, \"#7201a8\"], [0.3333333333333333, \"#9c179e\"], [0.4444444444444444, \"#bd3786\"], [0.5555555555555556, \"#d8576b\"], [0.6666666666666666, \"#ed7953\"], [0.7777777777777778, \"#fb9f3a\"], [0.8888888888888888, \"#fdca26\"], [1.0, \"#f0f921\"]], \"type\": \"histogram2dcontour\"}], \"mesh3d\": [{\"colorbar\": {\"outlinewidth\": 0, \"ticks\": \"\"}, \"type\": \"mesh3d\"}], \"parcoords\": [{\"line\": {\"colorbar\": {\"outlinewidth\": 0, \"ticks\": \"\"}}, \"type\": \"parcoords\"}], \"pie\": [{\"automargin\": true, \"type\": \"pie\"}], \"scatter\": [{\"marker\": {\"colorbar\": {\"outlinewidth\": 0, \"ticks\": \"\"}}, \"type\": \"scatter\"}], \"scatter3d\": [{\"line\": {\"colorbar\": {\"outlinewidth\": 0, \"ticks\": \"\"}}, \"marker\": {\"colorbar\": {\"outlinewidth\": 0, \"ticks\": \"\"}}, \"type\": \"scatter3d\"}], \"scattercarpet\": [{\"marker\": {\"colorbar\": {\"outlinewidth\": 0, \"ticks\": \"\"}}, \"type\": \"scattercarpet\"}], \"scattergeo\": [{\"marker\": {\"colorbar\": {\"outlinewidth\": 0, \"ticks\": \"\"}}, \"type\": \"scattergeo\"}], \"scattergl\": [{\"marker\": {\"colorbar\": {\"outlinewidth\": 0, \"ticks\": \"\"}}, \"type\": \"scattergl\"}], \"scattermapbox\": [{\"marker\": {\"colorbar\": {\"outlinewidth\": 0, \"ticks\": \"\"}}, \"type\": \"scattermapbox\"}], \"scatterpolar\": [{\"marker\": {\"colorbar\": {\"outlinewidth\": 0, \"ticks\": \"\"}}, \"type\": \"scatterpolar\"}], \"scatterpolargl\": [{\"marker\": {\"colorbar\": {\"outlinewidth\": 0, \"ticks\": \"\"}}, \"type\": \"scatterpolargl\"}], \"scatterternary\": [{\"marker\": {\"colorbar\": {\"outlinewidth\": 0, \"ticks\": \"\"}}, \"type\": \"scatterternary\"}], \"surface\": [{\"colorbar\": {\"outlinewidth\": 0, \"ticks\": \"\"}, \"colorscale\": [[0.0, \"#0d0887\"], [0.1111111111111111, \"#46039f\"], [0.2222222222222222, \"#7201a8\"], [0.3333333333333333, \"#9c179e\"], [0.4444444444444444, \"#bd3786\"], [0.5555555555555556, \"#d8576b\"], [0.6666666666666666, \"#ed7953\"], [0.7777777777777778, \"#fb9f3a\"], [0.8888888888888888, \"#fdca26\"], [1.0, \"#f0f921\"]], \"type\": \"surface\"}], \"table\": [{\"cells\": {\"fill\": {\"color\": \"#EBF0F8\"}, \"line\": {\"color\": \"white\"}}, \"header\": {\"fill\": {\"color\": \"#C8D4E3\"}, \"line\": {\"color\": \"white\"}}, \"type\": \"table\"}]}, \"layout\": {\"annotationdefaults\": {\"arrowcolor\": \"#2a3f5f\", \"arrowhead\": 0, \"arrowwidth\": 1}, \"coloraxis\": {\"colorbar\": {\"outlinewidth\": 0, \"ticks\": \"\"}}, \"colorscale\": {\"diverging\": [[0, \"#8e0152\"], [0.1, \"#c51b7d\"], [0.2, \"#de77ae\"], [0.3, \"#f1b6da\"], [0.4, \"#fde0ef\"], [0.5, \"#f7f7f7\"], [0.6, \"#e6f5d0\"], [0.7, \"#b8e186\"], [0.8, \"#7fbc41\"], [0.9, \"#4d9221\"], [1, \"#276419\"]], \"sequential\": [[0.0, \"#0d0887\"], [0.1111111111111111, \"#46039f\"], [0.2222222222222222, \"#7201a8\"], [0.3333333333333333, \"#9c179e\"], [0.4444444444444444, \"#bd3786\"], [0.5555555555555556, \"#d8576b\"], [0.6666666666666666, \"#ed7953\"], [0.7777777777777778, \"#fb9f3a\"], [0.8888888888888888, \"#fdca26\"], [1.0, \"#f0f921\"]], \"sequentialminus\": [[0.0, \"#0d0887\"], [0.1111111111111111, \"#46039f\"], [0.2222222222222222, \"#7201a8\"], [0.3333333333333333, \"#9c179e\"], [0.4444444444444444, \"#bd3786\"], [0.5555555555555556, \"#d8576b\"], [0.6666666666666666, \"#ed7953\"], [0.7777777777777778, \"#fb9f3a\"], [0.8888888888888888, \"#fdca26\"], [1.0, \"#f0f921\"]]}, \"colorway\": [\"#636efa\", \"#EF553B\", \"#00cc96\", \"#ab63fa\", \"#FFA15A\", \"#19d3f3\", \"#FF6692\", \"#B6E880\", \"#FF97FF\", \"#FECB52\"], \"font\": {\"color\": \"#2a3f5f\"}, \"geo\": {\"bgcolor\": \"white\", \"lakecolor\": \"white\", \"landcolor\": \"#E5ECF6\", \"showlakes\": true, \"showland\": true, \"subunitcolor\": \"white\"}, \"hoverlabel\": {\"align\": \"left\"}, \"hovermode\": \"closest\", \"mapbox\": {\"style\": \"light\"}, \"paper_bgcolor\": \"white\", \"plot_bgcolor\": \"#E5ECF6\", \"polar\": {\"angularaxis\": {\"gridcolor\": \"white\", \"linecolor\": \"white\", \"ticks\": \"\"}, \"bgcolor\": \"#E5ECF6\", \"radialaxis\": {\"gridcolor\": \"white\", \"linecolor\": \"white\", \"ticks\": \"\"}}, \"scene\": {\"xaxis\": {\"backgroundcolor\": \"#E5ECF6\", \"gridcolor\": \"white\", \"gridwidth\": 2, \"linecolor\": \"white\", \"showbackground\": true, \"ticks\": \"\", \"zerolinecolor\": \"white\"}, \"yaxis\": {\"backgroundcolor\": \"#E5ECF6\", \"gridcolor\": \"white\", \"gridwidth\": 2, \"linecolor\": \"white\", \"showbackground\": true, \"ticks\": \"\", \"zerolinecolor\": \"white\"}, \"zaxis\": {\"backgroundcolor\": \"#E5ECF6\", \"gridcolor\": \"white\", \"gridwidth\": 2, \"linecolor\": \"white\", \"showbackground\": true, \"ticks\": \"\", \"zerolinecolor\": \"white\"}}, \"shapedefaults\": {\"line\": {\"color\": \"#2a3f5f\"}}, \"ternary\": {\"aaxis\": {\"gridcolor\": \"white\", \"linecolor\": \"white\", \"ticks\": \"\"}, \"baxis\": {\"gridcolor\": \"white\", \"linecolor\": \"white\", \"ticks\": \"\"}, \"bgcolor\": \"#E5ECF6\", \"caxis\": {\"gridcolor\": \"white\", \"linecolor\": \"white\", \"ticks\": \"\"}}, \"title\": {\"x\": 0.05}, \"xaxis\": {\"automargin\": true, \"gridcolor\": \"white\", \"linecolor\": \"white\", \"ticks\": \"\", \"title\": {\"standoff\": 15}, \"zerolinecolor\": \"white\", \"zerolinewidth\": 2}, \"yaxis\": {\"automargin\": true, \"gridcolor\": \"white\", \"linecolor\": \"white\", \"ticks\": \"\", \"title\": {\"standoff\": 15}, \"zerolinecolor\": \"white\", \"zerolinewidth\": 2}}}, \"title\": {\"text\": \"Cured cases\"}, \"xaxis\": {\"anchor\": \"y\", \"domain\": [0.0, 1.0], \"title\": {\"text\": \"Name of State / UT\"}}, \"yaxis\": {\"anchor\": \"x\", \"domain\": [0.0, 1.0], \"title\": {\"text\": \"Cured\"}}},                        {\"responsive\": true}                    ).then(function(){\n",
       "                            \n",
       "var gd = document.getElementById('04105dc4-5372-4e0d-a8f5-2c4d1264c6b6');\n",
       "var x = new MutationObserver(function (mutations, observer) {{\n",
       "        var display = window.getComputedStyle(gd).display;\n",
       "        if (!display || display === 'none') {{\n",
       "            console.log([gd, 'removed!']);\n",
       "            Plotly.purge(gd);\n",
       "            observer.disconnect();\n",
       "        }}\n",
       "}});\n",
       "\n",
       "// Listen for the removal of the full notebook cells\n",
       "var notebookContainer = gd.closest('#notebook-container');\n",
       "if (notebookContainer) {{\n",
       "    x.observe(notebookContainer, {childList: true});\n",
       "}}\n",
       "\n",
       "// Listen for the clearing of the current output cell\n",
       "var outputEl = gd.closest('.output');\n",
       "if (outputEl) {{\n",
       "    x.observe(outputEl, {childList: true});\n",
       "}}\n",
       "\n",
       "                        })                };                });            </script>        </div>"
      ]
     },
     "metadata": {},
     "output_type": "display_data"
    }
   ],
   "source": [
    "# cured cases\n",
    "px.bar(df,x='Name of State / UT',\n",
    "       y=\"Cured\",title=\"Cured cases\")"
   ]
  },
  {
   "cell_type": "code",
   "execution_count": 12,
   "metadata": {
    "scrolled": true
   },
   "outputs": [
    {
     "data": {
      "application/vnd.plotly.v1+json": {
       "config": {
        "linkText": "Export to plot.ly",
        "plotlyServerURL": "https://plot.ly",
        "showLink": true
       },
       "data": [
        {
         "line": {
          "color": "rgba(219, 64, 82, 1.0)",
          "dash": "solid",
          "shape": "linear",
          "width": 1.3
         },
         "mode": "lines",
         "name": "Death",
         "text": "",
         "type": "scatter",
         "x": [
          "Andhra Pradesh",
          "Chhattisgarh",
          "Delhi",
          "Gujarat",
          "Haryana",
          "Himachal Pradesh",
          "Karnataka",
          "Kerala",
          "Madhya Pradesh",
          "Maharashtra",
          "Odisha",
          "Puducherry",
          "Punjab",
          "Rajasthan",
          "Tamil Nadu",
          "Telengana",
          "Chandigarh",
          "Jammu and Kashmir",
          "Ladakh",
          "Uttar Pradesh",
          "Uttarakhand",
          "West Bengal",
          "Bihar",
          "Mizoram",
          "Goa",
          "Manipur"
         ],
         "y": [
          0,
          0,
          1,
          3,
          0,
          1,
          2,
          0,
          1,
          4,
          0,
          0,
          1,
          0,
          1,
          0,
          0,
          1,
          0,
          0,
          0,
          1,
          1,
          0,
          0,
          0
         ]
        }
       ],
       "layout": {
        "legend": {
         "bgcolor": "#F5F6F9",
         "font": {
          "color": "#4D5663"
         }
        },
        "paper_bgcolor": "#F5F6F9",
        "plot_bgcolor": "#F5F6F9",
        "template": {
         "data": {
          "bar": [
           {
            "error_x": {
             "color": "#2a3f5f"
            },
            "error_y": {
             "color": "#2a3f5f"
            },
            "marker": {
             "line": {
              "color": "#E5ECF6",
              "width": 0.5
             }
            },
            "type": "bar"
           }
          ],
          "barpolar": [
           {
            "marker": {
             "line": {
              "color": "#E5ECF6",
              "width": 0.5
             }
            },
            "type": "barpolar"
           }
          ],
          "carpet": [
           {
            "aaxis": {
             "endlinecolor": "#2a3f5f",
             "gridcolor": "white",
             "linecolor": "white",
             "minorgridcolor": "white",
             "startlinecolor": "#2a3f5f"
            },
            "baxis": {
             "endlinecolor": "#2a3f5f",
             "gridcolor": "white",
             "linecolor": "white",
             "minorgridcolor": "white",
             "startlinecolor": "#2a3f5f"
            },
            "type": "carpet"
           }
          ],
          "choropleth": [
           {
            "colorbar": {
             "outlinewidth": 0,
             "ticks": ""
            },
            "type": "choropleth"
           }
          ],
          "contour": [
           {
            "colorbar": {
             "outlinewidth": 0,
             "ticks": ""
            },
            "colorscale": [
             [
              0,
              "#0d0887"
             ],
             [
              0.1111111111111111,
              "#46039f"
             ],
             [
              0.2222222222222222,
              "#7201a8"
             ],
             [
              0.3333333333333333,
              "#9c179e"
             ],
             [
              0.4444444444444444,
              "#bd3786"
             ],
             [
              0.5555555555555556,
              "#d8576b"
             ],
             [
              0.6666666666666666,
              "#ed7953"
             ],
             [
              0.7777777777777778,
              "#fb9f3a"
             ],
             [
              0.8888888888888888,
              "#fdca26"
             ],
             [
              1,
              "#f0f921"
             ]
            ],
            "type": "contour"
           }
          ],
          "contourcarpet": [
           {
            "colorbar": {
             "outlinewidth": 0,
             "ticks": ""
            },
            "type": "contourcarpet"
           }
          ],
          "heatmap": [
           {
            "colorbar": {
             "outlinewidth": 0,
             "ticks": ""
            },
            "colorscale": [
             [
              0,
              "#0d0887"
             ],
             [
              0.1111111111111111,
              "#46039f"
             ],
             [
              0.2222222222222222,
              "#7201a8"
             ],
             [
              0.3333333333333333,
              "#9c179e"
             ],
             [
              0.4444444444444444,
              "#bd3786"
             ],
             [
              0.5555555555555556,
              "#d8576b"
             ],
             [
              0.6666666666666666,
              "#ed7953"
             ],
             [
              0.7777777777777778,
              "#fb9f3a"
             ],
             [
              0.8888888888888888,
              "#fdca26"
             ],
             [
              1,
              "#f0f921"
             ]
            ],
            "type": "heatmap"
           }
          ],
          "heatmapgl": [
           {
            "colorbar": {
             "outlinewidth": 0,
             "ticks": ""
            },
            "colorscale": [
             [
              0,
              "#0d0887"
             ],
             [
              0.1111111111111111,
              "#46039f"
             ],
             [
              0.2222222222222222,
              "#7201a8"
             ],
             [
              0.3333333333333333,
              "#9c179e"
             ],
             [
              0.4444444444444444,
              "#bd3786"
             ],
             [
              0.5555555555555556,
              "#d8576b"
             ],
             [
              0.6666666666666666,
              "#ed7953"
             ],
             [
              0.7777777777777778,
              "#fb9f3a"
             ],
             [
              0.8888888888888888,
              "#fdca26"
             ],
             [
              1,
              "#f0f921"
             ]
            ],
            "type": "heatmapgl"
           }
          ],
          "histogram": [
           {
            "marker": {
             "colorbar": {
              "outlinewidth": 0,
              "ticks": ""
             }
            },
            "type": "histogram"
           }
          ],
          "histogram2d": [
           {
            "colorbar": {
             "outlinewidth": 0,
             "ticks": ""
            },
            "colorscale": [
             [
              0,
              "#0d0887"
             ],
             [
              0.1111111111111111,
              "#46039f"
             ],
             [
              0.2222222222222222,
              "#7201a8"
             ],
             [
              0.3333333333333333,
              "#9c179e"
             ],
             [
              0.4444444444444444,
              "#bd3786"
             ],
             [
              0.5555555555555556,
              "#d8576b"
             ],
             [
              0.6666666666666666,
              "#ed7953"
             ],
             [
              0.7777777777777778,
              "#fb9f3a"
             ],
             [
              0.8888888888888888,
              "#fdca26"
             ],
             [
              1,
              "#f0f921"
             ]
            ],
            "type": "histogram2d"
           }
          ],
          "histogram2dcontour": [
           {
            "colorbar": {
             "outlinewidth": 0,
             "ticks": ""
            },
            "colorscale": [
             [
              0,
              "#0d0887"
             ],
             [
              0.1111111111111111,
              "#46039f"
             ],
             [
              0.2222222222222222,
              "#7201a8"
             ],
             [
              0.3333333333333333,
              "#9c179e"
             ],
             [
              0.4444444444444444,
              "#bd3786"
             ],
             [
              0.5555555555555556,
              "#d8576b"
             ],
             [
              0.6666666666666666,
              "#ed7953"
             ],
             [
              0.7777777777777778,
              "#fb9f3a"
             ],
             [
              0.8888888888888888,
              "#fdca26"
             ],
             [
              1,
              "#f0f921"
             ]
            ],
            "type": "histogram2dcontour"
           }
          ],
          "mesh3d": [
           {
            "colorbar": {
             "outlinewidth": 0,
             "ticks": ""
            },
            "type": "mesh3d"
           }
          ],
          "parcoords": [
           {
            "line": {
             "colorbar": {
              "outlinewidth": 0,
              "ticks": ""
             }
            },
            "type": "parcoords"
           }
          ],
          "pie": [
           {
            "automargin": true,
            "type": "pie"
           }
          ],
          "scatter": [
           {
            "marker": {
             "colorbar": {
              "outlinewidth": 0,
              "ticks": ""
             }
            },
            "type": "scatter"
           }
          ],
          "scatter3d": [
           {
            "line": {
             "colorbar": {
              "outlinewidth": 0,
              "ticks": ""
             }
            },
            "marker": {
             "colorbar": {
              "outlinewidth": 0,
              "ticks": ""
             }
            },
            "type": "scatter3d"
           }
          ],
          "scattercarpet": [
           {
            "marker": {
             "colorbar": {
              "outlinewidth": 0,
              "ticks": ""
             }
            },
            "type": "scattercarpet"
           }
          ],
          "scattergeo": [
           {
            "marker": {
             "colorbar": {
              "outlinewidth": 0,
              "ticks": ""
             }
            },
            "type": "scattergeo"
           }
          ],
          "scattergl": [
           {
            "marker": {
             "colorbar": {
              "outlinewidth": 0,
              "ticks": ""
             }
            },
            "type": "scattergl"
           }
          ],
          "scattermapbox": [
           {
            "marker": {
             "colorbar": {
              "outlinewidth": 0,
              "ticks": ""
             }
            },
            "type": "scattermapbox"
           }
          ],
          "scatterpolar": [
           {
            "marker": {
             "colorbar": {
              "outlinewidth": 0,
              "ticks": ""
             }
            },
            "type": "scatterpolar"
           }
          ],
          "scatterpolargl": [
           {
            "marker": {
             "colorbar": {
              "outlinewidth": 0,
              "ticks": ""
             }
            },
            "type": "scatterpolargl"
           }
          ],
          "scatterternary": [
           {
            "marker": {
             "colorbar": {
              "outlinewidth": 0,
              "ticks": ""
             }
            },
            "type": "scatterternary"
           }
          ],
          "surface": [
           {
            "colorbar": {
             "outlinewidth": 0,
             "ticks": ""
            },
            "colorscale": [
             [
              0,
              "#0d0887"
             ],
             [
              0.1111111111111111,
              "#46039f"
             ],
             [
              0.2222222222222222,
              "#7201a8"
             ],
             [
              0.3333333333333333,
              "#9c179e"
             ],
             [
              0.4444444444444444,
              "#bd3786"
             ],
             [
              0.5555555555555556,
              "#d8576b"
             ],
             [
              0.6666666666666666,
              "#ed7953"
             ],
             [
              0.7777777777777778,
              "#fb9f3a"
             ],
             [
              0.8888888888888888,
              "#fdca26"
             ],
             [
              1,
              "#f0f921"
             ]
            ],
            "type": "surface"
           }
          ],
          "table": [
           {
            "cells": {
             "fill": {
              "color": "#EBF0F8"
             },
             "line": {
              "color": "white"
             }
            },
            "header": {
             "fill": {
              "color": "#C8D4E3"
             },
             "line": {
              "color": "white"
             }
            },
            "type": "table"
           }
          ]
         },
         "layout": {
          "annotationdefaults": {
           "arrowcolor": "#2a3f5f",
           "arrowhead": 0,
           "arrowwidth": 1
          },
          "coloraxis": {
           "colorbar": {
            "outlinewidth": 0,
            "ticks": ""
           }
          },
          "colorscale": {
           "diverging": [
            [
             0,
             "#8e0152"
            ],
            [
             0.1,
             "#c51b7d"
            ],
            [
             0.2,
             "#de77ae"
            ],
            [
             0.3,
             "#f1b6da"
            ],
            [
             0.4,
             "#fde0ef"
            ],
            [
             0.5,
             "#f7f7f7"
            ],
            [
             0.6,
             "#e6f5d0"
            ],
            [
             0.7,
             "#b8e186"
            ],
            [
             0.8,
             "#7fbc41"
            ],
            [
             0.9,
             "#4d9221"
            ],
            [
             1,
             "#276419"
            ]
           ],
           "sequential": [
            [
             0,
             "#0d0887"
            ],
            [
             0.1111111111111111,
             "#46039f"
            ],
            [
             0.2222222222222222,
             "#7201a8"
            ],
            [
             0.3333333333333333,
             "#9c179e"
            ],
            [
             0.4444444444444444,
             "#bd3786"
            ],
            [
             0.5555555555555556,
             "#d8576b"
            ],
            [
             0.6666666666666666,
             "#ed7953"
            ],
            [
             0.7777777777777778,
             "#fb9f3a"
            ],
            [
             0.8888888888888888,
             "#fdca26"
            ],
            [
             1,
             "#f0f921"
            ]
           ],
           "sequentialminus": [
            [
             0,
             "#0d0887"
            ],
            [
             0.1111111111111111,
             "#46039f"
            ],
            [
             0.2222222222222222,
             "#7201a8"
            ],
            [
             0.3333333333333333,
             "#9c179e"
            ],
            [
             0.4444444444444444,
             "#bd3786"
            ],
            [
             0.5555555555555556,
             "#d8576b"
            ],
            [
             0.6666666666666666,
             "#ed7953"
            ],
            [
             0.7777777777777778,
             "#fb9f3a"
            ],
            [
             0.8888888888888888,
             "#fdca26"
            ],
            [
             1,
             "#f0f921"
            ]
           ]
          },
          "colorway": [
           "#636efa",
           "#EF553B",
           "#00cc96",
           "#ab63fa",
           "#FFA15A",
           "#19d3f3",
           "#FF6692",
           "#B6E880",
           "#FF97FF",
           "#FECB52"
          ],
          "font": {
           "color": "#2a3f5f"
          },
          "geo": {
           "bgcolor": "white",
           "lakecolor": "white",
           "landcolor": "#E5ECF6",
           "showlakes": true,
           "showland": true,
           "subunitcolor": "white"
          },
          "hoverlabel": {
           "align": "left"
          },
          "hovermode": "closest",
          "mapbox": {
           "style": "light"
          },
          "paper_bgcolor": "white",
          "plot_bgcolor": "#E5ECF6",
          "polar": {
           "angularaxis": {
            "gridcolor": "white",
            "linecolor": "white",
            "ticks": ""
           },
           "bgcolor": "#E5ECF6",
           "radialaxis": {
            "gridcolor": "white",
            "linecolor": "white",
            "ticks": ""
           }
          },
          "scene": {
           "xaxis": {
            "backgroundcolor": "#E5ECF6",
            "gridcolor": "white",
            "gridwidth": 2,
            "linecolor": "white",
            "showbackground": true,
            "ticks": "",
            "zerolinecolor": "white"
           },
           "yaxis": {
            "backgroundcolor": "#E5ECF6",
            "gridcolor": "white",
            "gridwidth": 2,
            "linecolor": "white",
            "showbackground": true,
            "ticks": "",
            "zerolinecolor": "white"
           },
           "zaxis": {
            "backgroundcolor": "#E5ECF6",
            "gridcolor": "white",
            "gridwidth": 2,
            "linecolor": "white",
            "showbackground": true,
            "ticks": "",
            "zerolinecolor": "white"
           }
          },
          "shapedefaults": {
           "line": {
            "color": "#2a3f5f"
           }
          },
          "ternary": {
           "aaxis": {
            "gridcolor": "white",
            "linecolor": "white",
            "ticks": ""
           },
           "baxis": {
            "gridcolor": "white",
            "linecolor": "white",
            "ticks": ""
           },
           "bgcolor": "#E5ECF6",
           "caxis": {
            "gridcolor": "white",
            "linecolor": "white",
            "ticks": ""
           }
          },
          "title": {
           "x": 0.05
          },
          "xaxis": {
           "automargin": true,
           "gridcolor": "white",
           "linecolor": "white",
           "ticks": "",
           "title": {
            "standoff": 15
           },
           "zerolinecolor": "white",
           "zerolinewidth": 2
          },
          "yaxis": {
           "automargin": true,
           "gridcolor": "white",
           "linecolor": "white",
           "ticks": "",
           "title": {
            "standoff": 15
           },
           "zerolinecolor": "white",
           "zerolinewidth": 2
          }
         }
        },
        "title": {
         "font": {
          "color": "#4D5663"
         },
         "text": "State wise corona active cases"
        },
        "xaxis": {
         "gridcolor": "#E1E5ED",
         "showgrid": true,
         "tickfont": {
          "color": "#4D5663"
         },
         "title": {
          "font": {
           "color": "#4D5663"
          },
          "text": "States"
         },
         "zerolinecolor": "#E1E5ED"
        },
        "yaxis": {
         "gridcolor": "#E1E5ED",
         "showgrid": true,
         "tickfont": {
          "color": "#4D5663"
         },
         "title": {
          "font": {
           "color": "#4D5663"
          },
          "text": "Number of cases"
         },
         "zerolinecolor": "#E1E5ED"
        }
       }
      },
      "text/html": [
       "<div>                            <div id=\"fe709c91-e079-4e85-82a2-c0cb8397ccaf\" class=\"plotly-graph-div\" style=\"height:525px; width:100%;\"></div>            <script type=\"text/javascript\">                require([\"plotly\"], function(Plotly) {                    window.PLOTLYENV=window.PLOTLYENV || {};\n",
       "                    window.PLOTLYENV.BASE_URL='https://plot.ly';                                    if (document.getElementById(\"fe709c91-e079-4e85-82a2-c0cb8397ccaf\")) {                    Plotly.newPlot(                        \"fe709c91-e079-4e85-82a2-c0cb8397ccaf\",                        [{\"line\": {\"color\": \"rgba(219, 64, 82, 1.0)\", \"dash\": \"solid\", \"shape\": \"linear\", \"width\": 1.3}, \"mode\": \"lines\", \"name\": \"Death\", \"text\": \"\", \"type\": \"scatter\", \"x\": [\"Andhra Pradesh\", \"Chhattisgarh\", \"Delhi\", \"Gujarat\", \"Haryana\", \"Himachal Pradesh\", \"Karnataka\", \"Kerala\", \"Madhya Pradesh\", \"Maharashtra\", \"Odisha\", \"Puducherry\", \"Punjab\", \"Rajasthan\", \"Tamil Nadu\", \"Telengana\", \"Chandigarh\", \"Jammu and Kashmir\", \"Ladakh\", \"Uttar Pradesh\", \"Uttarakhand\", \"West Bengal\", \"Bihar\", \"Mizoram\", \"Goa\", \"Manipur\"], \"y\": [0, 0, 1, 3, 0, 1, 2, 0, 1, 4, 0, 0, 1, 0, 1, 0, 0, 1, 0, 0, 0, 1, 1, 0, 0, 0]}],                        {\"legend\": {\"bgcolor\": \"#F5F6F9\", \"font\": {\"color\": \"#4D5663\"}}, \"paper_bgcolor\": \"#F5F6F9\", \"plot_bgcolor\": \"#F5F6F9\", \"template\": {\"data\": {\"bar\": [{\"error_x\": {\"color\": \"#2a3f5f\"}, \"error_y\": {\"color\": \"#2a3f5f\"}, \"marker\": {\"line\": {\"color\": \"#E5ECF6\", \"width\": 0.5}}, \"type\": \"bar\"}], \"barpolar\": [{\"marker\": {\"line\": {\"color\": \"#E5ECF6\", \"width\": 0.5}}, \"type\": \"barpolar\"}], \"carpet\": [{\"aaxis\": {\"endlinecolor\": \"#2a3f5f\", \"gridcolor\": \"white\", \"linecolor\": \"white\", \"minorgridcolor\": \"white\", \"startlinecolor\": \"#2a3f5f\"}, \"baxis\": {\"endlinecolor\": \"#2a3f5f\", \"gridcolor\": \"white\", \"linecolor\": \"white\", \"minorgridcolor\": \"white\", \"startlinecolor\": \"#2a3f5f\"}, \"type\": \"carpet\"}], \"choropleth\": [{\"colorbar\": {\"outlinewidth\": 0, \"ticks\": \"\"}, \"type\": \"choropleth\"}], \"contour\": [{\"colorbar\": {\"outlinewidth\": 0, \"ticks\": \"\"}, \"colorscale\": [[0.0, \"#0d0887\"], [0.1111111111111111, \"#46039f\"], [0.2222222222222222, \"#7201a8\"], [0.3333333333333333, \"#9c179e\"], [0.4444444444444444, \"#bd3786\"], [0.5555555555555556, \"#d8576b\"], [0.6666666666666666, \"#ed7953\"], [0.7777777777777778, \"#fb9f3a\"], [0.8888888888888888, \"#fdca26\"], [1.0, \"#f0f921\"]], \"type\": \"contour\"}], \"contourcarpet\": [{\"colorbar\": {\"outlinewidth\": 0, \"ticks\": \"\"}, \"type\": \"contourcarpet\"}], \"heatmap\": [{\"colorbar\": {\"outlinewidth\": 0, \"ticks\": \"\"}, \"colorscale\": [[0.0, \"#0d0887\"], [0.1111111111111111, \"#46039f\"], [0.2222222222222222, \"#7201a8\"], [0.3333333333333333, \"#9c179e\"], [0.4444444444444444, \"#bd3786\"], [0.5555555555555556, \"#d8576b\"], [0.6666666666666666, \"#ed7953\"], [0.7777777777777778, \"#fb9f3a\"], [0.8888888888888888, \"#fdca26\"], [1.0, \"#f0f921\"]], \"type\": \"heatmap\"}], \"heatmapgl\": [{\"colorbar\": {\"outlinewidth\": 0, \"ticks\": \"\"}, \"colorscale\": [[0.0, \"#0d0887\"], [0.1111111111111111, \"#46039f\"], [0.2222222222222222, \"#7201a8\"], [0.3333333333333333, \"#9c179e\"], [0.4444444444444444, \"#bd3786\"], [0.5555555555555556, \"#d8576b\"], [0.6666666666666666, \"#ed7953\"], [0.7777777777777778, \"#fb9f3a\"], [0.8888888888888888, \"#fdca26\"], [1.0, \"#f0f921\"]], \"type\": \"heatmapgl\"}], \"histogram\": [{\"marker\": {\"colorbar\": {\"outlinewidth\": 0, \"ticks\": \"\"}}, \"type\": \"histogram\"}], \"histogram2d\": [{\"colorbar\": {\"outlinewidth\": 0, \"ticks\": \"\"}, \"colorscale\": [[0.0, \"#0d0887\"], [0.1111111111111111, \"#46039f\"], [0.2222222222222222, \"#7201a8\"], [0.3333333333333333, \"#9c179e\"], [0.4444444444444444, \"#bd3786\"], [0.5555555555555556, \"#d8576b\"], [0.6666666666666666, \"#ed7953\"], [0.7777777777777778, \"#fb9f3a\"], [0.8888888888888888, \"#fdca26\"], [1.0, \"#f0f921\"]], \"type\": \"histogram2d\"}], \"histogram2dcontour\": [{\"colorbar\": {\"outlinewidth\": 0, \"ticks\": \"\"}, \"colorscale\": [[0.0, \"#0d0887\"], [0.1111111111111111, \"#46039f\"], [0.2222222222222222, \"#7201a8\"], [0.3333333333333333, \"#9c179e\"], [0.4444444444444444, \"#bd3786\"], [0.5555555555555556, \"#d8576b\"], [0.6666666666666666, \"#ed7953\"], [0.7777777777777778, \"#fb9f3a\"], [0.8888888888888888, \"#fdca26\"], [1.0, \"#f0f921\"]], \"type\": \"histogram2dcontour\"}], \"mesh3d\": [{\"colorbar\": {\"outlinewidth\": 0, \"ticks\": \"\"}, \"type\": \"mesh3d\"}], \"parcoords\": [{\"line\": {\"colorbar\": {\"outlinewidth\": 0, \"ticks\": \"\"}}, \"type\": \"parcoords\"}], \"pie\": [{\"automargin\": true, \"type\": \"pie\"}], \"scatter\": [{\"marker\": {\"colorbar\": {\"outlinewidth\": 0, \"ticks\": \"\"}}, \"type\": \"scatter\"}], \"scatter3d\": [{\"line\": {\"colorbar\": {\"outlinewidth\": 0, \"ticks\": \"\"}}, \"marker\": {\"colorbar\": {\"outlinewidth\": 0, \"ticks\": \"\"}}, \"type\": \"scatter3d\"}], \"scattercarpet\": [{\"marker\": {\"colorbar\": {\"outlinewidth\": 0, \"ticks\": \"\"}}, \"type\": \"scattercarpet\"}], \"scattergeo\": [{\"marker\": {\"colorbar\": {\"outlinewidth\": 0, \"ticks\": \"\"}}, \"type\": \"scattergeo\"}], \"scattergl\": [{\"marker\": {\"colorbar\": {\"outlinewidth\": 0, \"ticks\": \"\"}}, \"type\": \"scattergl\"}], \"scattermapbox\": [{\"marker\": {\"colorbar\": {\"outlinewidth\": 0, \"ticks\": \"\"}}, \"type\": \"scattermapbox\"}], \"scatterpolar\": [{\"marker\": {\"colorbar\": {\"outlinewidth\": 0, \"ticks\": \"\"}}, \"type\": \"scatterpolar\"}], \"scatterpolargl\": [{\"marker\": {\"colorbar\": {\"outlinewidth\": 0, \"ticks\": \"\"}}, \"type\": \"scatterpolargl\"}], \"scatterternary\": [{\"marker\": {\"colorbar\": {\"outlinewidth\": 0, \"ticks\": \"\"}}, \"type\": \"scatterternary\"}], \"surface\": [{\"colorbar\": {\"outlinewidth\": 0, \"ticks\": \"\"}, \"colorscale\": [[0.0, \"#0d0887\"], [0.1111111111111111, \"#46039f\"], [0.2222222222222222, \"#7201a8\"], [0.3333333333333333, \"#9c179e\"], [0.4444444444444444, \"#bd3786\"], [0.5555555555555556, \"#d8576b\"], [0.6666666666666666, \"#ed7953\"], [0.7777777777777778, \"#fb9f3a\"], [0.8888888888888888, \"#fdca26\"], [1.0, \"#f0f921\"]], \"type\": \"surface\"}], \"table\": [{\"cells\": {\"fill\": {\"color\": \"#EBF0F8\"}, \"line\": {\"color\": \"white\"}}, \"header\": {\"fill\": {\"color\": \"#C8D4E3\"}, \"line\": {\"color\": \"white\"}}, \"type\": \"table\"}]}, \"layout\": {\"annotationdefaults\": {\"arrowcolor\": \"#2a3f5f\", \"arrowhead\": 0, \"arrowwidth\": 1}, \"coloraxis\": {\"colorbar\": {\"outlinewidth\": 0, \"ticks\": \"\"}}, \"colorscale\": {\"diverging\": [[0, \"#8e0152\"], [0.1, \"#c51b7d\"], [0.2, \"#de77ae\"], [0.3, \"#f1b6da\"], [0.4, \"#fde0ef\"], [0.5, \"#f7f7f7\"], [0.6, \"#e6f5d0\"], [0.7, \"#b8e186\"], [0.8, \"#7fbc41\"], [0.9, \"#4d9221\"], [1, \"#276419\"]], \"sequential\": [[0.0, \"#0d0887\"], [0.1111111111111111, \"#46039f\"], [0.2222222222222222, \"#7201a8\"], [0.3333333333333333, \"#9c179e\"], [0.4444444444444444, \"#bd3786\"], [0.5555555555555556, \"#d8576b\"], [0.6666666666666666, \"#ed7953\"], [0.7777777777777778, \"#fb9f3a\"], [0.8888888888888888, \"#fdca26\"], [1.0, \"#f0f921\"]], \"sequentialminus\": [[0.0, \"#0d0887\"], [0.1111111111111111, \"#46039f\"], [0.2222222222222222, \"#7201a8\"], [0.3333333333333333, \"#9c179e\"], [0.4444444444444444, \"#bd3786\"], [0.5555555555555556, \"#d8576b\"], [0.6666666666666666, \"#ed7953\"], [0.7777777777777778, \"#fb9f3a\"], [0.8888888888888888, \"#fdca26\"], [1.0, \"#f0f921\"]]}, \"colorway\": [\"#636efa\", \"#EF553B\", \"#00cc96\", \"#ab63fa\", \"#FFA15A\", \"#19d3f3\", \"#FF6692\", \"#B6E880\", \"#FF97FF\", \"#FECB52\"], \"font\": {\"color\": \"#2a3f5f\"}, \"geo\": {\"bgcolor\": \"white\", \"lakecolor\": \"white\", \"landcolor\": \"#E5ECF6\", \"showlakes\": true, \"showland\": true, \"subunitcolor\": \"white\"}, \"hoverlabel\": {\"align\": \"left\"}, \"hovermode\": \"closest\", \"mapbox\": {\"style\": \"light\"}, \"paper_bgcolor\": \"white\", \"plot_bgcolor\": \"#E5ECF6\", \"polar\": {\"angularaxis\": {\"gridcolor\": \"white\", \"linecolor\": \"white\", \"ticks\": \"\"}, \"bgcolor\": \"#E5ECF6\", \"radialaxis\": {\"gridcolor\": \"white\", \"linecolor\": \"white\", \"ticks\": \"\"}}, \"scene\": {\"xaxis\": {\"backgroundcolor\": \"#E5ECF6\", \"gridcolor\": \"white\", \"gridwidth\": 2, \"linecolor\": \"white\", \"showbackground\": true, \"ticks\": \"\", \"zerolinecolor\": \"white\"}, \"yaxis\": {\"backgroundcolor\": \"#E5ECF6\", \"gridcolor\": \"white\", \"gridwidth\": 2, \"linecolor\": \"white\", \"showbackground\": true, \"ticks\": \"\", \"zerolinecolor\": \"white\"}, \"zaxis\": {\"backgroundcolor\": \"#E5ECF6\", \"gridcolor\": \"white\", \"gridwidth\": 2, \"linecolor\": \"white\", \"showbackground\": true, \"ticks\": \"\", \"zerolinecolor\": \"white\"}}, \"shapedefaults\": {\"line\": {\"color\": \"#2a3f5f\"}}, \"ternary\": {\"aaxis\": {\"gridcolor\": \"white\", \"linecolor\": \"white\", \"ticks\": \"\"}, \"baxis\": {\"gridcolor\": \"white\", \"linecolor\": \"white\", \"ticks\": \"\"}, \"bgcolor\": \"#E5ECF6\", \"caxis\": {\"gridcolor\": \"white\", \"linecolor\": \"white\", \"ticks\": \"\"}}, \"title\": {\"x\": 0.05}, \"xaxis\": {\"automargin\": true, \"gridcolor\": \"white\", \"linecolor\": \"white\", \"ticks\": \"\", \"title\": {\"standoff\": 15}, \"zerolinecolor\": \"white\", \"zerolinewidth\": 2}, \"yaxis\": {\"automargin\": true, \"gridcolor\": \"white\", \"linecolor\": \"white\", \"ticks\": \"\", \"title\": {\"standoff\": 15}, \"zerolinecolor\": \"white\", \"zerolinewidth\": 2}}}, \"title\": {\"font\": {\"color\": \"#4D5663\"}, \"text\": \"State wise corona active cases\"}, \"xaxis\": {\"gridcolor\": \"#E1E5ED\", \"showgrid\": true, \"tickfont\": {\"color\": \"#4D5663\"}, \"title\": {\"font\": {\"color\": \"#4D5663\"}, \"text\": \"States\"}, \"zerolinecolor\": \"#E1E5ED\"}, \"yaxis\": {\"gridcolor\": \"#E1E5ED\", \"showgrid\": true, \"tickfont\": {\"color\": \"#4D5663\"}, \"title\": {\"font\": {\"color\": \"#4D5663\"}, \"text\": \"Number of cases\"}, \"zerolinecolor\": \"#E1E5ED\"}},                        {\"showLink\": true, \"linkText\": \"Export to plot.ly\", \"plotlyServerURL\": \"https://plot.ly\", \"responsive\": true}                    ).then(function(){\n",
       "                            \n",
       "var gd = document.getElementById('fe709c91-e079-4e85-82a2-c0cb8397ccaf');\n",
       "var x = new MutationObserver(function (mutations, observer) {{\n",
       "        var display = window.getComputedStyle(gd).display;\n",
       "        if (!display || display === 'none') {{\n",
       "            console.log([gd, 'removed!']);\n",
       "            Plotly.purge(gd);\n",
       "            observer.disconnect();\n",
       "        }}\n",
       "}});\n",
       "\n",
       "// Listen for the removal of the full notebook cells\n",
       "var notebookContainer = gd.closest('#notebook-container');\n",
       "if (notebookContainer) {{\n",
       "    x.observe(notebookContainer, {childList: true});\n",
       "}}\n",
       "\n",
       "// Listen for the clearing of the current output cell\n",
       "var outputEl = gd.closest('.output');\n",
       "if (outputEl) {{\n",
       "    x.observe(outputEl, {childList: true});\n",
       "}}\n",
       "\n",
       "                        })                };                });            </script>        </div>"
      ]
     },
     "metadata": {},
     "output_type": "display_data"
    }
   ],
   "source": [
    "#scatter plot total deaths state wise\n",
    "df.iplot(kind=\"scatter\",x='Name of State / UT' ,\n",
    "         y='Death',title='State wise corona active cases',\n",
    "         xTitle='States',yTitle='Number of cases',colors='red')"
   ]
  },
  {
   "cell_type": "code",
   "execution_count": 13,
   "metadata": {},
   "outputs": [
    {
     "data": {
      "application/vnd.plotly.v1+json": {
       "config": {
        "plotlyServerURL": "https://plot.ly"
       },
       "data": [
        {
         "hovertemplate": "Name of State / UT=%{x}<br>Total_Cases=%{y}<extra></extra>",
         "legendgroup": "",
         "marker": {
          "color": "#636efa",
          "symbol": "circle"
         },
         "mode": "markers",
         "name": "",
         "orientation": "v",
         "showlegend": false,
         "type": "scatter",
         "x": [
          "Andhra Pradesh",
          "Chhattisgarh",
          "Delhi",
          "Gujarat",
          "Haryana",
          "Himachal Pradesh",
          "Karnataka",
          "Kerala",
          "Madhya Pradesh",
          "Maharashtra",
          "Odisha",
          "Puducherry",
          "Punjab",
          "Rajasthan",
          "Tamil Nadu",
          "Telengana",
          "Chandigarh",
          "Jammu and Kashmir",
          "Ladakh",
          "Uttar Pradesh",
          "Uttarakhand",
          "West Bengal",
          "Bihar",
          "Mizoram",
          "Goa",
          "Manipur"
         ],
         "xaxis": "x",
         "y": [
          12,
          6,
          39,
          43,
          30,
          4,
          20,
          138,
          23,
          147,
          3,
          1,
          29,
          43,
          35,
          45,
          7,
          18,
          13,
          43,
          4,
          11,
          7,
          1,
          6,
          1
         ],
         "yaxis": "y"
        }
       ],
       "layout": {
        "legend": {
         "tracegroupgap": 0
        },
        "margin": {
         "t": 60
        },
        "template": {
         "data": {
          "bar": [
           {
            "error_x": {
             "color": "#2a3f5f"
            },
            "error_y": {
             "color": "#2a3f5f"
            },
            "marker": {
             "line": {
              "color": "#E5ECF6",
              "width": 0.5
             }
            },
            "type": "bar"
           }
          ],
          "barpolar": [
           {
            "marker": {
             "line": {
              "color": "#E5ECF6",
              "width": 0.5
             }
            },
            "type": "barpolar"
           }
          ],
          "carpet": [
           {
            "aaxis": {
             "endlinecolor": "#2a3f5f",
             "gridcolor": "white",
             "linecolor": "white",
             "minorgridcolor": "white",
             "startlinecolor": "#2a3f5f"
            },
            "baxis": {
             "endlinecolor": "#2a3f5f",
             "gridcolor": "white",
             "linecolor": "white",
             "minorgridcolor": "white",
             "startlinecolor": "#2a3f5f"
            },
            "type": "carpet"
           }
          ],
          "choropleth": [
           {
            "colorbar": {
             "outlinewidth": 0,
             "ticks": ""
            },
            "type": "choropleth"
           }
          ],
          "contour": [
           {
            "colorbar": {
             "outlinewidth": 0,
             "ticks": ""
            },
            "colorscale": [
             [
              0,
              "#0d0887"
             ],
             [
              0.1111111111111111,
              "#46039f"
             ],
             [
              0.2222222222222222,
              "#7201a8"
             ],
             [
              0.3333333333333333,
              "#9c179e"
             ],
             [
              0.4444444444444444,
              "#bd3786"
             ],
             [
              0.5555555555555556,
              "#d8576b"
             ],
             [
              0.6666666666666666,
              "#ed7953"
             ],
             [
              0.7777777777777778,
              "#fb9f3a"
             ],
             [
              0.8888888888888888,
              "#fdca26"
             ],
             [
              1,
              "#f0f921"
             ]
            ],
            "type": "contour"
           }
          ],
          "contourcarpet": [
           {
            "colorbar": {
             "outlinewidth": 0,
             "ticks": ""
            },
            "type": "contourcarpet"
           }
          ],
          "heatmap": [
           {
            "colorbar": {
             "outlinewidth": 0,
             "ticks": ""
            },
            "colorscale": [
             [
              0,
              "#0d0887"
             ],
             [
              0.1111111111111111,
              "#46039f"
             ],
             [
              0.2222222222222222,
              "#7201a8"
             ],
             [
              0.3333333333333333,
              "#9c179e"
             ],
             [
              0.4444444444444444,
              "#bd3786"
             ],
             [
              0.5555555555555556,
              "#d8576b"
             ],
             [
              0.6666666666666666,
              "#ed7953"
             ],
             [
              0.7777777777777778,
              "#fb9f3a"
             ],
             [
              0.8888888888888888,
              "#fdca26"
             ],
             [
              1,
              "#f0f921"
             ]
            ],
            "type": "heatmap"
           }
          ],
          "heatmapgl": [
           {
            "colorbar": {
             "outlinewidth": 0,
             "ticks": ""
            },
            "colorscale": [
             [
              0,
              "#0d0887"
             ],
             [
              0.1111111111111111,
              "#46039f"
             ],
             [
              0.2222222222222222,
              "#7201a8"
             ],
             [
              0.3333333333333333,
              "#9c179e"
             ],
             [
              0.4444444444444444,
              "#bd3786"
             ],
             [
              0.5555555555555556,
              "#d8576b"
             ],
             [
              0.6666666666666666,
              "#ed7953"
             ],
             [
              0.7777777777777778,
              "#fb9f3a"
             ],
             [
              0.8888888888888888,
              "#fdca26"
             ],
             [
              1,
              "#f0f921"
             ]
            ],
            "type": "heatmapgl"
           }
          ],
          "histogram": [
           {
            "marker": {
             "colorbar": {
              "outlinewidth": 0,
              "ticks": ""
             }
            },
            "type": "histogram"
           }
          ],
          "histogram2d": [
           {
            "colorbar": {
             "outlinewidth": 0,
             "ticks": ""
            },
            "colorscale": [
             [
              0,
              "#0d0887"
             ],
             [
              0.1111111111111111,
              "#46039f"
             ],
             [
              0.2222222222222222,
              "#7201a8"
             ],
             [
              0.3333333333333333,
              "#9c179e"
             ],
             [
              0.4444444444444444,
              "#bd3786"
             ],
             [
              0.5555555555555556,
              "#d8576b"
             ],
             [
              0.6666666666666666,
              "#ed7953"
             ],
             [
              0.7777777777777778,
              "#fb9f3a"
             ],
             [
              0.8888888888888888,
              "#fdca26"
             ],
             [
              1,
              "#f0f921"
             ]
            ],
            "type": "histogram2d"
           }
          ],
          "histogram2dcontour": [
           {
            "colorbar": {
             "outlinewidth": 0,
             "ticks": ""
            },
            "colorscale": [
             [
              0,
              "#0d0887"
             ],
             [
              0.1111111111111111,
              "#46039f"
             ],
             [
              0.2222222222222222,
              "#7201a8"
             ],
             [
              0.3333333333333333,
              "#9c179e"
             ],
             [
              0.4444444444444444,
              "#bd3786"
             ],
             [
              0.5555555555555556,
              "#d8576b"
             ],
             [
              0.6666666666666666,
              "#ed7953"
             ],
             [
              0.7777777777777778,
              "#fb9f3a"
             ],
             [
              0.8888888888888888,
              "#fdca26"
             ],
             [
              1,
              "#f0f921"
             ]
            ],
            "type": "histogram2dcontour"
           }
          ],
          "mesh3d": [
           {
            "colorbar": {
             "outlinewidth": 0,
             "ticks": ""
            },
            "type": "mesh3d"
           }
          ],
          "parcoords": [
           {
            "line": {
             "colorbar": {
              "outlinewidth": 0,
              "ticks": ""
             }
            },
            "type": "parcoords"
           }
          ],
          "pie": [
           {
            "automargin": true,
            "type": "pie"
           }
          ],
          "scatter": [
           {
            "marker": {
             "colorbar": {
              "outlinewidth": 0,
              "ticks": ""
             }
            },
            "type": "scatter"
           }
          ],
          "scatter3d": [
           {
            "line": {
             "colorbar": {
              "outlinewidth": 0,
              "ticks": ""
             }
            },
            "marker": {
             "colorbar": {
              "outlinewidth": 0,
              "ticks": ""
             }
            },
            "type": "scatter3d"
           }
          ],
          "scattercarpet": [
           {
            "marker": {
             "colorbar": {
              "outlinewidth": 0,
              "ticks": ""
             }
            },
            "type": "scattercarpet"
           }
          ],
          "scattergeo": [
           {
            "marker": {
             "colorbar": {
              "outlinewidth": 0,
              "ticks": ""
             }
            },
            "type": "scattergeo"
           }
          ],
          "scattergl": [
           {
            "marker": {
             "colorbar": {
              "outlinewidth": 0,
              "ticks": ""
             }
            },
            "type": "scattergl"
           }
          ],
          "scattermapbox": [
           {
            "marker": {
             "colorbar": {
              "outlinewidth": 0,
              "ticks": ""
             }
            },
            "type": "scattermapbox"
           }
          ],
          "scatterpolar": [
           {
            "marker": {
             "colorbar": {
              "outlinewidth": 0,
              "ticks": ""
             }
            },
            "type": "scatterpolar"
           }
          ],
          "scatterpolargl": [
           {
            "marker": {
             "colorbar": {
              "outlinewidth": 0,
              "ticks": ""
             }
            },
            "type": "scatterpolargl"
           }
          ],
          "scatterternary": [
           {
            "marker": {
             "colorbar": {
              "outlinewidth": 0,
              "ticks": ""
             }
            },
            "type": "scatterternary"
           }
          ],
          "surface": [
           {
            "colorbar": {
             "outlinewidth": 0,
             "ticks": ""
            },
            "colorscale": [
             [
              0,
              "#0d0887"
             ],
             [
              0.1111111111111111,
              "#46039f"
             ],
             [
              0.2222222222222222,
              "#7201a8"
             ],
             [
              0.3333333333333333,
              "#9c179e"
             ],
             [
              0.4444444444444444,
              "#bd3786"
             ],
             [
              0.5555555555555556,
              "#d8576b"
             ],
             [
              0.6666666666666666,
              "#ed7953"
             ],
             [
              0.7777777777777778,
              "#fb9f3a"
             ],
             [
              0.8888888888888888,
              "#fdca26"
             ],
             [
              1,
              "#f0f921"
             ]
            ],
            "type": "surface"
           }
          ],
          "table": [
           {
            "cells": {
             "fill": {
              "color": "#EBF0F8"
             },
             "line": {
              "color": "white"
             }
            },
            "header": {
             "fill": {
              "color": "#C8D4E3"
             },
             "line": {
              "color": "white"
             }
            },
            "type": "table"
           }
          ]
         },
         "layout": {
          "annotationdefaults": {
           "arrowcolor": "#2a3f5f",
           "arrowhead": 0,
           "arrowwidth": 1
          },
          "coloraxis": {
           "colorbar": {
            "outlinewidth": 0,
            "ticks": ""
           }
          },
          "colorscale": {
           "diverging": [
            [
             0,
             "#8e0152"
            ],
            [
             0.1,
             "#c51b7d"
            ],
            [
             0.2,
             "#de77ae"
            ],
            [
             0.3,
             "#f1b6da"
            ],
            [
             0.4,
             "#fde0ef"
            ],
            [
             0.5,
             "#f7f7f7"
            ],
            [
             0.6,
             "#e6f5d0"
            ],
            [
             0.7,
             "#b8e186"
            ],
            [
             0.8,
             "#7fbc41"
            ],
            [
             0.9,
             "#4d9221"
            ],
            [
             1,
             "#276419"
            ]
           ],
           "sequential": [
            [
             0,
             "#0d0887"
            ],
            [
             0.1111111111111111,
             "#46039f"
            ],
            [
             0.2222222222222222,
             "#7201a8"
            ],
            [
             0.3333333333333333,
             "#9c179e"
            ],
            [
             0.4444444444444444,
             "#bd3786"
            ],
            [
             0.5555555555555556,
             "#d8576b"
            ],
            [
             0.6666666666666666,
             "#ed7953"
            ],
            [
             0.7777777777777778,
             "#fb9f3a"
            ],
            [
             0.8888888888888888,
             "#fdca26"
            ],
            [
             1,
             "#f0f921"
            ]
           ],
           "sequentialminus": [
            [
             0,
             "#0d0887"
            ],
            [
             0.1111111111111111,
             "#46039f"
            ],
            [
             0.2222222222222222,
             "#7201a8"
            ],
            [
             0.3333333333333333,
             "#9c179e"
            ],
            [
             0.4444444444444444,
             "#bd3786"
            ],
            [
             0.5555555555555556,
             "#d8576b"
            ],
            [
             0.6666666666666666,
             "#ed7953"
            ],
            [
             0.7777777777777778,
             "#fb9f3a"
            ],
            [
             0.8888888888888888,
             "#fdca26"
            ],
            [
             1,
             "#f0f921"
            ]
           ]
          },
          "colorway": [
           "#636efa",
           "#EF553B",
           "#00cc96",
           "#ab63fa",
           "#FFA15A",
           "#19d3f3",
           "#FF6692",
           "#B6E880",
           "#FF97FF",
           "#FECB52"
          ],
          "font": {
           "color": "#2a3f5f"
          },
          "geo": {
           "bgcolor": "white",
           "lakecolor": "white",
           "landcolor": "#E5ECF6",
           "showlakes": true,
           "showland": true,
           "subunitcolor": "white"
          },
          "hoverlabel": {
           "align": "left"
          },
          "hovermode": "closest",
          "mapbox": {
           "style": "light"
          },
          "paper_bgcolor": "white",
          "plot_bgcolor": "#E5ECF6",
          "polar": {
           "angularaxis": {
            "gridcolor": "white",
            "linecolor": "white",
            "ticks": ""
           },
           "bgcolor": "#E5ECF6",
           "radialaxis": {
            "gridcolor": "white",
            "linecolor": "white",
            "ticks": ""
           }
          },
          "scene": {
           "xaxis": {
            "backgroundcolor": "#E5ECF6",
            "gridcolor": "white",
            "gridwidth": 2,
            "linecolor": "white",
            "showbackground": true,
            "ticks": "",
            "zerolinecolor": "white"
           },
           "yaxis": {
            "backgroundcolor": "#E5ECF6",
            "gridcolor": "white",
            "gridwidth": 2,
            "linecolor": "white",
            "showbackground": true,
            "ticks": "",
            "zerolinecolor": "white"
           },
           "zaxis": {
            "backgroundcolor": "#E5ECF6",
            "gridcolor": "white",
            "gridwidth": 2,
            "linecolor": "white",
            "showbackground": true,
            "ticks": "",
            "zerolinecolor": "white"
           }
          },
          "shapedefaults": {
           "line": {
            "color": "#2a3f5f"
           }
          },
          "ternary": {
           "aaxis": {
            "gridcolor": "white",
            "linecolor": "white",
            "ticks": ""
           },
           "baxis": {
            "gridcolor": "white",
            "linecolor": "white",
            "ticks": ""
           },
           "bgcolor": "#E5ECF6",
           "caxis": {
            "gridcolor": "white",
            "linecolor": "white",
            "ticks": ""
           }
          },
          "title": {
           "x": 0.05
          },
          "xaxis": {
           "automargin": true,
           "gridcolor": "white",
           "linecolor": "white",
           "ticks": "",
           "title": {
            "standoff": 15
           },
           "zerolinecolor": "white",
           "zerolinewidth": 2
          },
          "yaxis": {
           "automargin": true,
           "gridcolor": "white",
           "linecolor": "white",
           "ticks": "",
           "title": {
            "standoff": 15
           },
           "zerolinecolor": "white",
           "zerolinewidth": 2
          }
         }
        },
        "xaxis": {
         "anchor": "y",
         "domain": [
          0,
          1
         ],
         "title": {
          "text": "Name of State / UT"
         }
        },
        "yaxis": {
         "anchor": "x",
         "domain": [
          0,
          1
         ],
         "title": {
          "text": "Total_Cases"
         }
        }
       }
      },
      "text/html": [
       "<div>                            <div id=\"ea69be1a-d1ba-4499-b400-e5714dff3abe\" class=\"plotly-graph-div\" style=\"height:525px; width:100%;\"></div>            <script type=\"text/javascript\">                require([\"plotly\"], function(Plotly) {                    window.PLOTLYENV=window.PLOTLYENV || {};                                    if (document.getElementById(\"ea69be1a-d1ba-4499-b400-e5714dff3abe\")) {                    Plotly.newPlot(                        \"ea69be1a-d1ba-4499-b400-e5714dff3abe\",                        [{\"hovertemplate\": \"Name of State / UT=%{x}<br>Total_Cases=%{y}<extra></extra>\", \"legendgroup\": \"\", \"marker\": {\"color\": \"#636efa\", \"symbol\": \"circle\"}, \"mode\": \"markers\", \"name\": \"\", \"orientation\": \"v\", \"showlegend\": false, \"type\": \"scatter\", \"x\": [\"Andhra Pradesh\", \"Chhattisgarh\", \"Delhi\", \"Gujarat\", \"Haryana\", \"Himachal Pradesh\", \"Karnataka\", \"Kerala\", \"Madhya Pradesh\", \"Maharashtra\", \"Odisha\", \"Puducherry\", \"Punjab\", \"Rajasthan\", \"Tamil Nadu\", \"Telengana\", \"Chandigarh\", \"Jammu and Kashmir\", \"Ladakh\", \"Uttar Pradesh\", \"Uttarakhand\", \"West Bengal\", \"Bihar\", \"Mizoram\", \"Goa\", \"Manipur\"], \"xaxis\": \"x\", \"y\": [12, 6, 39, 43, 30, 4, 20, 138, 23, 147, 3, 1, 29, 43, 35, 45, 7, 18, 13, 43, 4, 11, 7, 1, 6, 1], \"yaxis\": \"y\"}],                        {\"legend\": {\"tracegroupgap\": 0}, \"margin\": {\"t\": 60}, \"template\": {\"data\": {\"bar\": [{\"error_x\": {\"color\": \"#2a3f5f\"}, \"error_y\": {\"color\": \"#2a3f5f\"}, \"marker\": {\"line\": {\"color\": \"#E5ECF6\", \"width\": 0.5}}, \"type\": \"bar\"}], \"barpolar\": [{\"marker\": {\"line\": {\"color\": \"#E5ECF6\", \"width\": 0.5}}, \"type\": \"barpolar\"}], \"carpet\": [{\"aaxis\": {\"endlinecolor\": \"#2a3f5f\", \"gridcolor\": \"white\", \"linecolor\": \"white\", \"minorgridcolor\": \"white\", \"startlinecolor\": \"#2a3f5f\"}, \"baxis\": {\"endlinecolor\": \"#2a3f5f\", \"gridcolor\": \"white\", \"linecolor\": \"white\", \"minorgridcolor\": \"white\", \"startlinecolor\": \"#2a3f5f\"}, \"type\": \"carpet\"}], \"choropleth\": [{\"colorbar\": {\"outlinewidth\": 0, \"ticks\": \"\"}, \"type\": \"choropleth\"}], \"contour\": [{\"colorbar\": {\"outlinewidth\": 0, \"ticks\": \"\"}, \"colorscale\": [[0.0, \"#0d0887\"], [0.1111111111111111, \"#46039f\"], [0.2222222222222222, \"#7201a8\"], [0.3333333333333333, \"#9c179e\"], [0.4444444444444444, \"#bd3786\"], [0.5555555555555556, \"#d8576b\"], [0.6666666666666666, \"#ed7953\"], [0.7777777777777778, \"#fb9f3a\"], [0.8888888888888888, \"#fdca26\"], [1.0, \"#f0f921\"]], \"type\": \"contour\"}], \"contourcarpet\": [{\"colorbar\": {\"outlinewidth\": 0, \"ticks\": \"\"}, \"type\": \"contourcarpet\"}], \"heatmap\": [{\"colorbar\": {\"outlinewidth\": 0, \"ticks\": \"\"}, \"colorscale\": [[0.0, \"#0d0887\"], [0.1111111111111111, \"#46039f\"], [0.2222222222222222, \"#7201a8\"], [0.3333333333333333, \"#9c179e\"], [0.4444444444444444, \"#bd3786\"], [0.5555555555555556, \"#d8576b\"], [0.6666666666666666, \"#ed7953\"], [0.7777777777777778, \"#fb9f3a\"], [0.8888888888888888, \"#fdca26\"], [1.0, \"#f0f921\"]], \"type\": \"heatmap\"}], \"heatmapgl\": [{\"colorbar\": {\"outlinewidth\": 0, \"ticks\": \"\"}, \"colorscale\": [[0.0, \"#0d0887\"], [0.1111111111111111, \"#46039f\"], [0.2222222222222222, \"#7201a8\"], [0.3333333333333333, \"#9c179e\"], [0.4444444444444444, \"#bd3786\"], [0.5555555555555556, \"#d8576b\"], [0.6666666666666666, \"#ed7953\"], [0.7777777777777778, \"#fb9f3a\"], [0.8888888888888888, \"#fdca26\"], [1.0, \"#f0f921\"]], \"type\": \"heatmapgl\"}], \"histogram\": [{\"marker\": {\"colorbar\": {\"outlinewidth\": 0, \"ticks\": \"\"}}, \"type\": \"histogram\"}], \"histogram2d\": [{\"colorbar\": {\"outlinewidth\": 0, \"ticks\": \"\"}, \"colorscale\": [[0.0, \"#0d0887\"], [0.1111111111111111, \"#46039f\"], [0.2222222222222222, \"#7201a8\"], [0.3333333333333333, \"#9c179e\"], [0.4444444444444444, \"#bd3786\"], [0.5555555555555556, \"#d8576b\"], [0.6666666666666666, \"#ed7953\"], [0.7777777777777778, \"#fb9f3a\"], [0.8888888888888888, \"#fdca26\"], [1.0, \"#f0f921\"]], \"type\": \"histogram2d\"}], \"histogram2dcontour\": [{\"colorbar\": {\"outlinewidth\": 0, \"ticks\": \"\"}, \"colorscale\": [[0.0, \"#0d0887\"], [0.1111111111111111, \"#46039f\"], [0.2222222222222222, \"#7201a8\"], [0.3333333333333333, \"#9c179e\"], [0.4444444444444444, \"#bd3786\"], [0.5555555555555556, \"#d8576b\"], [0.6666666666666666, \"#ed7953\"], [0.7777777777777778, \"#fb9f3a\"], [0.8888888888888888, \"#fdca26\"], [1.0, \"#f0f921\"]], \"type\": \"histogram2dcontour\"}], \"mesh3d\": [{\"colorbar\": {\"outlinewidth\": 0, \"ticks\": \"\"}, \"type\": \"mesh3d\"}], \"parcoords\": [{\"line\": {\"colorbar\": {\"outlinewidth\": 0, \"ticks\": \"\"}}, \"type\": \"parcoords\"}], \"pie\": [{\"automargin\": true, \"type\": \"pie\"}], \"scatter\": [{\"marker\": {\"colorbar\": {\"outlinewidth\": 0, \"ticks\": \"\"}}, \"type\": \"scatter\"}], \"scatter3d\": [{\"line\": {\"colorbar\": {\"outlinewidth\": 0, \"ticks\": \"\"}}, \"marker\": {\"colorbar\": {\"outlinewidth\": 0, \"ticks\": \"\"}}, \"type\": \"scatter3d\"}], \"scattercarpet\": [{\"marker\": {\"colorbar\": {\"outlinewidth\": 0, \"ticks\": \"\"}}, \"type\": \"scattercarpet\"}], \"scattergeo\": [{\"marker\": {\"colorbar\": {\"outlinewidth\": 0, \"ticks\": \"\"}}, \"type\": \"scattergeo\"}], \"scattergl\": [{\"marker\": {\"colorbar\": {\"outlinewidth\": 0, \"ticks\": \"\"}}, \"type\": \"scattergl\"}], \"scattermapbox\": [{\"marker\": {\"colorbar\": {\"outlinewidth\": 0, \"ticks\": \"\"}}, \"type\": \"scattermapbox\"}], \"scatterpolar\": [{\"marker\": {\"colorbar\": {\"outlinewidth\": 0, \"ticks\": \"\"}}, \"type\": \"scatterpolar\"}], \"scatterpolargl\": [{\"marker\": {\"colorbar\": {\"outlinewidth\": 0, \"ticks\": \"\"}}, \"type\": \"scatterpolargl\"}], \"scatterternary\": [{\"marker\": {\"colorbar\": {\"outlinewidth\": 0, \"ticks\": \"\"}}, \"type\": \"scatterternary\"}], \"surface\": [{\"colorbar\": {\"outlinewidth\": 0, \"ticks\": \"\"}, \"colorscale\": [[0.0, \"#0d0887\"], [0.1111111111111111, \"#46039f\"], [0.2222222222222222, \"#7201a8\"], [0.3333333333333333, \"#9c179e\"], [0.4444444444444444, \"#bd3786\"], [0.5555555555555556, \"#d8576b\"], [0.6666666666666666, \"#ed7953\"], [0.7777777777777778, \"#fb9f3a\"], [0.8888888888888888, \"#fdca26\"], [1.0, \"#f0f921\"]], \"type\": \"surface\"}], \"table\": [{\"cells\": {\"fill\": {\"color\": \"#EBF0F8\"}, \"line\": {\"color\": \"white\"}}, \"header\": {\"fill\": {\"color\": \"#C8D4E3\"}, \"line\": {\"color\": \"white\"}}, \"type\": \"table\"}]}, \"layout\": {\"annotationdefaults\": {\"arrowcolor\": \"#2a3f5f\", \"arrowhead\": 0, \"arrowwidth\": 1}, \"coloraxis\": {\"colorbar\": {\"outlinewidth\": 0, \"ticks\": \"\"}}, \"colorscale\": {\"diverging\": [[0, \"#8e0152\"], [0.1, \"#c51b7d\"], [0.2, \"#de77ae\"], [0.3, \"#f1b6da\"], [0.4, \"#fde0ef\"], [0.5, \"#f7f7f7\"], [0.6, \"#e6f5d0\"], [0.7, \"#b8e186\"], [0.8, \"#7fbc41\"], [0.9, \"#4d9221\"], [1, \"#276419\"]], \"sequential\": [[0.0, \"#0d0887\"], [0.1111111111111111, \"#46039f\"], [0.2222222222222222, \"#7201a8\"], [0.3333333333333333, \"#9c179e\"], [0.4444444444444444, \"#bd3786\"], [0.5555555555555556, \"#d8576b\"], [0.6666666666666666, \"#ed7953\"], [0.7777777777777778, \"#fb9f3a\"], [0.8888888888888888, \"#fdca26\"], [1.0, \"#f0f921\"]], \"sequentialminus\": [[0.0, \"#0d0887\"], [0.1111111111111111, \"#46039f\"], [0.2222222222222222, \"#7201a8\"], [0.3333333333333333, \"#9c179e\"], [0.4444444444444444, \"#bd3786\"], [0.5555555555555556, \"#d8576b\"], [0.6666666666666666, \"#ed7953\"], [0.7777777777777778, \"#fb9f3a\"], [0.8888888888888888, \"#fdca26\"], [1.0, \"#f0f921\"]]}, \"colorway\": [\"#636efa\", \"#EF553B\", \"#00cc96\", \"#ab63fa\", \"#FFA15A\", \"#19d3f3\", \"#FF6692\", \"#B6E880\", \"#FF97FF\", \"#FECB52\"], \"font\": {\"color\": \"#2a3f5f\"}, \"geo\": {\"bgcolor\": \"white\", \"lakecolor\": \"white\", \"landcolor\": \"#E5ECF6\", \"showlakes\": true, \"showland\": true, \"subunitcolor\": \"white\"}, \"hoverlabel\": {\"align\": \"left\"}, \"hovermode\": \"closest\", \"mapbox\": {\"style\": \"light\"}, \"paper_bgcolor\": \"white\", \"plot_bgcolor\": \"#E5ECF6\", \"polar\": {\"angularaxis\": {\"gridcolor\": \"white\", \"linecolor\": \"white\", \"ticks\": \"\"}, \"bgcolor\": \"#E5ECF6\", \"radialaxis\": {\"gridcolor\": \"white\", \"linecolor\": \"white\", \"ticks\": \"\"}}, \"scene\": {\"xaxis\": {\"backgroundcolor\": \"#E5ECF6\", \"gridcolor\": \"white\", \"gridwidth\": 2, \"linecolor\": \"white\", \"showbackground\": true, \"ticks\": \"\", \"zerolinecolor\": \"white\"}, \"yaxis\": {\"backgroundcolor\": \"#E5ECF6\", \"gridcolor\": \"white\", \"gridwidth\": 2, \"linecolor\": \"white\", \"showbackground\": true, \"ticks\": \"\", \"zerolinecolor\": \"white\"}, \"zaxis\": {\"backgroundcolor\": \"#E5ECF6\", \"gridcolor\": \"white\", \"gridwidth\": 2, \"linecolor\": \"white\", \"showbackground\": true, \"ticks\": \"\", \"zerolinecolor\": \"white\"}}, \"shapedefaults\": {\"line\": {\"color\": \"#2a3f5f\"}}, \"ternary\": {\"aaxis\": {\"gridcolor\": \"white\", \"linecolor\": \"white\", \"ticks\": \"\"}, \"baxis\": {\"gridcolor\": \"white\", \"linecolor\": \"white\", \"ticks\": \"\"}, \"bgcolor\": \"#E5ECF6\", \"caxis\": {\"gridcolor\": \"white\", \"linecolor\": \"white\", \"ticks\": \"\"}}, \"title\": {\"x\": 0.05}, \"xaxis\": {\"automargin\": true, \"gridcolor\": \"white\", \"linecolor\": \"white\", \"ticks\": \"\", \"title\": {\"standoff\": 15}, \"zerolinecolor\": \"white\", \"zerolinewidth\": 2}, \"yaxis\": {\"automargin\": true, \"gridcolor\": \"white\", \"linecolor\": \"white\", \"ticks\": \"\", \"title\": {\"standoff\": 15}, \"zerolinecolor\": \"white\", \"zerolinewidth\": 2}}}, \"xaxis\": {\"anchor\": \"y\", \"domain\": [0.0, 1.0], \"title\": {\"text\": \"Name of State / UT\"}}, \"yaxis\": {\"anchor\": \"x\", \"domain\": [0.0, 1.0], \"title\": {\"text\": \"Total_Cases\"}}},                        {\"responsive\": true}                    ).then(function(){\n",
       "                            \n",
       "var gd = document.getElementById('ea69be1a-d1ba-4499-b400-e5714dff3abe');\n",
       "var x = new MutationObserver(function (mutations, observer) {{\n",
       "        var display = window.getComputedStyle(gd).display;\n",
       "        if (!display || display === 'none') {{\n",
       "            console.log([gd, 'removed!']);\n",
       "            Plotly.purge(gd);\n",
       "            observer.disconnect();\n",
       "        }}\n",
       "}});\n",
       "\n",
       "// Listen for the removal of the full notebook cells\n",
       "var notebookContainer = gd.closest('#notebook-container');\n",
       "if (notebookContainer) {{\n",
       "    x.observe(notebookContainer, {childList: true});\n",
       "}}\n",
       "\n",
       "// Listen for the clearing of the current output cell\n",
       "var outputEl = gd.closest('.output');\n",
       "if (outputEl) {{\n",
       "    x.observe(outputEl, {childList: true});\n",
       "}}\n",
       "\n",
       "                        })                };                });            </script>        </div>"
      ]
     },
     "metadata": {},
     "output_type": "display_data"
    }
   ],
   "source": [
    "# plotly express total case graph\n",
    "px.scatter(df,x='Name of State / UT',y='Total_Cases',\n",
    "             )"
   ]
  },
  {
   "cell_type": "code",
   "execution_count": 14,
   "metadata": {},
   "outputs": [
    {
     "data": {
      "image/png": "[encoded data removed]",
      "text/plain": [
       "<Figure size 2000x1000 with 1 Axes>"
      ]
     },
     "metadata": {},
     "output_type": "display_data"
    }
   ],
   "source": [
    "#using matplotlib \n",
    "style.use('ggplot')\n",
    "fig=plt.figure(figsize=(20,10),dpi=100)\n",
    "ax=fig.add_axes([0,0,1,1])\n",
    "ax.barh(df['Name of State / UT'],df['Total_Cases'])\n",
    "ax.set_title(\"Total corona cases\")\n",
    "ax.set_xlabel(\"State\")\n",
    "ax.set_ylabel(\"Total case\")\n",
    "plt.show()"
   ]
  },
  {
   "cell_type": "code",
   "execution_count": 15,
   "metadata": {},
   "outputs": [
    {
     "data": {
      "application/vnd.plotly.v1+json": {
       "config": {
        "plotlyServerURL": "https://plot.ly"
       },
       "data": [
        {
         "type": "bar",
         "x": [
          "Andhra Pradesh",
          "Chhattisgarh",
          "Delhi",
          "Gujarat",
          "Haryana",
          "Himachal Pradesh",
          "Karnataka",
          "Kerala",
          "Madhya Pradesh",
          "Maharashtra",
          "Odisha",
          "Puducherry",
          "Punjab",
          "Rajasthan",
          "Tamil Nadu",
          "Telengana",
          "Chandigarh",
          "Jammu and Kashmir",
          "Ladakh",
          "Uttar Pradesh",
          "Uttarakhand",
          "West Bengal",
          "Bihar",
          "Mizoram",
          "Goa",
          "Manipur"
         ],
         "y": [
          0,
          0,
          1,
          3,
          0,
          1,
          2,
          0,
          1,
          4,
          0,
          0,
          1,
          0,
          1,
          0,
          0,
          1,
          0,
          0,
          0,
          1,
          1,
          0,
          0,
          0
         ]
        }
       ],
       "layout": {
        "template": {
         "data": {
          "bar": [
           {
            "error_x": {
             "color": "#2a3f5f"
            },
            "error_y": {
             "color": "#2a3f5f"
            },
            "marker": {
             "line": {
              "color": "#E5ECF6",
              "width": 0.5
             }
            },
            "type": "bar"
           }
          ],
          "barpolar": [
           {
            "marker": {
             "line": {
              "color": "#E5ECF6",
              "width": 0.5
             }
            },
            "type": "barpolar"
           }
          ],
          "carpet": [
           {
            "aaxis": {
             "endlinecolor": "#2a3f5f",
             "gridcolor": "white",
             "linecolor": "white",
             "minorgridcolor": "white",
             "startlinecolor": "#2a3f5f"
            },
            "baxis": {
             "endlinecolor": "#2a3f5f",
             "gridcolor": "white",
             "linecolor": "white",
             "minorgridcolor": "white",
             "startlinecolor": "#2a3f5f"
            },
            "type": "carpet"
           }
          ],
          "choropleth": [
           {
            "colorbar": {
             "outlinewidth": 0,
             "ticks": ""
            },
            "type": "choropleth"
           }
          ],
          "contour": [
           {
            "colorbar": {
             "outlinewidth": 0,
             "ticks": ""
            },
            "colorscale": [
             [
              0,
              "#0d0887"
             ],
             [
              0.1111111111111111,
              "#46039f"
             ],
             [
              0.2222222222222222,
              "#7201a8"
             ],
             [
              0.3333333333333333,
              "#9c179e"
             ],
             [
              0.4444444444444444,
              "#bd3786"
             ],
             [
              0.5555555555555556,
              "#d8576b"
             ],
             [
              0.6666666666666666,
              "#ed7953"
             ],
             [
              0.7777777777777778,
              "#fb9f3a"
             ],
             [
              0.8888888888888888,
              "#fdca26"
             ],
             [
              1,
              "#f0f921"
             ]
            ],
            "type": "contour"
           }
          ],
          "contourcarpet": [
           {
            "colorbar": {
             "outlinewidth": 0,
             "ticks": ""
            },
            "type": "contourcarpet"
           }
          ],
          "heatmap": [
           {
            "colorbar": {
             "outlinewidth": 0,
             "ticks": ""
            },
            "colorscale": [
             [
              0,
              "#0d0887"
             ],
             [
              0.1111111111111111,
              "#46039f"
             ],
             [
              0.2222222222222222,
              "#7201a8"
             ],
             [
              0.3333333333333333,
              "#9c179e"
             ],
             [
              0.4444444444444444,
              "#bd3786"
             ],
             [
              0.5555555555555556,
              "#d8576b"
             ],
             [
              0.6666666666666666,
              "#ed7953"
             ],
             [
              0.7777777777777778,
              "#fb9f3a"
             ],
             [
              0.8888888888888888,
              "#fdca26"
             ],
             [
              1,
              "#f0f921"
             ]
            ],
            "type": "heatmap"
           }
          ],
          "heatmapgl": [
           {
            "colorbar": {
             "outlinewidth": 0,
             "ticks": ""
            },
            "colorscale": [
             [
              0,
              "#0d0887"
             ],
             [
              0.1111111111111111,
              "#46039f"
             ],
             [
              0.2222222222222222,
              "#7201a8"
             ],
             [
              0.3333333333333333,
              "#9c179e"
             ],
             [
              0.4444444444444444,
              "#bd3786"
             ],
             [
              0.5555555555555556,
              "#d8576b"
             ],
             [
              0.6666666666666666,
              "#ed7953"
             ],
             [
              0.7777777777777778,
              "#fb9f3a"
             ],
             [
              0.8888888888888888,
              "#fdca26"
             ],
             [
              1,
              "#f0f921"
             ]
            ],
            "type": "heatmapgl"
           }
          ],
          "histogram": [
           {
            "marker": {
             "colorbar": {
              "outlinewidth": 0,
              "ticks": ""
             }
            },
            "type": "histogram"
           }
          ],
          "histogram2d": [
           {
            "colorbar": {
             "outlinewidth": 0,
             "ticks": ""
            },
            "colorscale": [
             [
              0,
              "#0d0887"
             ],
             [
              0.1111111111111111,
              "#46039f"
             ],
             [
              0.2222222222222222,
              "#7201a8"
             ],
             [
              0.3333333333333333,
              "#9c179e"
             ],
             [
              0.4444444444444444,
              "#bd3786"
             ],
             [
              0.5555555555555556,
              "#d8576b"
             ],
             [
              0.6666666666666666,
              "#ed7953"
             ],
             [
              0.7777777777777778,
              "#fb9f3a"
             ],
             [
              0.8888888888888888,
              "#fdca26"
             ],
             [
              1,
              "#f0f921"
             ]
            ],
            "type": "histogram2d"
           }
          ],
          "histogram2dcontour": [
           {
            "colorbar": {
             "outlinewidth": 0,
             "ticks": ""
            },
            "colorscale": [
             [
              0,
              "#0d0887"
             ],
             [
              0.1111111111111111,
              "#46039f"
             ],
             [
              0.2222222222222222,
              "#7201a8"
             ],
             [
              0.3333333333333333,
              "#9c179e"
             ],
             [
              0.4444444444444444,
              "#bd3786"
             ],
             [
              0.5555555555555556,
              "#d8576b"
             ],
             [
              0.6666666666666666,
              "#ed7953"
             ],
             [
              0.7777777777777778,
              "#fb9f3a"
             ],
             [
              0.8888888888888888,
              "#fdca26"
             ],
             [
              1,
              "#f0f921"
             ]
            ],
            "type": "histogram2dcontour"
           }
          ],
          "mesh3d": [
           {
            "colorbar": {
             "outlinewidth": 0,
             "ticks": ""
            },
            "type": "mesh3d"
           }
          ],
          "parcoords": [
           {
            "line": {
             "colorbar": {
              "outlinewidth": 0,
              "ticks": ""
             }
            },
            "type": "parcoords"
           }
          ],
          "pie": [
           {
            "automargin": true,
            "type": "pie"
           }
          ],
          "scatter": [
           {
            "marker": {
             "colorbar": {
              "outlinewidth": 0,
              "ticks": ""
             }
            },
            "type": "scatter"
           }
          ],
          "scatter3d": [
           {
            "line": {
             "colorbar": {
              "outlinewidth": 0,
              "ticks": ""
             }
            },
            "marker": {
             "colorbar": {
              "outlinewidth": 0,
              "ticks": ""
             }
            },
            "type": "scatter3d"
           }
          ],
          "scattercarpet": [
           {
            "marker": {
             "colorbar": {
              "outlinewidth": 0,
              "ticks": ""
             }
            },
            "type": "scattercarpet"
           }
          ],
          "scattergeo": [
           {
            "marker": {
             "colorbar": {
              "outlinewidth": 0,
              "ticks": ""
             }
            },
            "type": "scattergeo"
           }
          ],
          "scattergl": [
           {
            "marker": {
             "colorbar": {
              "outlinewidth": 0,
              "ticks": ""
             }
            },
            "type": "scattergl"
           }
          ],
          "scattermapbox": [
           {
            "marker": {
             "colorbar": {
              "outlinewidth": 0,
              "ticks": ""
             }
            },
            "type": "scattermapbox"
           }
          ],
          "scatterpolar": [
           {
            "marker": {
             "colorbar": {
              "outlinewidth": 0,
              "ticks": ""
             }
            },
            "type": "scatterpolar"
           }
          ],
          "scatterpolargl": [
           {
            "marker": {
             "colorbar": {
              "outlinewidth": 0,
              "ticks": ""
             }
            },
            "type": "scatterpolargl"
           }
          ],
          "scatterternary": [
           {
            "marker": {
             "colorbar": {
              "outlinewidth": 0,
              "ticks": ""
             }
            },
            "type": "scatterternary"
           }
          ],
          "surface": [
           {
            "colorbar": {
             "outlinewidth": 0,
             "ticks": ""
            },
            "colorscale": [
             [
              0,
              "#0d0887"
             ],
             [
              0.1111111111111111,
              "#46039f"
             ],
             [
              0.2222222222222222,
              "#7201a8"
             ],
             [
              0.3333333333333333,
              "#9c179e"
             ],
             [
              0.4444444444444444,
              "#bd3786"
             ],
             [
              0.5555555555555556,
              "#d8576b"
             ],
             [
              0.6666666666666666,
              "#ed7953"
             ],
             [
              0.7777777777777778,
              "#fb9f3a"
             ],
             [
              0.8888888888888888,
              "#fdca26"
             ],
             [
              1,
              "#f0f921"
             ]
            ],
            "type": "surface"
           }
          ],
          "table": [
           {
            "cells": {
             "fill": {
              "color": "#EBF0F8"
             },
             "line": {
              "color": "white"
             }
            },
            "header": {
             "fill": {
              "color": "#C8D4E3"
             },
             "line": {
              "color": "white"
             }
            },
            "type": "table"
           }
          ]
         },
         "layout": {
          "annotationdefaults": {
           "arrowcolor": "#2a3f5f",
           "arrowhead": 0,
           "arrowwidth": 1
          },
          "coloraxis": {
           "colorbar": {
            "outlinewidth": 0,
            "ticks": ""
           }
          },
          "colorscale": {
           "diverging": [
            [
             0,
             "#8e0152"
            ],
            [
             0.1,
             "#c51b7d"
            ],
            [
             0.2,
             "#de77ae"
            ],
            [
             0.3,
             "#f1b6da"
            ],
            [
             0.4,
             "#fde0ef"
            ],
            [
             0.5,
             "#f7f7f7"
            ],
            [
             0.6,
             "#e6f5d0"
            ],
            [
             0.7,
             "#b8e186"
            ],
            [
             0.8,
             "#7fbc41"
            ],
            [
             0.9,
             "#4d9221"
            ],
            [
             1,
             "#276419"
            ]
           ],
           "sequential": [
            [
             0,
             "#0d0887"
            ],
            [
             0.1111111111111111,
             "#46039f"
            ],
            [
             0.2222222222222222,
             "#7201a8"
            ],
            [
             0.3333333333333333,
             "#9c179e"
            ],
            [
             0.4444444444444444,
             "#bd3786"
            ],
            [
             0.5555555555555556,
             "#d8576b"
            ],
            [
             0.6666666666666666,
             "#ed7953"
            ],
            [
             0.7777777777777778,
             "#fb9f3a"
            ],
            [
             0.8888888888888888,
             "#fdca26"
            ],
            [
             1,
             "#f0f921"
            ]
           ],
           "sequentialminus": [
            [
             0,
             "#0d0887"
            ],
            [
             0.1111111111111111,
             "#46039f"
            ],
            [
             0.2222222222222222,
             "#7201a8"
            ],
            [
             0.3333333333333333,
             "#9c179e"
            ],
            [
             0.4444444444444444,
             "#bd3786"
            ],
            [
             0.5555555555555556,
             "#d8576b"
            ],
            [
             0.6666666666666666,
             "#ed7953"
            ],
            [
             0.7777777777777778,
             "#fb9f3a"
            ],
            [
             0.8888888888888888,
             "#fdca26"
            ],
            [
             1,
             "#f0f921"
            ]
           ]
          },
          "colorway": [
           "#636efa",
           "#EF553B",
           "#00cc96",
           "#ab63fa",
           "#FFA15A",
           "#19d3f3",
           "#FF6692",
           "#B6E880",
           "#FF97FF",
           "#FECB52"
          ],
          "font": {
           "color": "#2a3f5f"
          },
          "geo": {
           "bgcolor": "white",
           "lakecolor": "white",
           "landcolor": "#E5ECF6",
           "showlakes": true,
           "showland": true,
           "subunitcolor": "white"
          },
          "hoverlabel": {
           "align": "left"
          },
          "hovermode": "closest",
          "mapbox": {
           "style": "light"
          },
          "paper_bgcolor": "white",
          "plot_bgcolor": "#E5ECF6",
          "polar": {
           "angularaxis": {
            "gridcolor": "white",
            "linecolor": "white",
            "ticks": ""
           },
           "bgcolor": "#E5ECF6",
           "radialaxis": {
            "gridcolor": "white",
            "linecolor": "white",
            "ticks": ""
           }
          },
          "scene": {
           "xaxis": {
            "backgroundcolor": "#E5ECF6",
            "gridcolor": "white",
            "gridwidth": 2,
            "linecolor": "white",
            "showbackground": true,
            "ticks": "",
            "zerolinecolor": "white"
           },
           "yaxis": {
            "backgroundcolor": "#E5ECF6",
            "gridcolor": "white",
            "gridwidth": 2,
            "linecolor": "white",
            "showbackground": true,
            "ticks": "",
            "zerolinecolor": "white"
           },
           "zaxis": {
            "backgroundcolor": "#E5ECF6",
            "gridcolor": "white",
            "gridwidth": 2,
            "linecolor": "white",
            "showbackground": true,
            "ticks": "",
            "zerolinecolor": "white"
           }
          },
          "shapedefaults": {
           "line": {
            "color": "#2a3f5f"
           }
          },
          "ternary": {
           "aaxis": {
            "gridcolor": "white",
            "linecolor": "white",
            "ticks": ""
           },
           "baxis": {
            "gridcolor": "white",
            "linecolor": "white",
            "ticks": ""
           },
           "bgcolor": "#E5ECF6",
           "caxis": {
            "gridcolor": "white",
            "linecolor": "white",
            "ticks": ""
           }
          },
          "title": {
           "x": 0.05
          },
          "xaxis": {
           "automargin": true,
           "gridcolor": "white",
           "linecolor": "white",
           "ticks": "",
           "title": {
            "standoff": 15
           },
           "zerolinecolor": "white",
           "zerolinewidth": 2
          },
          "yaxis": {
           "automargin": true,
           "gridcolor": "white",
           "linecolor": "white",
           "ticks": "",
           "title": {
            "standoff": 15
           },
           "zerolinecolor": "white",
           "zerolinewidth": 2
          }
         }
        },
        "title": {
         "text": "Total Deatgs"
        },
        "xaxis": {
         "title": {
          "text": "State"
         }
        },
        "yaxis": {
         "title": {
          "text": "Deaths"
         }
        }
       }
      },
      "text/html": [
       "<div>                            <div id=\"81e239f4-ae32-4924-90b6-7fc3d385fc53\" class=\"plotly-graph-div\" style=\"height:525px; width:100%;\"></div>            <script type=\"text/javascript\">                require([\"plotly\"], function(Plotly) {                    window.PLOTLYENV=window.PLOTLYENV || {};                                    if (document.getElementById(\"81e239f4-ae32-4924-90b6-7fc3d385fc53\")) {                    Plotly.newPlot(                        \"81e239f4-ae32-4924-90b6-7fc3d385fc53\",                        [{\"type\": \"bar\", \"x\": [\"Andhra Pradesh\", \"Chhattisgarh\", \"Delhi\", \"Gujarat\", \"Haryana\", \"Himachal Pradesh\", \"Karnataka\", \"Kerala\", \"Madhya Pradesh\", \"Maharashtra\", \"Odisha\", \"Puducherry\", \"Punjab\", \"Rajasthan\", \"Tamil Nadu\", \"Telengana\", \"Chandigarh\", \"Jammu and Kashmir\", \"Ladakh\", \"Uttar Pradesh\", \"Uttarakhand\", \"West Bengal\", \"Bihar\", \"Mizoram\", \"Goa\", \"Manipur\"], \"y\": [0, 0, 1, 3, 0, 1, 2, 0, 1, 4, 0, 0, 1, 0, 1, 0, 0, 1, 0, 0, 0, 1, 1, 0, 0, 0]}],                        {\"template\": {\"data\": {\"bar\": [{\"error_x\": {\"color\": \"#2a3f5f\"}, \"error_y\": {\"color\": \"#2a3f5f\"}, \"marker\": {\"line\": {\"color\": \"#E5ECF6\", \"width\": 0.5}}, \"type\": \"bar\"}], \"barpolar\": [{\"marker\": {\"line\": {\"color\": \"#E5ECF6\", \"width\": 0.5}}, \"type\": \"barpolar\"}], \"carpet\": [{\"aaxis\": {\"endlinecolor\": \"#2a3f5f\", \"gridcolor\": \"white\", \"linecolor\": \"white\", \"minorgridcolor\": \"white\", \"startlinecolor\": \"#2a3f5f\"}, \"baxis\": {\"endlinecolor\": \"#2a3f5f\", \"gridcolor\": \"white\", \"linecolor\": \"white\", \"minorgridcolor\": \"white\", \"startlinecolor\": \"#2a3f5f\"}, \"type\": \"carpet\"}], \"choropleth\": [{\"colorbar\": {\"outlinewidth\": 0, \"ticks\": \"\"}, \"type\": \"choropleth\"}], \"contour\": [{\"colorbar\": {\"outlinewidth\": 0, \"ticks\": \"\"}, \"colorscale\": [[0.0, \"#0d0887\"], [0.1111111111111111, \"#46039f\"], [0.2222222222222222, \"#7201a8\"], [0.3333333333333333, \"#9c179e\"], [0.4444444444444444, \"#bd3786\"], [0.5555555555555556, \"#d8576b\"], [0.6666666666666666, \"#ed7953\"], [0.7777777777777778, \"#fb9f3a\"], [0.8888888888888888, \"#fdca26\"], [1.0, \"#f0f921\"]], \"type\": \"contour\"}], \"contourcarpet\": [{\"colorbar\": {\"outlinewidth\": 0, \"ticks\": \"\"}, \"type\": \"contourcarpet\"}], \"heatmap\": [{\"colorbar\": {\"outlinewidth\": 0, \"ticks\": \"\"}, \"colorscale\": [[0.0, \"#0d0887\"], [0.1111111111111111, \"#46039f\"], [0.2222222222222222, \"#7201a8\"], [0.3333333333333333, \"#9c179e\"], [0.4444444444444444, \"#bd3786\"], [0.5555555555555556, \"#d8576b\"], [0.6666666666666666, \"#ed7953\"], [0.7777777777777778, \"#fb9f3a\"], [0.8888888888888888, \"#fdca26\"], [1.0, \"#f0f921\"]], \"type\": \"heatmap\"}], \"heatmapgl\": [{\"colorbar\": {\"outlinewidth\": 0, \"ticks\": \"\"}, \"colorscale\": [[0.0, \"#0d0887\"], [0.1111111111111111, \"#46039f\"], [0.2222222222222222, \"#7201a8\"], [0.3333333333333333, \"#9c179e\"], [0.4444444444444444, \"#bd3786\"], [0.5555555555555556, \"#d8576b\"], [0.6666666666666666, \"#ed7953\"], [0.7777777777777778, \"#fb9f3a\"], [0.8888888888888888, \"#fdca26\"], [1.0, \"#f0f921\"]], \"type\": \"heatmapgl\"}], \"histogram\": [{\"marker\": {\"colorbar\": {\"outlinewidth\": 0, \"ticks\": \"\"}}, \"type\": \"histogram\"}], \"histogram2d\": [{\"colorbar\": {\"outlinewidth\": 0, \"ticks\": \"\"}, \"colorscale\": [[0.0, \"#0d0887\"], [0.1111111111111111, \"#46039f\"], [0.2222222222222222, \"#7201a8\"], [0.3333333333333333, \"#9c179e\"], [0.4444444444444444, \"#bd3786\"], [0.5555555555555556, \"#d8576b\"], [0.6666666666666666, \"#ed7953\"], [0.7777777777777778, \"#fb9f3a\"], [0.8888888888888888, \"#fdca26\"], [1.0, \"#f0f921\"]], \"type\": \"histogram2d\"}], \"histogram2dcontour\": [{\"colorbar\": {\"outlinewidth\": 0, \"ticks\": \"\"}, \"colorscale\": [[0.0, \"#0d0887\"], [0.1111111111111111, \"#46039f\"], [0.2222222222222222, \"#7201a8\"], [0.3333333333333333, \"#9c179e\"], [0.4444444444444444, \"#bd3786\"], [0.5555555555555556, \"#d8576b\"], [0.6666666666666666, \"#ed7953\"], [0.7777777777777778, \"#fb9f3a\"], [0.8888888888888888, \"#fdca26\"], [1.0, \"#f0f921\"]], \"type\": \"histogram2dcontour\"}], \"mesh3d\": [{\"colorbar\": {\"outlinewidth\": 0, \"ticks\": \"\"}, \"type\": \"mesh3d\"}], \"parcoords\": [{\"line\": {\"colorbar\": {\"outlinewidth\": 0, \"ticks\": \"\"}}, \"type\": \"parcoords\"}], \"pie\": [{\"automargin\": true, \"type\": \"pie\"}], \"scatter\": [{\"marker\": {\"colorbar\": {\"outlinewidth\": 0, \"ticks\": \"\"}}, \"type\": \"scatter\"}], \"scatter3d\": [{\"line\": {\"colorbar\": {\"outlinewidth\": 0, \"ticks\": \"\"}}, \"marker\": {\"colorbar\": {\"outlinewidth\": 0, \"ticks\": \"\"}}, \"type\": \"scatter3d\"}], \"scattercarpet\": [{\"marker\": {\"colorbar\": {\"outlinewidth\": 0, \"ticks\": \"\"}}, \"type\": \"scattercarpet\"}], \"scattergeo\": [{\"marker\": {\"colorbar\": {\"outlinewidth\": 0, \"ticks\": \"\"}}, \"type\": \"scattergeo\"}], \"scattergl\": [{\"marker\": {\"colorbar\": {\"outlinewidth\": 0, \"ticks\": \"\"}}, \"type\": \"scattergl\"}], \"scattermapbox\": [{\"marker\": {\"colorbar\": {\"outlinewidth\": 0, \"ticks\": \"\"}}, \"type\": \"scattermapbox\"}], \"scatterpolar\": [{\"marker\": {\"colorbar\": {\"outlinewidth\": 0, \"ticks\": \"\"}}, \"type\": \"scatterpolar\"}], \"scatterpolargl\": [{\"marker\": {\"colorbar\": {\"outlinewidth\": 0, \"ticks\": \"\"}}, \"type\": \"scatterpolargl\"}], \"scatterternary\": [{\"marker\": {\"colorbar\": {\"outlinewidth\": 0, \"ticks\": \"\"}}, \"type\": \"scatterternary\"}], \"surface\": [{\"colorbar\": {\"outlinewidth\": 0, \"ticks\": \"\"}, \"colorscale\": [[0.0, \"#0d0887\"], [0.1111111111111111, \"#46039f\"], [0.2222222222222222, \"#7201a8\"], [0.3333333333333333, \"#9c179e\"], [0.4444444444444444, \"#bd3786\"], [0.5555555555555556, \"#d8576b\"], [0.6666666666666666, \"#ed7953\"], [0.7777777777777778, \"#fb9f3a\"], [0.8888888888888888, \"#fdca26\"], [1.0, \"#f0f921\"]], \"type\": \"surface\"}], \"table\": [{\"cells\": {\"fill\": {\"color\": \"#EBF0F8\"}, \"line\": {\"color\": \"white\"}}, \"header\": {\"fill\": {\"color\": \"#C8D4E3\"}, \"line\": {\"color\": \"white\"}}, \"type\": \"table\"}]}, \"layout\": {\"annotationdefaults\": {\"arrowcolor\": \"#2a3f5f\", \"arrowhead\": 0, \"arrowwidth\": 1}, \"coloraxis\": {\"colorbar\": {\"outlinewidth\": 0, \"ticks\": \"\"}}, \"colorscale\": {\"diverging\": [[0, \"#8e0152\"], [0.1, \"#c51b7d\"], [0.2, \"#de77ae\"], [0.3, \"#f1b6da\"], [0.4, \"#fde0ef\"], [0.5, \"#f7f7f7\"], [0.6, \"#e6f5d0\"], [0.7, \"#b8e186\"], [0.8, \"#7fbc41\"], [0.9, \"#4d9221\"], [1, \"#276419\"]], \"sequential\": [[0.0, \"#0d0887\"], [0.1111111111111111, \"#46039f\"], [0.2222222222222222, \"#7201a8\"], [0.3333333333333333, \"#9c179e\"], [0.4444444444444444, \"#bd3786\"], [0.5555555555555556, \"#d8576b\"], [0.6666666666666666, \"#ed7953\"], [0.7777777777777778, \"#fb9f3a\"], [0.8888888888888888, \"#fdca26\"], [1.0, \"#f0f921\"]], \"sequentialminus\": [[0.0, \"#0d0887\"], [0.1111111111111111, \"#46039f\"], [0.2222222222222222, \"#7201a8\"], [0.3333333333333333, \"#9c179e\"], [0.4444444444444444, \"#bd3786\"], [0.5555555555555556, \"#d8576b\"], [0.6666666666666666, \"#ed7953\"], [0.7777777777777778, \"#fb9f3a\"], [0.8888888888888888, \"#fdca26\"], [1.0, \"#f0f921\"]]}, \"colorway\": [\"#636efa\", \"#EF553B\", \"#00cc96\", \"#ab63fa\", \"#FFA15A\", \"#19d3f3\", \"#FF6692\", \"#B6E880\", \"#FF97FF\", \"#FECB52\"], \"font\": {\"color\": \"#2a3f5f\"}, \"geo\": {\"bgcolor\": \"white\", \"lakecolor\": \"white\", \"landcolor\": \"#E5ECF6\", \"showlakes\": true, \"showland\": true, \"subunitcolor\": \"white\"}, \"hoverlabel\": {\"align\": \"left\"}, \"hovermode\": \"closest\", \"mapbox\": {\"style\": \"light\"}, \"paper_bgcolor\": \"white\", \"plot_bgcolor\": \"#E5ECF6\", \"polar\": {\"angularaxis\": {\"gridcolor\": \"white\", \"linecolor\": \"white\", \"ticks\": \"\"}, \"bgcolor\": \"#E5ECF6\", \"radialaxis\": {\"gridcolor\": \"white\", \"linecolor\": \"white\", \"ticks\": \"\"}}, \"scene\": {\"xaxis\": {\"backgroundcolor\": \"#E5ECF6\", \"gridcolor\": \"white\", \"gridwidth\": 2, \"linecolor\": \"white\", \"showbackground\": true, \"ticks\": \"\", \"zerolinecolor\": \"white\"}, \"yaxis\": {\"backgroundcolor\": \"#E5ECF6\", \"gridcolor\": \"white\", \"gridwidth\": 2, \"linecolor\": \"white\", \"showbackground\": true, \"ticks\": \"\", \"zerolinecolor\": \"white\"}, \"zaxis\": {\"backgroundcolor\": \"#E5ECF6\", \"gridcolor\": \"white\", \"gridwidth\": 2, \"linecolor\": \"white\", \"showbackground\": true, \"ticks\": \"\", \"zerolinecolor\": \"white\"}}, \"shapedefaults\": {\"line\": {\"color\": \"#2a3f5f\"}}, \"ternary\": {\"aaxis\": {\"gridcolor\": \"white\", \"linecolor\": \"white\", \"ticks\": \"\"}, \"baxis\": {\"gridcolor\": \"white\", \"linecolor\": \"white\", \"ticks\": \"\"}, \"bgcolor\": \"#E5ECF6\", \"caxis\": {\"gridcolor\": \"white\", \"linecolor\": \"white\", \"ticks\": \"\"}}, \"title\": {\"x\": 0.05}, \"xaxis\": {\"automargin\": true, \"gridcolor\": \"white\", \"linecolor\": \"white\", \"ticks\": \"\", \"title\": {\"standoff\": 15}, \"zerolinecolor\": \"white\", \"zerolinewidth\": 2}, \"yaxis\": {\"automargin\": true, \"gridcolor\": \"white\", \"linecolor\": \"white\", \"ticks\": \"\", \"title\": {\"standoff\": 15}, \"zerolinecolor\": \"white\", \"zerolinewidth\": 2}}}, \"title\": {\"text\": \"Total Deatgs\"}, \"xaxis\": {\"title\": {\"text\": \"State\"}}, \"yaxis\": {\"title\": {\"text\": \"Deaths\"}}},                        {\"responsive\": true}                    ).then(function(){\n",
       "                            \n",
       "var gd = document.getElementById('81e239f4-ae32-4924-90b6-7fc3d385fc53');\n",
       "var x = new MutationObserver(function (mutations, observer) {{\n",
       "        var display = window.getComputedStyle(gd).display;\n",
       "        if (!display || display === 'none') {{\n",
       "            console.log([gd, 'removed!']);\n",
       "            Plotly.purge(gd);\n",
       "            observer.disconnect();\n",
       "        }}\n",
       "}});\n",
       "\n",
       "// Listen for the removal of the full notebook cells\n",
       "var notebookContainer = gd.closest('#notebook-container');\n",
       "if (notebookContainer) {{\n",
       "    x.observe(notebookContainer, {childList: true});\n",
       "}}\n",
       "\n",
       "// Listen for the clearing of the current output cell\n",
       "var outputEl = gd.closest('.output');\n",
       "if (outputEl) {{\n",
       "    x.observe(outputEl, {childList: true});\n",
       "}}\n",
       "\n",
       "                        })                };                });            </script>        </div>"
      ]
     },
     "metadata": {},
     "output_type": "display_data"
    }
   ],
   "source": [
    "# total deaths bar chart\n",
    "fig=go.Figure()\n",
    "fig.add_trace(go.Bar(x=df['Name of State / UT'],y=df['Death']))\n",
    "fig.update_layout(title=\"Total Deatgs\", xaxis=dict(title=\"State\"),yaxis=dict(title=\"Deaths\"))\n"
   ]
  },
  {
   "cell_type": "code",
   "execution_count": 16,
   "metadata": {},
   "outputs": [
    {
     "data": {
      "text/html": [
       "<div>\n",
       "<style scoped>\n",
       "    .dataframe tbody tr th:only-of-type {\n",
       "        vertical-align: middle;\n",
       "    }\n",
       "\n",
       "    .dataframe tbody tr th {\n",
       "        vertical-align: top;\n",
       "    }\n",
       "\n",
       "    .dataframe thead th {\n",
       "        text-align: right;\n",
       "    }\n",
       "</style>\n",
       "<table border=\"1\" class=\"dataframe\">\n",
       "  <thead>\n",
       "    <tr style=\"text-align: right;\">\n",
       "      <th></th>\n",
       "      <th>Name of State / UT</th>\n",
       "      <th>lat</th>\n",
       "      <th>long</th>\n",
       "    </tr>\n",
       "  </thead>\n",
       "  <tbody>\n",
       "    <tr>\n",
       "      <th>0</th>\n",
       "      <td>Andaman And Nicobar</td>\n",
       "      <td>11.667026</td>\n",
       "      <td>92.735983</td>\n",
       "    </tr>\n",
       "    <tr>\n",
       "      <th>1</th>\n",
       "      <td>Andhra Pradesh</td>\n",
       "      <td>14.750429</td>\n",
       "      <td>78.570026</td>\n",
       "    </tr>\n",
       "    <tr>\n",
       "      <th>2</th>\n",
       "      <td>Arunachal Pradesh</td>\n",
       "      <td>27.100399</td>\n",
       "      <td>93.616601</td>\n",
       "    </tr>\n",
       "    <tr>\n",
       "      <th>3</th>\n",
       "      <td>Assam</td>\n",
       "      <td>26.749981</td>\n",
       "      <td>94.216667</td>\n",
       "    </tr>\n",
       "    <tr>\n",
       "      <th>4</th>\n",
       "      <td>Bihar</td>\n",
       "      <td>25.785414</td>\n",
       "      <td>87.479973</td>\n",
       "    </tr>\n",
       "    <tr>\n",
       "      <th>5</th>\n",
       "      <td>Chandigarh</td>\n",
       "      <td>30.719997</td>\n",
       "      <td>76.780006</td>\n",
       "    </tr>\n",
       "    <tr>\n",
       "      <th>6</th>\n",
       "      <td>Chhattisgarh</td>\n",
       "      <td>22.090420</td>\n",
       "      <td>82.159987</td>\n",
       "    </tr>\n",
       "    <tr>\n",
       "      <th>7</th>\n",
       "      <td>Dadra And Nagar Haveli</td>\n",
       "      <td>20.266578</td>\n",
       "      <td>73.016618</td>\n",
       "    </tr>\n",
       "    <tr>\n",
       "      <th>8</th>\n",
       "      <td>Delhi</td>\n",
       "      <td>28.669993</td>\n",
       "      <td>77.230004</td>\n",
       "    </tr>\n",
       "    <tr>\n",
       "      <th>9</th>\n",
       "      <td>Goa</td>\n",
       "      <td>15.491997</td>\n",
       "      <td>73.818001</td>\n",
       "    </tr>\n",
       "    <tr>\n",
       "      <th>10</th>\n",
       "      <td>Haryana</td>\n",
       "      <td>28.450006</td>\n",
       "      <td>77.019991</td>\n",
       "    </tr>\n",
       "    <tr>\n",
       "      <th>11</th>\n",
       "      <td>Himachal Pradesh</td>\n",
       "      <td>31.100025</td>\n",
       "      <td>77.166597</td>\n",
       "    </tr>\n",
       "    <tr>\n",
       "      <th>12</th>\n",
       "      <td>Union Territory of Jammu and Kashmir</td>\n",
       "      <td>33.450000</td>\n",
       "      <td>76.240000</td>\n",
       "    </tr>\n",
       "    <tr>\n",
       "      <th>13</th>\n",
       "      <td>Jharkhand</td>\n",
       "      <td>23.800393</td>\n",
       "      <td>86.419986</td>\n",
       "    </tr>\n",
       "    <tr>\n",
       "      <th>14</th>\n",
       "      <td>Karnataka</td>\n",
       "      <td>12.570381</td>\n",
       "      <td>76.919997</td>\n",
       "    </tr>\n",
       "    <tr>\n",
       "      <th>15</th>\n",
       "      <td>Kerala</td>\n",
       "      <td>8.900373</td>\n",
       "      <td>76.569993</td>\n",
       "    </tr>\n",
       "    <tr>\n",
       "      <th>16</th>\n",
       "      <td>Lakshadweep</td>\n",
       "      <td>10.562573</td>\n",
       "      <td>72.636867</td>\n",
       "    </tr>\n",
       "    <tr>\n",
       "      <th>17</th>\n",
       "      <td>Madhya Pradesh</td>\n",
       "      <td>21.300391</td>\n",
       "      <td>76.130019</td>\n",
       "    </tr>\n",
       "    <tr>\n",
       "      <th>18</th>\n",
       "      <td>Maharashtra</td>\n",
       "      <td>19.250232</td>\n",
       "      <td>73.160175</td>\n",
       "    </tr>\n",
       "    <tr>\n",
       "      <th>19</th>\n",
       "      <td>Manipur</td>\n",
       "      <td>24.799971</td>\n",
       "      <td>93.950017</td>\n",
       "    </tr>\n",
       "    <tr>\n",
       "      <th>20</th>\n",
       "      <td>Meghalaya</td>\n",
       "      <td>25.570492</td>\n",
       "      <td>91.880014</td>\n",
       "    </tr>\n",
       "    <tr>\n",
       "      <th>21</th>\n",
       "      <td>Mizoram</td>\n",
       "      <td>23.710399</td>\n",
       "      <td>92.720015</td>\n",
       "    </tr>\n",
       "    <tr>\n",
       "      <th>22</th>\n",
       "      <td>Nagaland</td>\n",
       "      <td>25.666998</td>\n",
       "      <td>94.116570</td>\n",
       "    </tr>\n",
       "    <tr>\n",
       "      <th>23</th>\n",
       "      <td>Orissa</td>\n",
       "      <td>19.820430</td>\n",
       "      <td>85.900017</td>\n",
       "    </tr>\n",
       "    <tr>\n",
       "      <th>24</th>\n",
       "      <td>Puducherry</td>\n",
       "      <td>11.934994</td>\n",
       "      <td>79.830000</td>\n",
       "    </tr>\n",
       "    <tr>\n",
       "      <th>25</th>\n",
       "      <td>Punjab</td>\n",
       "      <td>31.519974</td>\n",
       "      <td>75.980003</td>\n",
       "    </tr>\n",
       "    <tr>\n",
       "      <th>26</th>\n",
       "      <td>Rajasthan</td>\n",
       "      <td>26.449999</td>\n",
       "      <td>74.639981</td>\n",
       "    </tr>\n",
       "    <tr>\n",
       "      <th>27</th>\n",
       "      <td>Sikkim</td>\n",
       "      <td>27.333330</td>\n",
       "      <td>88.616647</td>\n",
       "    </tr>\n",
       "    <tr>\n",
       "      <th>28</th>\n",
       "      <td>Telengana</td>\n",
       "      <td>18.112400</td>\n",
       "      <td>79.019300</td>\n",
       "    </tr>\n",
       "    <tr>\n",
       "      <th>29</th>\n",
       "      <td>Tamil Nadu</td>\n",
       "      <td>12.920386</td>\n",
       "      <td>79.150042</td>\n",
       "    </tr>\n",
       "    <tr>\n",
       "      <th>30</th>\n",
       "      <td>Tripura</td>\n",
       "      <td>23.835404</td>\n",
       "      <td>91.279999</td>\n",
       "    </tr>\n",
       "    <tr>\n",
       "      <th>31</th>\n",
       "      <td>Uttar Pradesh</td>\n",
       "      <td>27.599981</td>\n",
       "      <td>78.050006</td>\n",
       "    </tr>\n",
       "    <tr>\n",
       "      <th>32</th>\n",
       "      <td>Uttarakhand</td>\n",
       "      <td>30.320409</td>\n",
       "      <td>78.050006</td>\n",
       "    </tr>\n",
       "    <tr>\n",
       "      <th>33</th>\n",
       "      <td>West Bengal</td>\n",
       "      <td>22.580390</td>\n",
       "      <td>88.329947</td>\n",
       "    </tr>\n",
       "    <tr>\n",
       "      <th>34</th>\n",
       "      <td>Union Territory of Ladakh</td>\n",
       "      <td>34.100000</td>\n",
       "      <td>77.340000</td>\n",
       "    </tr>\n",
       "  </tbody>\n",
       "</table>\n",
       "</div>"
      ],
      "text/plain": [
       "                      Name of State / UT        lat       long\n",
       "0                   Andaman And Nicobar   11.667026  92.735983\n",
       "1                         Andhra Pradesh  14.750429  78.570026\n",
       "2                     Arunachal Pradesh   27.100399  93.616601\n",
       "3                                 Assam   26.749981  94.216667\n",
       "4                                 Bihar   25.785414  87.479973\n",
       "5                            Chandigarh   30.719997  76.780006\n",
       "6                          Chhattisgarh   22.090420  82.159987\n",
       "7                Dadra And Nagar Haveli   20.266578  73.016618\n",
       "8                                  Delhi  28.669993  77.230004\n",
       "9                                   Goa   15.491997  73.818001\n",
       "10                               Haryana  28.450006  77.019991\n",
       "11                     Himachal Pradesh   31.100025  77.166597\n",
       "12  Union Territory of Jammu and Kashmir  33.450000  76.240000\n",
       "13                            Jharkhand   23.800393  86.419986\n",
       "14                             Karnataka  12.570381  76.919997\n",
       "15                                Kerala   8.900373  76.569993\n",
       "16                          Lakshadweep   10.562573  72.636867\n",
       "17                       Madhya Pradesh   21.300391  76.130019\n",
       "18                           Maharashtra  19.250232  73.160175\n",
       "19                              Manipur   24.799971  93.950017\n",
       "20                            Meghalaya   25.570492  91.880014\n",
       "21                              Mizoram   23.710399  92.720015\n",
       "22                             Nagaland   25.666998  94.116570\n",
       "23                               Orissa   19.820430  85.900017\n",
       "24                           Puducherry   11.934994  79.830000\n",
       "25                                Punjab  31.519974  75.980003\n",
       "26                             Rajasthan  26.449999  74.639981\n",
       "27                               Sikkim   27.333330  88.616647\n",
       "28                             Telengana  18.112400  79.019300\n",
       "29                            Tamil Nadu  12.920386  79.150042\n",
       "30                              Tripura   23.835404  91.279999\n",
       "31                         Uttar Pradesh  27.599981  78.050006\n",
       "32                           Uttarakhand  30.320409  78.050006\n",
       "33                          West Bengal   22.580390  88.329947\n",
       "34             Union Territory of Ladakh  34.100000  77.340000"
      ]
     },
     "execution_count": 16,
     "metadata": {},
     "output_type": "execute_result"
    }
   ],
   "source": [
    "df_cord=pd.read_excel(r'C:\\Users\\Joker\\Desktop\\COVID-19-Time-Series-Forecasting-with-Data-Analysis-master\\Indian Coordinates.xlsx')\n",
    "df_cord.head()\n",
    "df_cord.rename(columns={'Name of State / UT ' : 'state','Latitude':'lat','Longitude':'long'})"
   ]
  },
  {
   "cell_type": "code",
   "execution_count": 17,
   "metadata": {},
   "outputs": [
    {
     "data": {
      "text/html": [
       "<div>\n",
       "<style scoped>\n",
       "    .dataframe tbody tr th:only-of-type {\n",
       "        vertical-align: middle;\n",
       "    }\n",
       "\n",
       "    .dataframe tbody tr th {\n",
       "        vertical-align: top;\n",
       "    }\n",
       "\n",
       "    .dataframe thead th {\n",
       "        text-align: right;\n",
       "    }\n",
       "</style>\n",
       "<table border=\"1\" class=\"dataframe\">\n",
       "  <thead>\n",
       "    <tr style=\"text-align: right;\">\n",
       "      <th></th>\n",
       "      <th>Name of State / UT</th>\n",
       "      <th>Total Confirmed cases (Indian National)</th>\n",
       "      <th>Total Confirmed cases ( Foreign National )</th>\n",
       "      <th>Cured</th>\n",
       "      <th>Death</th>\n",
       "      <th>Total_Cases</th>\n",
       "      <th>Active_case</th>\n",
       "      <th>Latitude</th>\n",
       "      <th>Longitude</th>\n",
       "    </tr>\n",
       "  </thead>\n",
       "  <tbody>\n",
       "    <tr>\n",
       "      <th>0</th>\n",
       "      <td>Andhra Pradesh</td>\n",
       "      <td>12</td>\n",
       "      <td>0</td>\n",
       "      <td>1</td>\n",
       "      <td>0</td>\n",
       "      <td>12</td>\n",
       "      <td>11</td>\n",
       "      <td>14.750429</td>\n",
       "      <td>78.570026</td>\n",
       "    </tr>\n",
       "    <tr>\n",
       "      <th>1</th>\n",
       "      <td>Delhi</td>\n",
       "      <td>38</td>\n",
       "      <td>1</td>\n",
       "      <td>6</td>\n",
       "      <td>1</td>\n",
       "      <td>39</td>\n",
       "      <td>33</td>\n",
       "      <td>28.669993</td>\n",
       "      <td>77.230004</td>\n",
       "    </tr>\n",
       "    <tr>\n",
       "      <th>2</th>\n",
       "      <td>Haryana</td>\n",
       "      <td>16</td>\n",
       "      <td>14</td>\n",
       "      <td>11</td>\n",
       "      <td>0</td>\n",
       "      <td>30</td>\n",
       "      <td>19</td>\n",
       "      <td>28.450006</td>\n",
       "      <td>77.019991</td>\n",
       "    </tr>\n",
       "    <tr>\n",
       "      <th>3</th>\n",
       "      <td>Karnataka</td>\n",
       "      <td>20</td>\n",
       "      <td>0</td>\n",
       "      <td>3</td>\n",
       "      <td>2</td>\n",
       "      <td>20</td>\n",
       "      <td>17</td>\n",
       "      <td>12.570381</td>\n",
       "      <td>76.919997</td>\n",
       "    </tr>\n",
       "    <tr>\n",
       "      <th>4</th>\n",
       "      <td>Kerala</td>\n",
       "      <td>131</td>\n",
       "      <td>7</td>\n",
       "      <td>11</td>\n",
       "      <td>0</td>\n",
       "      <td>138</td>\n",
       "      <td>127</td>\n",
       "      <td>8.900373</td>\n",
       "      <td>76.569993</td>\n",
       "    </tr>\n",
       "    <tr>\n",
       "      <th>5</th>\n",
       "      <td>Maharashtra</td>\n",
       "      <td>144</td>\n",
       "      <td>3</td>\n",
       "      <td>15</td>\n",
       "      <td>4</td>\n",
       "      <td>147</td>\n",
       "      <td>132</td>\n",
       "      <td>19.250232</td>\n",
       "      <td>73.160175</td>\n",
       "    </tr>\n",
       "    <tr>\n",
       "      <th>6</th>\n",
       "      <td>Punjab</td>\n",
       "      <td>29</td>\n",
       "      <td>0</td>\n",
       "      <td>0</td>\n",
       "      <td>1</td>\n",
       "      <td>29</td>\n",
       "      <td>29</td>\n",
       "      <td>31.519974</td>\n",
       "      <td>75.980003</td>\n",
       "    </tr>\n",
       "    <tr>\n",
       "      <th>7</th>\n",
       "      <td>Rajasthan</td>\n",
       "      <td>41</td>\n",
       "      <td>2</td>\n",
       "      <td>3</td>\n",
       "      <td>0</td>\n",
       "      <td>43</td>\n",
       "      <td>40</td>\n",
       "      <td>26.449999</td>\n",
       "      <td>74.639981</td>\n",
       "    </tr>\n",
       "    <tr>\n",
       "      <th>8</th>\n",
       "      <td>Tamil Nadu</td>\n",
       "      <td>32</td>\n",
       "      <td>3</td>\n",
       "      <td>1</td>\n",
       "      <td>1</td>\n",
       "      <td>35</td>\n",
       "      <td>34</td>\n",
       "      <td>12.920386</td>\n",
       "      <td>79.150042</td>\n",
       "    </tr>\n",
       "    <tr>\n",
       "      <th>9</th>\n",
       "      <td>Telengana</td>\n",
       "      <td>34</td>\n",
       "      <td>11</td>\n",
       "      <td>1</td>\n",
       "      <td>0</td>\n",
       "      <td>45</td>\n",
       "      <td>44</td>\n",
       "      <td>18.112400</td>\n",
       "      <td>79.019300</td>\n",
       "    </tr>\n",
       "    <tr>\n",
       "      <th>10</th>\n",
       "      <td>Uttar Pradesh</td>\n",
       "      <td>42</td>\n",
       "      <td>1</td>\n",
       "      <td>11</td>\n",
       "      <td>0</td>\n",
       "      <td>43</td>\n",
       "      <td>32</td>\n",
       "      <td>27.599981</td>\n",
       "      <td>78.050006</td>\n",
       "    </tr>\n",
       "    <tr>\n",
       "      <th>11</th>\n",
       "      <td>Uttarakhand</td>\n",
       "      <td>4</td>\n",
       "      <td>0</td>\n",
       "      <td>0</td>\n",
       "      <td>0</td>\n",
       "      <td>4</td>\n",
       "      <td>4</td>\n",
       "      <td>30.320409</td>\n",
       "      <td>78.050006</td>\n",
       "    </tr>\n",
       "  </tbody>\n",
       "</table>\n",
       "</div>"
      ],
      "text/plain": [
       "   Name of State / UT  Total Confirmed cases (Indian National)  \\\n",
       "0      Andhra Pradesh                                       12   \n",
       "1               Delhi                                       38   \n",
       "2             Haryana                                       16   \n",
       "3           Karnataka                                       20   \n",
       "4              Kerala                                      131   \n",
       "5         Maharashtra                                      144   \n",
       "6              Punjab                                       29   \n",
       "7           Rajasthan                                       41   \n",
       "8          Tamil Nadu                                       32   \n",
       "9           Telengana                                       34   \n",
       "10      Uttar Pradesh                                       42   \n",
       "11        Uttarakhand                                        4   \n",
       "\n",
       "    Total Confirmed cases ( Foreign National )  Cured  Death  Total_Cases  \\\n",
       "0                                            0      1      0           12   \n",
       "1                                            1      6      1           39   \n",
       "2                                           14     11      0           30   \n",
       "3                                            0      3      2           20   \n",
       "4                                            7     11      0          138   \n",
       "5                                            3     15      4          147   \n",
       "6                                            0      0      1           29   \n",
       "7                                            2      3      0           43   \n",
       "8                                            3      1      1           35   \n",
       "9                                           11      1      0           45   \n",
       "10                                           1     11      0           43   \n",
       "11                                           0      0      0            4   \n",
       "\n",
       "    Active_case   Latitude  Longitude  \n",
       "0            11  14.750429  78.570026  \n",
       "1            33  28.669993  77.230004  \n",
       "2            19  28.450006  77.019991  \n",
       "3            17  12.570381  76.919997  \n",
       "4           127   8.900373  76.569993  \n",
       "5           132  19.250232  73.160175  \n",
       "6            29  31.519974  75.980003  \n",
       "7            40  26.449999  74.639981  \n",
       "8            34  12.920386  79.150042  \n",
       "9            44  18.112400  79.019300  \n",
       "10           32  27.599981  78.050006  \n",
       "11            4  30.320409  78.050006  "
      ]
     },
     "execution_count": 17,
     "metadata": {},
     "output_type": "execute_result"
    }
   ],
   "source": [
    "df_f=pd.merge(df,df_cord,on='Name of State / UT')\n",
    "df_f"
   ]
  },
  {
   "cell_type": "code",
   "execution_count": 29,
   "metadata": {},
   "outputs": [],
   "source": [
    "# created map visualization.\n",
    "map=folium.Map(location=[20,10],zoom_start=4,tiles='Stamenterrain')\n",
    "for lat,long,value,name in zip(df_f['Latitude'],df_f['Longitude'],df_f['Total_Cases'],df_f['Name of State / UT']):\n",
    "    folium.CircleMarker([lat, long], radius=value*0.3, popup = ('<strong>State</strong>: ' + str(name).capitalize() + '<br>''<strong>Total Cases</strong>: ' + str(value) + '<br>'),color='red',fill_color='red',fill_opacity=0.3 ).add_to(map)"
   ]
  },
  {
   "cell_type": "code",
   "execution_count": 31,
   "metadata": {},
   "outputs": [
    {
     "data": {
      "text/html": [
       "<div style=\"width:100%;\"><div style=\"position:relative;width:100%;height:0;padding-bottom:60%;\"><span style=\"color:#565656\">Make this Notebook Trusted to load map: File -> Trust Notebook</span><iframe src=\"about:blank\" style=\"position:absolute;width:100%;height:100%;left:0;top:0;border:none !important;\" data-html=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 onload=\"this.contentDocument.open();this.contentDocument.write(atob(this.getAttribute('data-html')));this.contentDocument.close();\" allowfullscreen webkitallowfullscreen mozallowfullscreen></iframe></div></div>"
      ],
      "text/plain": [
       "<folium.folium.Map at 0x2377195e280>"
      ]
     },
     "execution_count": 31,
     "metadata": {},
     "output_type": "execute_result"
    }
   ],
   "source": [
    "map"
   ]
  },
  {
   "cell_type": "code",
   "execution_count": null,
   "metadata": {},
   "outputs": [],
   "source": []
  }
 ],
 "metadata": {
  "kernelspec": {
   "display_name": "Python 3",
   "language": "python",
   "name": "python3"
  },
  "language_info": {
   "codemirror_mode": {
    "name": "ipython",
    "version": 3
   },
   "file_extension": ".py",
   "mimetype": "text/x-python",
   "name": "python",
   "nbconvert_exporter": "python",
   "pygments_lexer": "ipython3",
   "version": "3.8.3"
  }
 },
 "nbformat": 4,
 "nbformat_minor": 4
}
